{
 "cells": [
  {
   "cell_type": "markdown",
   "metadata": {},
   "source": [
    "<center><img src=\"img/python.png\" alt=\"drawing\" width=\"150\"/></center>"
   ]
  },
  {
   "cell_type": "markdown",
   "metadata": {
    "tags": []
   },
   "source": [
    "# Python Basics"
   ]
  },
  {
   "cell_type": "markdown",
   "metadata": {},
   "source": [
    "## Introduction"
   ]
  },
  {
   "cell_type": "markdown",
   "metadata": {},
   "source": [
    "Programming is the process of creating a set of instructions that tell a computer how to perform a task. It is done through the use of programming languages which are formal languages, comprising a set of instructions that produce various kinds of outputs, used to implement algorithms.\n",
    "\n",
    "The binary representation, is the language computer processors natively speak, and it is usually called machine code. Machine code is any low-level programming language, consisting of machine language instructions, which is used to control a computer's central processing unit. In these notebooks, we will not focus on machine code at all, but we will instead focus on (human-readable) code. \n",
    "\n",
    "Programming languages are easy and efficient for programmers because they are closer to natural languages than the machine code. They consist of instructions for computers. These instructions are collected in files usually refered as source code which is any collection of code, with or without comments, written using a human-readable programming language, usually as plain text. The source code of a program is specially designed to facilitate the work of computer programmers, who specify the actions to be performed by a computer mostly by writing source code. The source code is often transformed by an assembler or compiler into binary machine code that can be executed by the computer. The machine code might then be stored for execution at a later time. Alternatively, source code may be interpreted and thus immediately executed.\n",
    "\n",
    "Python is a high-level, general-purpose programming language developed by Guido van Rossum in the late 1980s. Its design philosophy emphasizes code readability with the use of significant indentation. It is dynamically-typed and garbage-collected. It supports multiple programming paradigms, including structured (particularly procedural), object-oriented and functional programming. It is often described as a \"batteries included\" language due to its comprehensive standard library. Python consistently ranks as one of the most popular programming languages used for web development, software development, mathematics, system scripting, and many more.\n",
    "\n",
    "Python works on different platforms (Windows, Mac, Linux, Raspberry Pi, etc) and has a simple syntax similar to the English language. It has syntax that allows developers to write programs with fewer lines than some other programming languages. It runs on an interpreter system, meaning that code can be executed as soon as it is written. This means that prototyping can be very quick. It can be treated in a procedural way, an object-oriented way or a functional way.\n",
    "\n",
    "The most recent major version of Python is Python 3, which we shall be using in this notebook."
   ]
  },
  {
   "cell_type": "markdown",
   "metadata": {
    "tags": []
   },
   "source": [
    "## Installation"
   ]
  },
  {
   "cell_type": "markdown",
   "metadata": {},
   "source": [
    "The best way to install python is through a python version management. In this notebook I will use pyenv."
   ]
  },
  {
   "cell_type": "markdown",
   "metadata": {},
   "source": [
    "### Pyenv"
   ]
  },
  {
   "cell_type": "markdown",
   "metadata": {},
   "source": [
    "Pyenv, previously known as Pythonbrew, is a python version management tool that lets you install multiple Python versions, change the global Python version, set project (directory) specific Python versions, and create and manage virtual python environments (virtualenvs).\n",
    "\n",
    "Pyenv and pyenv-virtualenv can be simply installed via homebrew:\n",
    "\n",
    "```\n",
    "brew install pyenv\n",
    "brew install pyenv-virtualenv\n",
    "```\n",
    "\n",
    "Once installed, one can see all available versions able to be installed with:\n",
    "\n",
    "```\n",
    "pyenv install --list\n",
    "```\n",
    "\n",
    "and install one or multiple versions with:\n",
    "\n",
    "```\n",
    "pyenv install <version>\n",
    "```\n",
    "\n",
    "In order to see all versions installed via pyenv:\n",
    "\n",
    "```\n",
    "pyenv versions\n",
    "```\n",
    "\n",
    "Once a python version is installed it can be set as the global (default) version by:\n",
    "\n",
    "```\n",
    "pyenv global <version>\n",
    "```\n",
    "\n",
    "or locally to a specific project (directory), which overrides the global version when in directory, by `cd` to the directory of the project and:\n",
    "\n",
    "```\n",
    "pyenv local <version>\n",
    "```\n",
    "\n",
    "A version is set in a hidden `.python-version` file within the directory. One can see the current version along with information on how it was set by:\n",
    "\n",
    "```\n",
    "pyenv version\n",
    "```\n",
    "\n",
    "or see the path of the python version used by:\n",
    "\n",
    "```\n",
    "pyenv which python\n",
    "```\n",
    "\n",
    "Last but not least, one can uninstall a version simply by:\n",
    "\n",
    "```\n",
    "pyenv uninstall <version>\n",
    "```"
   ]
  },
  {
   "cell_type": "markdown",
   "metadata": {},
   "source": [
    "### Pyenv-Virtualenv"
   ]
  },
  {
   "cell_type": "markdown",
   "metadata": {},
   "source": [
    "Through pyenv-virtualenv one can install and manage different python environments for different python versions. In order to create a virtual environment using a specific (already installed via `pyenv`) Python version:\n",
    "\n",
    "```\n",
    "pyenv virtualenv <version> <virtualenv>\n",
    "```\n",
    "\n",
    "Similarly to pyenv, in oder to see all available enviroments installed via pyenv-virtualenv:\n",
    "\n",
    "```\n",
    "pyenv virtualenvs\n",
    "```\n",
    "\n",
    "Once a virtualenv is installed it can be set as the global virtualenv by:\n",
    "\n",
    "```\n",
    "pyenv global <virtualenv>\n",
    "```\n",
    "\n",
    "or locally by:\n",
    "\n",
    "```\n",
    "pyenv local <virtualenv>\n",
    "```\n",
    "\n",
    "Finally, a virtualenv can be uninstalled simply by:\n",
    "\n",
    "```\n",
    "pyenv uninstall <virtualenv>\n",
    "```"
   ]
  },
  {
   "cell_type": "markdown",
   "metadata": {
    "tags": []
   },
   "source": [
    "## Syntax"
   ]
  },
  {
   "cell_type": "markdown",
   "metadata": {},
   "source": [
    "Just like spoken languages, programming languages have statements which are syntactic units that expresses some action to be carried out."
   ]
  },
  {
   "cell_type": "code",
   "execution_count": 1,
   "metadata": {},
   "outputs": [],
   "source": [
    "# An assignment statement which says that a variable named a has the number 5 stored in it\n",
    "a = 5\n",
    "\n",
    "# A series of statements, expressing more complex things\n",
    "a = 5\n",
    "b = 10\n",
    "c = a + b"
   ]
  },
  {
   "cell_type": "markdown",
   "metadata": {},
   "source": [
    "A program written in a programming language is formed by a sequence of one or more statements that follow a set of rules called syntax. More formally, syntax is the set of rules that govern the structure and composition of statements in a language. \n",
    "\n",
    "A statement may have internal components called expressions which are syntactic entities that may be evaluated to determine the value of a statement. An expressions is a combination of one or more constants, operators, and variables, that the programming language interprets and computes to return another value. Let's see all of these concepts in more detail."
   ]
  },
  {
   "cell_type": "markdown",
   "metadata": {},
   "source": [
    "### Indentation"
   ]
  },
  {
   "cell_type": "markdown",
   "metadata": {},
   "source": [
    "Indentation refers to the spaces at the beginning of a code line. Where in other programming languages the indentation in code is for readability only, the indentation in Python is very important. Python uses indentation to indicate a block of code. The number of spaces is up to you as a programmer, the most common use is four, but it has to be at least one. However you have to use the same number of spaces in the same block of code, otherwise Python will give you an error. "
   ]
  },
  {
   "cell_type": "markdown",
   "metadata": {},
   "source": [
    "### Comments"
   ]
  },
  {
   "cell_type": "markdown",
   "metadata": {},
   "source": [
    "Comments start with a `#`, and Python will render the rest of the line as a comment. Comments can be used to explain Python code, to make the code more readable, and to prevent execution when testing code. Python does not really have a syntax for multi line comments. To add a multiline comment you could insert a `#` for each line."
   ]
  },
  {
   "cell_type": "markdown",
   "metadata": {},
   "source": [
    "### Constants"
   ]
  },
  {
   "cell_type": "markdown",
   "metadata": {},
   "source": [
    "A constant is a value that should not be altered by the program during normal execution. When associated with an identifier, a constant is said to be \"named\", although the terms \"constant\" and \"named constant\" are often used interchangeably. Constants are useful for both programmers and compilers: For programmers they are a form of self-documenting code and allow reasoning about correctness, while for compilers they allow compile-time and run-time checks that verify that constancy assumptions are not violated, and allow or simplify some compiler optimizations."
   ]
  },
  {
   "cell_type": "markdown",
   "metadata": {
    "tags": []
   },
   "source": [
    "### Operators"
   ]
  },
  {
   "cell_type": "markdown",
   "metadata": {
    "tags": []
   },
   "source": [
    "An operator is a symbol that tells the compiler to perform specific mathematical or logical manipulations. Python divides the operators in the following groups."
   ]
  },
  {
   "cell_type": "markdown",
   "metadata": {},
   "source": [
    "* **Arithmetic Operators** used with numeric values to perform common mathematical operations.\n",
    "    * Addition: `+`\n",
    "    * Subtraction: `-`\n",
    "    * Multiplication: `*`\n",
    "    * Division: `/`\n",
    "    * Modulus: `%`\n",
    "    * Exponantiation: `**`\n",
    "    * Floor division: `//`"
   ]
  },
  {
   "cell_type": "markdown",
   "metadata": {},
   "source": [
    "* **Assignment Operators** used to assign values to variables.\n",
    "    * Assign: `=`\n",
    "    * Add And Assign: `+=`\n",
    "    * Subtract And Assign: `-=`\n",
    "    * Multiply And Assign: `*=`\n",
    "    * Divide And Assign: `/=`\n",
    "    * Modules And Assign: `%=`\n",
    "    * Exponantiation And Assign:`**=`\n",
    "    * Flood Division And Assign: `//=`"
   ]
  },
  {
   "cell_type": "markdown",
   "metadata": {},
   "source": [
    "* **Comparison Operators** used to compare two values.\n",
    "    * Equal `==`\n",
    "    * Not Equal `!=`\n",
    "    * Greater Than `>`\n",
    "    * Less Than `<`\n",
    "    * Greater Than Or Equal To `>=`\n",
    "    * Less Than Or Equal To `<=`\n",
    "    \n",
    "These conditions can be used in several ways, most commonly in `if statements` and `loops` which we will see later."
   ]
  },
  {
   "cell_type": "markdown",
   "metadata": {},
   "source": [
    "* **Logical Operators** used to combine conditional statements.\n",
    "    * `and` (returns `True` if both statements are true)\n",
    "    * `or` (returns `True` if one of the statements is true)\n",
    "    * `not` (returns `False` if the result is true)"
   ]
  },
  {
   "cell_type": "markdown",
   "metadata": {},
   "source": [
    "* **Identity Operators** used to compare the objects, not if they are equal, but if they are actually the same object, with the same memory location.\n",
    "    * `is` (returns `True` if both variables are the same object)\n",
    "    * `is not` (returns `True` if both variables are not the same object)"
   ]
  },
  {
   "cell_type": "markdown",
   "metadata": {},
   "source": [
    "* **Membership Operators** used to test if a sequence is presented in an object.\n",
    "    * `in` (returns `True` if a sequence with the specified value is present in the object)\n",
    "    * `not in` (returns `True` if a sequence with the specified value is not present in the object)"
   ]
  },
  {
   "cell_type": "markdown",
   "metadata": {},
   "source": [
    "* **Bitwise Operators** used to compare binary numbers.\n",
    "    * AND: `&` (sets each bit to 1 if both bits are 1)\n",
    "    * OR: `|` (sets each bit to 1 if one of two bits is 1)\n",
    "    * XOR: `^` (sets each bit to 1 if only one of two bits is 1)\n",
    "    * NOT: `~` (inverts all the bits)\n",
    "    * Zero fill left: `<<`  (shift left by pushing zeros in from the right and let the leftmost bits fall off)\n",
    "    * Signed right shift: `>>` (shift right by pushing copies of the leftmost bit in from the left, and let the rightmost bits fall off)"
   ]
  },
  {
   "cell_type": "markdown",
   "metadata": {},
   "source": [
    "### Variables"
   ]
  },
  {
   "cell_type": "markdown",
   "metadata": {
    "jp-MarkdownHeadingCollapsed": true
   },
   "source": [
    "A variable is an abstract storage location paired with an associated symbolic name, which contains some known or unknown quantity of information referred to as a value. In simple terms, a variable is a container for a particular set of bits or type of data. A variable can eventually be associated with or identified by a memory address. The variable name is the usual way to reference the stored value, in addition to referring to the variable itself, depending on the context. This separation of name and content allows the name to be used independently of the exact information it represents. The identifier in computer source code can be bound to a value during run time, and the value of the variable may thus change during the course of program execution.\n",
    "\n",
    "Python has no command for declaring a variable. A variable is created the moment you first assign a value to it. Variables do not need to be declared with any particular type, and can even change type after they have been set. Variable names are case-sensitive.\n",
    "A variable can have a short name (like `x` and `y`) or a more descriptive name (`age`, `carname`, `total_volume`). However there are some specific rules for Python variables:\n",
    "* A variable name must start with a letter or the underscore character.\n",
    "* A variable name cannot start with a number.\n",
    "* A variable name can only contain alpha-numeric characters and underscores (`A-z`, `0-9`, and `_`).\n",
    "* Variable names are case-sensitive (`age`, `Age` and `AGE` are three different variables).\n",
    "\n",
    "Variable names with more than one word can be difficult to read. There are several techniques you can use to make them more readable:\n",
    "* **Camel Case**, where each word, except the first, starts with a capital letter:\n",
    "\n",
    "```\n",
    "myVariableName = \"John\"\n",
    "```\n",
    "\n",
    "* **Pascal Case**, where each word starts with a capital letter:\n",
    "\n",
    "```\n",
    "MyVariableName = \"John\"\n",
    "```\n",
    "\n",
    "* **Snake Case**, where each word is separated by an underscore character:\n",
    "\n",
    "```\n",
    "my_variable_name = \"John\"\n",
    "```"
   ]
  },
  {
   "cell_type": "markdown",
   "metadata": {
    "tags": []
   },
   "source": [
    "## Data Types"
   ]
  },
  {
   "cell_type": "markdown",
   "metadata": {},
   "source": [
    "In computer science and computer programming, a \"data type\" (or simply \"type\") is a set of possible values and a set of allowed operations on it. A data type tells the compiler or interpreter how the programmer intends to use the data. A data type constrains the possible values that an expression, such as a variable or a function, might take. This data type defines the operations that can be done on the data, the meaning of the data, and the way values of that type can be stored. Python has the following data types built-in by default, in these categories:\n",
    "\n",
    "* **Text Type**: `str`\n",
    "* **Numeric Types**: `int`, `float`, `complex`\n",
    "* **Sequence Types**: `list`, `tuple`, `range`\n",
    "* **Mapping Type**: `dict`\n",
    "* **Set Types**: `set`, `frozenset`\n",
    "* **Boolean Type**: `bool`\n",
    "* **Binary Types**: `bytes`, `bytearray`, `memoryview`\n",
    "* **None Type**: `NoneType`\n",
    "\n",
    "In Python, the data type is set when you assign a value to a variable."
   ]
  },
  {
   "cell_type": "markdown",
   "metadata": {},
   "source": [
    "### Numeric Types"
   ]
  },
  {
   "cell_type": "markdown",
   "metadata": {},
   "source": [
    "There are three numeric types in Python:\n",
    "\n",
    "* `int`: Int, or integer, is a whole number, positive or negative, without decimals, of unlimited length.\n",
    "* `float`: Float, or \"floating point number\" is a number, positive or negative, containing one or more decimals.\n",
    "* `complex`: Complex numbers are written with a \"j\" as the imaginary part (rarely used)\n",
    "\n",
    "Variables of numeric types are created when you assign a value to them:"
   ]
  },
  {
   "cell_type": "code",
   "execution_count": 2,
   "metadata": {},
   "outputs": [
    {
     "data": {
      "text/plain": [
       "(1, 2.8, 1j)"
      ]
     },
     "execution_count": 2,
     "metadata": {},
     "output_type": "execute_result"
    }
   ],
   "source": [
    "# int\n",
    "x = 1    \n",
    "\n",
    "# float\n",
    "y = 2.8  \n",
    "\n",
    "# complex\n",
    "z = 1j   \n",
    "\n",
    "x,y,z"
   ]
  },
  {
   "cell_type": "markdown",
   "metadata": {},
   "source": [
    "To verify the type of any object in Python, use the `type()` function:"
   ]
  },
  {
   "cell_type": "code",
   "execution_count": 3,
   "metadata": {},
   "outputs": [
    {
     "data": {
      "text/plain": [
       "(int, float, complex)"
      ]
     },
     "execution_count": 3,
     "metadata": {},
     "output_type": "execute_result"
    }
   ],
   "source": [
    "type(x), type(y), type(z)"
   ]
  },
  {
   "cell_type": "markdown",
   "metadata": {},
   "source": [
    "You can convert from one type to another with the `int()`, `float()`, and `complex()` methods (note that you cannot convert complex numbers into another number type):"
   ]
  },
  {
   "cell_type": "code",
   "execution_count": 4,
   "metadata": {},
   "outputs": [
    {
     "data": {
      "text/plain": [
       "(float, int, complex)"
      ]
     },
     "execution_count": 4,
     "metadata": {},
     "output_type": "execute_result"
    }
   ],
   "source": [
    "# convert from int to float\n",
    "a = float(x)\n",
    "\n",
    "# convert from float to int:\n",
    "b = int(y)\n",
    "\n",
    "# convert from int to complex:\n",
    "c = complex(x)\n",
    "\n",
    "type(a), type(b), type(c)"
   ]
  },
  {
   "cell_type": "markdown",
   "metadata": {},
   "source": [
    "The usual mathematic operations can be performed in Python by making use of the arithmetic operators we introduced."
   ]
  },
  {
   "cell_type": "code",
   "execution_count": 5,
   "metadata": {
    "tags": []
   },
   "outputs": [
    {
     "data": {
      "text/plain": [
       "(3, -1, 2, 0.5, 1, 1)"
      ]
     },
     "execution_count": 5,
     "metadata": {},
     "output_type": "execute_result"
    }
   ],
   "source": [
    "# usual operations\n",
    "1 + 2, 1 - 2, 1 * 2, 1 / 2, 1 % 2, 1 ** 2"
   ]
  },
  {
   "cell_type": "code",
   "execution_count": 6,
   "metadata": {
    "tags": []
   },
   "outputs": [
    {
     "data": {
      "text/plain": [
       "(2, 0)"
      ]
     },
     "execution_count": 6,
     "metadata": {},
     "output_type": "execute_result"
    }
   ],
   "source": [
    "# get both quotient and remainder at the same time\n",
    "q,r = divmod(10,5)\n",
    "q,r"
   ]
  },
  {
   "cell_type": "markdown",
   "metadata": {
    "tags": []
   },
   "source": [
    "### Text Types (Strings)"
   ]
  },
  {
   "cell_type": "markdown",
   "metadata": {},
   "source": [
    "There is just one text type in Python: `str`. Like many other popular programming languages, strings in Python are arrays of bytes representing unicode characters. However, Python does not have a character data type, a single character is simply a string with a length of 1.\n",
    "\n",
    "Strings in python are surrounded by either single quotation marks, or double quotation marks."
   ]
  },
  {
   "cell_type": "code",
   "execution_count": 7,
   "metadata": {},
   "outputs": [
    {
     "data": {
      "text/plain": [
       "'Hello World'"
      ]
     },
     "execution_count": 7,
     "metadata": {},
     "output_type": "execute_result"
    }
   ],
   "source": [
    "a = \"Hello World\"\n",
    "a"
   ]
  },
  {
   "cell_type": "markdown",
   "metadata": {},
   "source": [
    "You can assign a multiline string to a variable by using three quotes (in the result, the line breaks are inserted at the same position as in the code):"
   ]
  },
  {
   "cell_type": "code",
   "execution_count": 8,
   "metadata": {},
   "outputs": [
    {
     "name": "stdout",
     "output_type": "stream",
     "text": [
      "Lorem ipsum dolor sit amet,\n",
      "consectetur adipiscing elit,\n",
      "sed do eiusmod tempor incididunt\n",
      "ut labore et dolore magna aliqua.\n"
     ]
    }
   ],
   "source": [
    "b = \"\"\"Lorem ipsum dolor sit amet,\n",
    "consectetur adipiscing elit,\n",
    "sed do eiusmod tempor incididunt\n",
    "ut labore et dolore magna aliqua.\"\"\"\n",
    "\n",
    "print(b)"
   ]
  },
  {
   "cell_type": "markdown",
   "metadata": {},
   "source": [
    "Square brackets can be used to access elements of the string (first letter index is 0) or slicing."
   ]
  },
  {
   "cell_type": "code",
   "execution_count": 9,
   "metadata": {},
   "outputs": [
    {
     "name": "stdout",
     "output_type": "stream",
     "text": [
      "e\n",
      "d\n",
      "ell\n"
     ]
    }
   ],
   "source": [
    "a = \"Hello, World!\"\n",
    "print(a[1])\n",
    "\n",
    "# access element from the end. (here last letter is 1)\n",
    "print(a[-2])\n",
    "\n",
    "# slicing: access more than one element (leave blanck for beggining or end)\n",
    "print(a[1:4])"
   ]
  },
  {
   "cell_type": "markdown",
   "metadata": {},
   "source": [
    "To get the length of a string, use the `len()` function."
   ]
  },
  {
   "cell_type": "code",
   "execution_count": 10,
   "metadata": {},
   "outputs": [
    {
     "data": {
      "text/plain": [
       "13"
      ]
     },
     "execution_count": 10,
     "metadata": {},
     "output_type": "execute_result"
    }
   ],
   "source": [
    "a = \"Hello, World!\"\n",
    "len(a)"
   ]
  },
  {
   "cell_type": "markdown",
   "metadata": {},
   "source": [
    "To check if a certain phrase or character is present in a string, we can use the keyword `in` and similarly to check if a certain phrase or character is NOT present in a string, we can use the keyword `not in`."
   ]
  },
  {
   "cell_type": "code",
   "execution_count": 11,
   "metadata": {},
   "outputs": [
    {
     "name": "stdout",
     "output_type": "stream",
     "text": [
      "True\n",
      "True\n"
     ]
    }
   ],
   "source": [
    "txt = \"The best things in life are free!\"\n",
    "print(\"free\" in txt)\n",
    "print(\"expensive\" not in txt)"
   ]
  },
  {
   "cell_type": "markdown",
   "metadata": {},
   "source": [
    "To concatenate, or combine, two strings you can use the `+` operator."
   ]
  },
  {
   "cell_type": "code",
   "execution_count": 12,
   "metadata": {},
   "outputs": [
    {
     "data": {
      "text/plain": [
       "'Hello World'"
      ]
     },
     "execution_count": 12,
     "metadata": {},
     "output_type": "execute_result"
    }
   ],
   "source": [
    "a = \"Hello\"\n",
    "b = \"World\"\n",
    "c = a + \" \" + b\n",
    "c"
   ]
  },
  {
   "cell_type": "markdown",
   "metadata": {},
   "source": [
    "We cannot combine strings and numbers with the `+` operator. Another way we can combine strings and numbers is by using the `format()` method, which takes the passed arguments, formats them, and places them in the string where the placeholders `{}` are."
   ]
  },
  {
   "cell_type": "code",
   "execution_count": 13,
   "metadata": {},
   "outputs": [
    {
     "data": {
      "text/plain": [
       "'My name is John, and I am 36'"
      ]
     },
     "execution_count": 13,
     "metadata": {},
     "output_type": "execute_result"
    }
   ],
   "source": [
    "name = 'John'\n",
    "age = 36\n",
    "txt = \"My name is {}, and I am {}\".format(name, age)\n",
    "txt"
   ]
  },
  {
   "cell_type": "markdown",
   "metadata": {},
   "source": [
    "However the most pythonic way to do so is through the so called \"f-strings\". Also called \"string literals\", f-strings are string literals that have an `f` at the beginning and curly braces containing expressions that will be replaced with their values. The expressions are evaluated at runtime and then formatted using the `__format__` protocol."
   ]
  },
  {
   "cell_type": "code",
   "execution_count": 14,
   "metadata": {},
   "outputs": [
    {
     "data": {
      "text/plain": [
       "'My name is John, and I am 36'"
      ]
     },
     "execution_count": 14,
     "metadata": {},
     "output_type": "execute_result"
    }
   ],
   "source": [
    "name = 'John'\n",
    "age = 36\n",
    "txt = f\"My name is {name}, and I am {age}\"\n",
    "txt"
   ]
  },
  {
   "cell_type": "markdown",
   "metadata": {},
   "source": [
    "To insert characters that are illegal in a string, use an escape character, which is a backslash `\\` followed by the character you want to insert. Here follows the full list of available escape charactes.\n",
    "\n",
    "* Single Quote: `\\'` \n",
    "* Backslash: `\\\\` \n",
    "* New Line: `\\n` \n",
    "* Carriage Return: `\\r`\n",
    "* Tab: `\\t`\n",
    "* Backspace: `\\b`\n",
    "* Form Feed: `\\f`\n",
    "* Octal Value: `\\ooo`\n",
    "* Hex Value: `\\xhh`"
   ]
  },
  {
   "cell_type": "markdown",
   "metadata": {},
   "source": [
    "[Here is a list](https://www.w3schools.com/python/python_ref_string.asp) with all available methods of the `str` object."
   ]
  },
  {
   "cell_type": "markdown",
   "metadata": {},
   "source": [
    "### Boolean Types"
   ]
  },
  {
   "cell_type": "markdown",
   "metadata": {},
   "source": [
    "In programming you often need to know if an expression is true or false. \"Booleans\" represent one of these two values: `True` or `False`. You can evaluate any expression in Python, and get one of the two answers. When you compare two values, the expression is evaluated and Python returns the Boolean answer.\n",
    "\n",
    "From Python's perspective, boolenas are defined as objects with the data type `bool`."
   ]
  },
  {
   "cell_type": "code",
   "execution_count": 15,
   "metadata": {},
   "outputs": [
    {
     "name": "stdout",
     "output_type": "stream",
     "text": [
      "True\n",
      "False\n",
      "False\n"
     ]
    }
   ],
   "source": [
    "print(10 > 9)\n",
    "print(10 == 9)\n",
    "print(10 < 9)"
   ]
  },
  {
   "cell_type": "markdown",
   "metadata": {},
   "source": [
    "In Python almost any value is evaluated to `True` if it has some sort of content. For example, any string is `True`, except empty strings. Similarly any number is `True`, except 0. Any list, tuple, set, and dictionary (we will see all of them in a while) are `True`, except empty ones."
   ]
  },
  {
   "cell_type": "markdown",
   "metadata": {},
   "source": [
    "Python also has many built-in functions that return a boolean value. The most important one is the `isinstance()` function, which can be used to determine if an object is of a certain data type."
   ]
  },
  {
   "cell_type": "code",
   "execution_count": 16,
   "metadata": {},
   "outputs": [
    {
     "data": {
      "text/plain": [
       "True"
      ]
     },
     "execution_count": 16,
     "metadata": {},
     "output_type": "execute_result"
    }
   ],
   "source": [
    "x = 200\n",
    "isinstance(x, int)"
   ]
  },
  {
   "cell_type": "markdown",
   "metadata": {},
   "source": [
    "### Sequence Types"
   ]
  },
  {
   "cell_type": "markdown",
   "metadata": {},
   "source": [
    "There are four collection data types in the Python programming language:\n",
    "* **List** is a collection which is ordered and changeable. Allows duplicate members.\n",
    "* **Tuple** is a collection which is ordered and unchangeable. Allows duplicate members.\n",
    "* **Set** is a collection which is unordered, unchangeable*, and unindexed. No duplicate members.\n",
    "* **Dictionary** is a collection which is ordered** and changeable. No duplicate members."
   ]
  },
  {
   "cell_type": "markdown",
   "metadata": {},
   "source": [
    "#### Lists"
   ]
  },
  {
   "cell_type": "markdown",
   "metadata": {},
   "source": [
    "Lists are one of the 4 built-in data types in Python used to store multiple items in a single variable. List items are: \n",
    "* **Ordered**: Items have a defined order, and that order will not change (there are some list methods that will change the order, but in general the order of the items will not change). If you add new items to a list, the new items will be placed at the end of the list.\n",
    "* **Changeable**: We can change, add, and remove items in a list after it has been created.\n",
    "* **Allow Duplicate Values**: Since lists are indexed, lists can have items with the same value.\n",
    "\n",
    "Last but not least, list items can be of any data type. A list can even contain different data types. From Python's perspective, lists are defined as objects with the data type `list`.\n",
    "\n",
    "Lists are created using square brackets."
   ]
  },
  {
   "cell_type": "code",
   "execution_count": 17,
   "metadata": {},
   "outputs": [
    {
     "data": {
      "text/plain": [
       "['apple', 'banana', 'cherry', 'banana']"
      ]
     },
     "execution_count": 17,
     "metadata": {},
     "output_type": "execute_result"
    }
   ],
   "source": [
    "fruits = [\"apple\", \"banana\", \"cherry\", \"banana\"]\n",
    "fruits"
   ]
  },
  {
   "cell_type": "markdown",
   "metadata": {},
   "source": [
    "Each list item is indexed with the first item having index 0, the second item index 1 etc. Each item can be accessed by referring to the index number. (Negative Indexing and Slicing also applies to lists)"
   ]
  },
  {
   "cell_type": "code",
   "execution_count": 18,
   "metadata": {},
   "outputs": [
    {
     "data": {
      "text/plain": [
       "('banana', 'banana')"
      ]
     },
     "execution_count": 18,
     "metadata": {},
     "output_type": "execute_result"
    }
   ],
   "source": [
    "fruits[1], fruits[-1]"
   ]
  },
  {
   "cell_type": "markdown",
   "metadata": {
    "tags": []
   },
   "source": [
    "To change the value of a specific item, refer to the index number."
   ]
  },
  {
   "cell_type": "code",
   "execution_count": 19,
   "metadata": {
    "tags": []
   },
   "outputs": [],
   "source": [
    "fruits[1] = \"watermellon\""
   ]
  },
  {
   "cell_type": "markdown",
   "metadata": {},
   "source": [
    "To determine how many items a list has, use the `len()` function (same as in strings)."
   ]
  },
  {
   "cell_type": "code",
   "execution_count": 20,
   "metadata": {},
   "outputs": [
    {
     "data": {
      "text/plain": [
       "4"
      ]
     },
     "execution_count": 20,
     "metadata": {},
     "output_type": "execute_result"
    }
   ],
   "source": [
    "len(fruits)"
   ]
  },
  {
   "cell_type": "markdown",
   "metadata": {},
   "source": [
    "To determine if a specified item is present in a list use the `in` keyword."
   ]
  },
  {
   "cell_type": "code",
   "execution_count": 21,
   "metadata": {},
   "outputs": [
    {
     "data": {
      "text/plain": [
       "True"
      ]
     },
     "execution_count": 21,
     "metadata": {},
     "output_type": "execute_result"
    }
   ],
   "source": [
    "\"apple\" in fruits"
   ]
  },
  {
   "cell_type": "markdown",
   "metadata": {},
   "source": [
    "[Here is a list](https://www.w3schools.com/python/python_ref_list.asp) with all available methods of the `list` object."
   ]
  },
  {
   "cell_type": "markdown",
   "metadata": {},
   "source": [
    "##### List Comprehension"
   ]
  },
  {
   "cell_type": "markdown",
   "metadata": {},
   "source": [
    "List comprehension offers a shorter syntax when you want to create a new list based on the values of an existing list. The syntax is the following:\n",
    "\n",
    "```\n",
    "newlist = [expression for item in iterable (if condition)]\n",
    "```\n",
    "\n",
    "Every list comprehension in Python includes the following elements:\n",
    "* **expression** is the member itself, a call to a method, or any other valid expression that returns a value.\n",
    "* **item** is the object or value in the list or iterable.\n",
    "* **iterable** is a list, set, sequence, generator, or any other object that can return its elements one at a time.\n",
    "* **condition** is optional and allow list comprehensions to filter out unwanted values.\n",
    "\n",
    "The return value is a new list, leaving the old list unchanged. "
   ]
  },
  {
   "cell_type": "code",
   "execution_count": 22,
   "metadata": {},
   "outputs": [
    {
     "data": {
      "text/plain": [
       "[0, 1, 2, 3, 4, 5, 6, 7, 8, 9]"
      ]
     },
     "execution_count": 22,
     "metadata": {},
     "output_type": "execute_result"
    }
   ],
   "source": [
    "[x for x in range(10)]"
   ]
  },
  {
   "cell_type": "code",
   "execution_count": 23,
   "metadata": {},
   "outputs": [
    {
     "data": {
      "text/plain": [
       "[0.0, 1.0, 2.0, 3.0, 4.0]"
      ]
     },
     "execution_count": 23,
     "metadata": {},
     "output_type": "execute_result"
    }
   ],
   "source": [
    "[float(x) for x in range(10) if x < 5]"
   ]
  },
  {
   "cell_type": "markdown",
   "metadata": {},
   "source": [
    "You can place the condition at the end of the statement for simple filtering, but what if you want to change a member value instead of filtering it out? In this case, it’s useful to place the condition near the beginning of the expression\n",
    "\n",
    "```\n",
    "new_list = [expression_if (if condition else expression_else) for member in iterable]\n",
    "```\n",
    "\n",
    "With this formula, you can use conditional logic to select from multiple possible output options."
   ]
  },
  {
   "cell_type": "code",
   "execution_count": 24,
   "metadata": {},
   "outputs": [
    {
     "data": {
      "text/plain": [
       "[0, 1, 2, 3, 4, 0, 0, 0, 0, 0]"
      ]
     },
     "execution_count": 24,
     "metadata": {},
     "output_type": "execute_result"
    }
   ],
   "source": [
    "[x if x < 5 else 0 for x in range(10)]"
   ]
  },
  {
   "cell_type": "markdown",
   "metadata": {},
   "source": [
    "You can use items of a list to create a new list."
   ]
  },
  {
   "cell_type": "code",
   "execution_count": 25,
   "metadata": {},
   "outputs": [
    {
     "data": {
      "text/plain": [
       "['BANANA', 'CHERRY', 'KIWI', 'MANGO']"
      ]
     },
     "execution_count": 25,
     "metadata": {},
     "output_type": "execute_result"
    }
   ],
   "source": [
    "fruits = [\"apple\", \"banana\", \"cherry\", \"kiwi\", \"mango\"]\n",
    "fruits_with_no_apples_capital = [x.upper() for x in fruits if x != \"apple\"]\n",
    "fruits_with_no_apples_capital"
   ]
  },
  {
   "cell_type": "markdown",
   "metadata": {},
   "source": [
    "#### Tuples"
   ]
  },
  {
   "cell_type": "markdown",
   "metadata": {
    "tags": []
   },
   "source": [
    "Tuples are one of the 4 built-in data types in Python used to store multiple items in a single variable. Tuple items are:\n",
    "* **Ordered**: Items have a defined order, and that order will not change.\n",
    "* **Unchangeable**: We cannot change, add or remove items after the tuple has been created.\n",
    "* **Allow Duplicate Values**: Since tuples are indexed, tuples can have items with the same value.\n",
    "\n",
    "Last but not least, tuple items can be of any data type. A tuple can even contain different data types. From Python's perspective, tuples are defined as objects with the data type `tuple`.\n",
    "\n",
    "Tuples are written with round brackets."
   ]
  },
  {
   "cell_type": "code",
   "execution_count": 26,
   "metadata": {
    "tags": []
   },
   "outputs": [
    {
     "data": {
      "text/plain": [
       "('apple', 'banana', 'cherry', 'apple', 'cherry')"
      ]
     },
     "execution_count": 26,
     "metadata": {},
     "output_type": "execute_result"
    }
   ],
   "source": [
    "fruits = (\"apple\", \"banana\", \"cherry\", \"apple\", \"cherry\")\n",
    "fruits"
   ]
  },
  {
   "cell_type": "markdown",
   "metadata": {},
   "source": [
    "Each tuple item is indexed with the first item having index 0, the second item index 1 etc. Each item can be accessed by referring to the index number. (Negative Indexing and Slicing also applies to tuples)"
   ]
  },
  {
   "cell_type": "code",
   "execution_count": 27,
   "metadata": {},
   "outputs": [
    {
     "data": {
      "text/plain": [
       "('banana', 'cherry')"
      ]
     },
     "execution_count": 27,
     "metadata": {},
     "output_type": "execute_result"
    }
   ],
   "source": [
    "fruits[1], fruits[-1]"
   ]
  },
  {
   "cell_type": "markdown",
   "metadata": {},
   "source": [
    "One can unpack a tuple with tuple unpacking as follows."
   ]
  },
  {
   "cell_type": "code",
   "execution_count": 28,
   "metadata": {
    "tags": []
   },
   "outputs": [
    {
     "name": "stdout",
     "output_type": "stream",
     "text": [
      "apple banana cherry apple cherry\n"
     ]
    }
   ],
   "source": [
    "x1, x2, x3, x4, x5 = fruits\n",
    "print(x1, x2, x3, x4, x5)"
   ]
  },
  {
   "cell_type": "markdown",
   "metadata": {},
   "source": [
    "To determine how many items a tuple has, use the `len()` function (same as in strings and lists)."
   ]
  },
  {
   "cell_type": "code",
   "execution_count": 29,
   "metadata": {},
   "outputs": [
    {
     "data": {
      "text/plain": [
       "5"
      ]
     },
     "execution_count": 29,
     "metadata": {},
     "output_type": "execute_result"
    }
   ],
   "source": [
    "len(fruits)"
   ]
  },
  {
   "cell_type": "markdown",
   "metadata": {},
   "source": [
    "To determine if a specified item is present in a tuple use the `in` keyword."
   ]
  },
  {
   "cell_type": "code",
   "execution_count": 30,
   "metadata": {},
   "outputs": [
    {
     "data": {
      "text/plain": [
       "True"
      ]
     },
     "execution_count": 30,
     "metadata": {},
     "output_type": "execute_result"
    }
   ],
   "source": [
    "\"apple\" in fruits"
   ]
  },
  {
   "cell_type": "markdown",
   "metadata": {},
   "source": [
    "[Here is a list](https://www.w3schools.com/python/python_ref_tuple.asp) with all available methods of the `tuple` object."
   ]
  },
  {
   "cell_type": "markdown",
   "metadata": {},
   "source": [
    "#### Sets"
   ]
  },
  {
   "cell_type": "markdown",
   "metadata": {
    "tags": []
   },
   "source": [
    "Sets are one of the 4 built-in data types in Python used to store multiple items in a single variable. Sets items are:\n",
    "* **Unrdered**: Items do not have a defined order. They can appear in a different order every time you use them, and cannot be referred to by index or key.\n",
    "* **Unchangeable**: We cannot change, add or remove items after the tuple has been created.\n",
    "* **Duplicates Not Allowed**: Since sets are not indexed, sets cannot have items with the same value.\n",
    "\n",
    "Last but not least, set items can be of any data type. A set can even contain different data types. From Python's perspective, sets are defined as objects with the data type `set`.\n",
    "\n",
    "Sets are written with curly brackets."
   ]
  },
  {
   "cell_type": "code",
   "execution_count": 31,
   "metadata": {},
   "outputs": [
    {
     "data": {
      "text/plain": [
       "{'apple', 'banana', 'cherry'}"
      ]
     },
     "execution_count": 31,
     "metadata": {},
     "output_type": "execute_result"
    }
   ],
   "source": [
    "fruits = {\"apple\", \"banana\", \"cherry\", \"apple\", \"cherry\"}\n",
    "fruits"
   ]
  },
  {
   "cell_type": "markdown",
   "metadata": {},
   "source": [
    "Since sets are not indexed, you cannot access items in a set by referring to an index or a key. This makes them quite useless for every day purposes, and for that reason sets are not that much used. In what follows we will ignore them."
   ]
  },
  {
   "cell_type": "markdown",
   "metadata": {},
   "source": [
    "To determine how many items a set has, use the `len()` function (same as in strings, lists and tuples)."
   ]
  },
  {
   "cell_type": "code",
   "execution_count": 32,
   "metadata": {},
   "outputs": [
    {
     "data": {
      "text/plain": [
       "3"
      ]
     },
     "execution_count": 32,
     "metadata": {},
     "output_type": "execute_result"
    }
   ],
   "source": [
    "len(fruits)"
   ]
  },
  {
   "cell_type": "markdown",
   "metadata": {},
   "source": [
    "To determine if a specified item is present in a set use the `in` keyword."
   ]
  },
  {
   "cell_type": "code",
   "execution_count": 33,
   "metadata": {},
   "outputs": [
    {
     "data": {
      "text/plain": [
       "True"
      ]
     },
     "execution_count": 33,
     "metadata": {},
     "output_type": "execute_result"
    }
   ],
   "source": [
    "\"apple\" in fruits"
   ]
  },
  {
   "cell_type": "markdown",
   "metadata": {},
   "source": [
    "[Here is a list](https://www.w3schools.com/python/python_ref_set.asp) with all available methods of the `set` object."
   ]
  },
  {
   "cell_type": "markdown",
   "metadata": {
    "tags": []
   },
   "source": [
    "##### Set Comprehension"
   ]
  },
  {
   "cell_type": "markdown",
   "metadata": {},
   "source": [
    "Set comprehensions are pretty similar to list comprehensions. The only difference between them is that set comprehensions use curly brackets `{}`. Let’s look at the following example to understand set comprehensions."
   ]
  },
  {
   "cell_type": "code",
   "execution_count": 34,
   "metadata": {},
   "outputs": [
    {
     "data": {
      "text/plain": [
       "{0, 1, 2, 3, 4}"
      ]
     },
     "execution_count": 34,
     "metadata": {},
     "output_type": "execute_result"
    }
   ],
   "source": [
    "{x if x < 5 else 0 for x in range(10)}"
   ]
  },
  {
   "cell_type": "markdown",
   "metadata": {
    "tags": []
   },
   "source": [
    "#### Dictionaries"
   ]
  },
  {
   "cell_type": "markdown",
   "metadata": {
    "tags": []
   },
   "source": [
    "Dictionaries are one of the 4 built-in data types in Python used to store multiple items in a single variable. Dictionaries items are:\n",
    "* **Ordered**: Items have a defined order, and that order will not change.\n",
    "* **Changeable**: We can change, add or remove items after the dictionary has been created.\n",
    "* **Duplicates Not Allowed**: We cannot have items with the same pair of key, value.\n",
    "\n",
    "Last but not least, tuple items can be of any data type. A tuple can even contain different data types. From Python's perspective, tuples are defined as objects with the data type `dict`.\n",
    "\n",
    "Dictionaries are written with curly brackets, and have keys and values."
   ]
  },
  {
   "cell_type": "code",
   "execution_count": 35,
   "metadata": {},
   "outputs": [
    {
     "data": {
      "text/plain": [
       "{'brand': 'Ford', 'model': 'Mustang', 'year': 1964}"
      ]
     },
     "execution_count": 35,
     "metadata": {},
     "output_type": "execute_result"
    }
   ],
   "source": [
    "cars = {\n",
    "  \"brand\": \"Ford\",\n",
    "  \"model\": \"Mustang\",\n",
    "  \"year\": 1964\n",
    "}\n",
    "cars"
   ]
  },
  {
   "cell_type": "markdown",
   "metadata": {},
   "source": [
    "Dictionary items are presented in \"key:value\" pairs. You can access the items of a dictionary by referring to its key name, inside square brackets."
   ]
  },
  {
   "cell_type": "code",
   "execution_count": 36,
   "metadata": {},
   "outputs": [
    {
     "data": {
      "text/plain": [
       "'Mustang'"
      ]
     },
     "execution_count": 36,
     "metadata": {},
     "output_type": "execute_result"
    }
   ],
   "source": [
    "cars['model']"
   ]
  },
  {
   "cell_type": "markdown",
   "metadata": {},
   "source": [
    "There is also a method called `get()` that will give you the same result."
   ]
  },
  {
   "cell_type": "code",
   "execution_count": 37,
   "metadata": {},
   "outputs": [
    {
     "data": {
      "text/plain": [
       "'Mustang'"
      ]
     },
     "execution_count": 37,
     "metadata": {},
     "output_type": "execute_result"
    }
   ],
   "source": [
    "cars.get('model')"
   ]
  },
  {
   "cell_type": "markdown",
   "metadata": {
    "tags": []
   },
   "source": [
    "To change the value of a specific item, or create a new one, simply refer to the key."
   ]
  },
  {
   "cell_type": "code",
   "execution_count": 38,
   "metadata": {
    "tags": []
   },
   "outputs": [
    {
     "data": {
      "text/plain": [
       "{'brand': 'Ford', 'model': 'Ferari', 'year': 1964, 'color': 'red'}"
      ]
     },
     "execution_count": 38,
     "metadata": {},
     "output_type": "execute_result"
    }
   ],
   "source": [
    "cars['model'] = \"Ferari\"\n",
    "cars['color'] = 'red'\n",
    "cars"
   ]
  },
  {
   "cell_type": "markdown",
   "metadata": {
    "tags": []
   },
   "source": [
    "The `keys()` method will return a list of all the keys in the dictionary. The list of the keys is a view of the dictionary, meaning that any changes done to the dictionary will be reflected in the keys list."
   ]
  },
  {
   "cell_type": "code",
   "execution_count": 39,
   "metadata": {
    "tags": []
   },
   "outputs": [
    {
     "data": {
      "text/plain": [
       "dict_keys(['brand', 'model', 'year', 'color'])"
      ]
     },
     "execution_count": 39,
     "metadata": {},
     "output_type": "execute_result"
    }
   ],
   "source": [
    "cars.keys()"
   ]
  },
  {
   "cell_type": "markdown",
   "metadata": {},
   "source": [
    "The `values()` method will return a list of all the values in the dictionary.\n",
    "The list of the values is a view of the dictionary, meaning that any changes done to the dictionary will be reflected in the values list."
   ]
  },
  {
   "cell_type": "code",
   "execution_count": 40,
   "metadata": {},
   "outputs": [
    {
     "data": {
      "text/plain": [
       "dict_values(['Ford', 'Ferari', 1964, 'red'])"
      ]
     },
     "execution_count": 40,
     "metadata": {},
     "output_type": "execute_result"
    }
   ],
   "source": [
    "cars.values()"
   ]
  },
  {
   "cell_type": "markdown",
   "metadata": {},
   "source": [
    "The `items()` method will return each item in a dictionary, as tuples in a list.\n",
    "The returned list is a view of the items of the dictionary, meaning that any changes done to the dictionary will be reflected in the items list."
   ]
  },
  {
   "cell_type": "code",
   "execution_count": 41,
   "metadata": {},
   "outputs": [
    {
     "data": {
      "text/plain": [
       "dict_items([('brand', 'Ford'), ('model', 'Ferari'), ('year', 1964), ('color', 'red')])"
      ]
     },
     "execution_count": 41,
     "metadata": {},
     "output_type": "execute_result"
    }
   ],
   "source": [
    "cars.items()"
   ]
  },
  {
   "cell_type": "markdown",
   "metadata": {},
   "source": [
    "To determine how many items a dictionary has, use the `len()` function (same as in strings, lists, tuples and sets)."
   ]
  },
  {
   "cell_type": "code",
   "execution_count": 42,
   "metadata": {},
   "outputs": [
    {
     "data": {
      "text/plain": [
       "4"
      ]
     },
     "execution_count": 42,
     "metadata": {},
     "output_type": "execute_result"
    }
   ],
   "source": [
    "len(cars)"
   ]
  },
  {
   "cell_type": "markdown",
   "metadata": {},
   "source": [
    "To determine if a specified key is present in a dictionary use the `in` keyword."
   ]
  },
  {
   "cell_type": "code",
   "execution_count": 43,
   "metadata": {},
   "outputs": [
    {
     "data": {
      "text/plain": [
       "True"
      ]
     },
     "execution_count": 43,
     "metadata": {},
     "output_type": "execute_result"
    }
   ],
   "source": [
    "\"color\" in cars"
   ]
  },
  {
   "cell_type": "markdown",
   "metadata": {},
   "source": [
    "[Here is a list](https://www.w3schools.com/python/python_ref_dictionary.asp) with all available methods of the `dict` object."
   ]
  },
  {
   "cell_type": "markdown",
   "metadata": {},
   "source": [
    "##### Dictionary Comprehension\n"
   ]
  },
  {
   "cell_type": "markdown",
   "metadata": {},
   "source": [
    "Dictionary comprehensions are similar to set comprehensions, with the additional requirement of defining a key. You can create a dictionary comprehension by using curly braces instead of brackets."
   ]
  },
  {
   "cell_type": "code",
   "execution_count": 44,
   "metadata": {},
   "outputs": [
    {
     "data": {
      "text/plain": [
       "{0: 0, 1: 1, 2: 4, 3: 9, 4: 16, 5: 25, 6: 36, 7: 49, 8: 64, 9: 81}"
      ]
     },
     "execution_count": 44,
     "metadata": {},
     "output_type": "execute_result"
    }
   ],
   "source": [
    "{i: i * i for i in range(10)}"
   ]
  },
  {
   "cell_type": "markdown",
   "metadata": {},
   "source": [
    "## Control Flow Statements"
   ]
  },
  {
   "cell_type": "markdown",
   "metadata": {},
   "source": [
    "A program starts at the first statement and runs down one at a time until it hits the end. One can alter this behaviour by making use of the so called control flow statements. A control flow statement is a statement that results in a choice being made as to which of two or more paths to follow. There are several control flow statement types."
   ]
  },
  {
   "cell_type": "markdown",
   "metadata": {
    "tags": []
   },
   "source": [
    "### Conditional Expressions"
   ]
  },
  {
   "cell_type": "markdown",
   "metadata": {},
   "source": [
    "Conditional expressions are features of a programming language which perform different computations or actions depending on whether a programmer-specified boolean condition evaluates to true or false."
   ]
  },
  {
   "cell_type": "markdown",
   "metadata": {},
   "source": [
    "#### If-Then-Else"
   ]
  },
  {
   "cell_type": "markdown",
   "metadata": {
    "tags": []
   },
   "source": [
    "The most used conditional expression is the ``If-Then-Else`` statement which is executed once, a conditional path is chosen, and the program moves on. It decides whether certain statements need to be executed or not. It checks for a given condition, if the condition is true, then the set of code present inside the `if` block will be executed otherwise not.\n",
    "\n",
    "An if statement is written by using the `if` keyword and its general form is:\n",
    "\n",
    "```\n",
    "if condition_1:                     \n",
    "    statement_block_1\n",
    "elif condition_2:\n",
    "    statement_block_2\n",
    "elif condition_3:\n",
    "    statement_block_3\n",
    "        ...    \n",
    "else:\n",
    "    statement_block_n\n",
    "```\n",
    "\n",
    "The `elif` keyword is pythons way of saying \"if the previous conditions were not true, then try this condition\". The `else` keyword catches anything which isn't caught by the preceding conditions. \n",
    "\n",
    "An if statement can have multiple `elif` but only one `if` and one `else`. In some cases we only need just one single `if` and we do not need `elif` or `else`.\n",
    "\n",
    "Important: Python relies on indentation to define scope in the code (other programming languages often use curly-brackets for this purpose). if statement without indentation will raise an error."
   ]
  },
  {
   "cell_type": "code",
   "execution_count": 45,
   "metadata": {},
   "outputs": [
    {
     "name": "stdout",
     "output_type": "stream",
     "text": [
      "a is greater than b\n"
     ]
    }
   ],
   "source": [
    "a = 200\n",
    "b = 33\n",
    "if b > a:\n",
    "    print(\"b is greater than a\")\n",
    "elif a == b:\n",
    "    print(\"a and b are equal\")\n",
    "else:\n",
    "    print(\"a is greater than b\")"
   ]
  },
  {
   "cell_type": "markdown",
   "metadata": {},
   "source": [
    "You can have if statements inside if statements, this is called \"nested if statements\"."
   ]
  },
  {
   "cell_type": "code",
   "execution_count": 46,
   "metadata": {},
   "outputs": [
    {
     "name": "stdout",
     "output_type": "stream",
     "text": [
      "Above ten,\n",
      "and also above 20!\n"
     ]
    }
   ],
   "source": [
    "x = 41\n",
    "if x > 10:\n",
    "    print(\"Above ten,\")\n",
    "    if x > 20:\n",
    "        print(\"and also above 20!\")\n",
    "    else:\n",
    "        print(\"but not above 20.\")"
   ]
  },
  {
   "cell_type": "markdown",
   "metadata": {
    "tags": []
   },
   "source": [
    "\"If statements\" cannot be empty, but if you for some reason have an if statement with no content, put in the `pass` statement to avoid getting an error."
   ]
  },
  {
   "cell_type": "code",
   "execution_count": 47,
   "metadata": {},
   "outputs": [],
   "source": [
    "a = 33\n",
    "b = 200\n",
    "if b > a:\n",
    "    pass"
   ]
  },
  {
   "cell_type": "markdown",
   "metadata": {},
   "source": [
    "##### Ternary Opeator"
   ]
  },
  {
   "cell_type": "markdown",
   "metadata": {},
   "source": [
    "A Ternary Operator is usually formed as: \n",
    "\n",
    "```\n",
    "condition ? statement_1 : statement_2\n",
    "```\n",
    "\n",
    "In Python this is done by the following One-Liner technique:\n",
    "\n",
    "```\n",
    "statement_1 if condition else statement_2\n",
    "```"
   ]
  },
  {
   "cell_type": "code",
   "execution_count": 48,
   "metadata": {
    "tags": []
   },
   "outputs": [
    {
     "data": {
      "text/plain": [
       "'B'"
      ]
     },
     "execution_count": 48,
     "metadata": {},
     "output_type": "execute_result"
    }
   ],
   "source": [
    "x = 5\n",
    "y = \"A\" if x>10 else \"B\"\n",
    "y"
   ]
  },
  {
   "cell_type": "markdown",
   "metadata": {
    "tags": []
   },
   "source": [
    "### Conditional Loops"
   ]
  },
  {
   "cell_type": "markdown",
   "metadata": {
    "tags": []
   },
   "source": [
    "To repeat some statements many times, we need to create a conditional loop. Conditional loops are a way for computer programs to repeat one or more various steps depending on conditions set either by the programmer initially or real-time by the actual program.\n",
    "\n",
    "Loops are important in Python or in any other programming language as they help you to execute a block of code repeatedly. You will often come face to face with situations where you would need to use a piece of code over and over but you don't want to write the same line of code multiple times.\n",
    "\n",
    "Python has two primitive loop commands:\n",
    "* `while` loops\n",
    "* `for` loops"
   ]
  },
  {
   "cell_type": "markdown",
   "metadata": {},
   "source": [
    "#### While Loop"
   ]
  },
  {
   "cell_type": "markdown",
   "metadata": {},
   "source": [
    "A ``while`` loop checks condition for truthfulness before executing any of the code in the loop. If condition is initially false, the code inside the loop will never be executed. With the while loop we can execute a set of statements as long as a condition is true. A while loop is written by using the `while` keyword and its general form is:\n",
    "\n",
    "```\n",
    "while condition_:                  \n",
    "    statement_block_while\n",
    "else:\n",
    "    statement_block_else\n",
    "```\n",
    "\n",
    "With the `else` statement we can run a block of code once when the condition no longer is true."
   ]
  },
  {
   "cell_type": "code",
   "execution_count": 49,
   "metadata": {},
   "outputs": [
    {
     "name": "stdout",
     "output_type": "stream",
     "text": [
      "1\n",
      "2\n",
      "3\n",
      "4\n",
      "5\n",
      "The End!\n"
     ]
    }
   ],
   "source": [
    "i = 1\n",
    "while i < 6:\n",
    "    print(i)\n",
    "    i += 1\n",
    "else:\n",
    "    print(\"The End!\")"
   ]
  },
  {
   "cell_type": "markdown",
   "metadata": {},
   "source": [
    "With the `continue` statement we can stop the current iteration, and continue with the next.\n",
    "With the `break` statement we can stop the loop even if the while condition is true. "
   ]
  },
  {
   "cell_type": "code",
   "execution_count": 50,
   "metadata": {
    "tags": []
   },
   "outputs": [
    {
     "name": "stdout",
     "output_type": "stream",
     "text": [
      "1\n",
      "2\n",
      "4\n",
      "5\n"
     ]
    }
   ],
   "source": [
    "i = 1\n",
    "while i < 6:\n",
    "    if i == 3: # continue to the next iteration if i is 3\n",
    "        i += 1\n",
    "        continue\n",
    "    print(i)\n",
    "    if i==5: # break the loop if i is 5\n",
    "        break\n",
    "    i += 1"
   ]
  },
  {
   "cell_type": "markdown",
   "metadata": {},
   "source": [
    "#### For Loop"
   ]
  },
  {
   "cell_type": "markdown",
   "metadata": {
    "jp-MarkdownHeadingCollapsed": true,
    "tags": []
   },
   "source": [
    "A ``for`` loop is used for iterating over a sequence (that is either a list, a tuple, a dictionary, a set, or a string). This is less like the `for` keyword in other programming languages, and works more like an iterator method as found in other object-orientated programming languages. With the for loop we can execute a set of statements, once for each item in a list, tuple, set etc. The for loop is constructed with the `for` keyword and its general form is:\n",
    "\n",
    "```\n",
    "for variable in sequence:           \n",
    "    statement_block_for\n",
    "else:\n",
    "    statement_block_else\n",
    "```\n",
    "\n",
    "With the `else` statement we can run a block of code once when the loop is over.\n",
    "\n",
    "In contrast to while loop, the for loop does not require an indexing variable to set beforehand. To loop through a set of code a specified number of times, we can use the `range()` function. The `range()` function returns a sequence of numbers, starting from 0 by default, and increments by 1 (by default), and ends at a specified number."
   ]
  },
  {
   "cell_type": "code",
   "execution_count": 51,
   "metadata": {},
   "outputs": [
    {
     "name": "stdout",
     "output_type": "stream",
     "text": [
      "0\n",
      "1\n",
      "2\n",
      "3\n",
      "4\n"
     ]
    }
   ],
   "source": [
    "for i in range(5):\n",
    "    print(i)"
   ]
  },
  {
   "cell_type": "markdown",
   "metadata": {},
   "source": [
    "Note that `range(6)` is not the values of 0 to 6, but the values 0 to 5. The `range()` function defaults to 0 as a starting value, however it is possible to specify the starting value by adding a parameter: `range(2, 6)`, which means values from 2 to 6 (but not including 6). Finally, the `range()` function defaults to increment the sequence by 1, however it is possible to specify the increment value by adding a third parameter: `range(2, 30, 3)`."
   ]
  },
  {
   "cell_type": "code",
   "execution_count": 52,
   "metadata": {},
   "outputs": [
    {
     "name": "stdout",
     "output_type": "stream",
     "text": [
      "2\n",
      "5\n",
      "8\n",
      "11\n",
      "14\n"
     ]
    }
   ],
   "source": [
    "for i in range(2, 15, 3):\n",
    "    print(i)"
   ]
  },
  {
   "cell_type": "markdown",
   "metadata": {},
   "source": [
    "A nested loop is a loop inside a loop. The \"inner loop\" will be executed one time for each iteration of the \"outer loop\"."
   ]
  },
  {
   "cell_type": "code",
   "execution_count": 53,
   "metadata": {},
   "outputs": [
    {
     "name": "stdout",
     "output_type": "stream",
     "text": [
      "0 0\n",
      "0 1\n",
      "1 0\n",
      "1 1\n",
      "2 0\n",
      "2 1\n"
     ]
    }
   ],
   "source": [
    "for i in range(3):\n",
    "    for j in range(2):\n",
    "        print(i,j)"
   ]
  },
  {
   "cell_type": "markdown",
   "metadata": {},
   "source": [
    "As with while loop, with the `break` statement we can stop the loop before it has looped through all the items, and with the `continue` statement we can stop the current iteration of the loop, and continue with the next. Note that the `else` block will NOT be executed if the loop is stopped by a `break` statement. Last but not least, as with if statement, for loops cannot be empty, but if you for some reason have a for loop with no content, put in the `pass` statement to avoid getting an error.\n",
    "\n",
    "For loop is one of the most important concepts in Python, since by using it one can make many interesting and useful stuff. Let's see some of the most important oanes."
   ]
  },
  {
   "cell_type": "markdown",
   "metadata": {},
   "source": [
    "##### Iterating Through Iterables"
   ]
  },
  {
   "cell_type": "markdown",
   "metadata": {
    "jp-MarkdownHeadingCollapsed": true,
    "tags": []
   },
   "source": [
    "An iterator is an object that contains a countable number of values that can be iterated upon, meaning that you can traverse through all the values. Technically, in Python, an iterator is an object which implements the iterator protocol. Strings, lists, tuples, dictionaries, and sets are all iterable objects. They are iterable containers which you can get an iterator from.\n",
    "\n",
    "One can iterate through the values of iterable objects using a for loop. \n",
    "\n",
    "Starting with strings, they are iterable objects since they contain a sequence of characters. We can loop through the letters of a string using a for loop."
   ]
  },
  {
   "cell_type": "code",
   "execution_count": 54,
   "metadata": {},
   "outputs": [
    {
     "name": "stdout",
     "output_type": "stream",
     "text": [
      "b\n",
      "a\n",
      "n\n",
      "a\n",
      "n\n",
      "a\n"
     ]
    }
   ],
   "source": [
    "for letter in \"banana\":\n",
    "    print(letter)"
   ]
  },
  {
   "cell_type": "markdown",
   "metadata": {},
   "source": [
    "Similary we can go through the items of a list or a tuple."
   ]
  },
  {
   "cell_type": "code",
   "execution_count": 55,
   "metadata": {},
   "outputs": [
    {
     "name": "stdout",
     "output_type": "stream",
     "text": [
      "apple\n",
      "banana\n",
      "cherry\n"
     ]
    }
   ],
   "source": [
    "fruits = [\"apple\", \"banana\", \"cherry\"]\n",
    "for fruit in fruits:\n",
    "    print(fruit)"
   ]
  },
  {
   "cell_type": "code",
   "execution_count": 56,
   "metadata": {},
   "outputs": [
    {
     "name": "stdout",
     "output_type": "stream",
     "text": [
      "apple\n",
      "banana\n",
      "cherry\n"
     ]
    }
   ],
   "source": [
    "fruits = (\"apple\", \"banana\", \"cherry\")\n",
    "for fruit in fruits:\n",
    "    print(fruit)"
   ]
  },
  {
   "cell_type": "markdown",
   "metadata": {},
   "source": [
    "We can also iterate though the values and the index of a list using the `enumerate` function."
   ]
  },
  {
   "cell_type": "code",
   "execution_count": 57,
   "metadata": {
    "tags": []
   },
   "outputs": [
    {
     "name": "stdout",
     "output_type": "stream",
     "text": [
      "0 apple\n",
      "1 banana\n",
      "2 cherry\n"
     ]
    }
   ],
   "source": [
    "fruits = [\"apple\", \"banana\", \"cherry\"]\n",
    "for index, fruit in enumerate(fruits):\n",
    "    print(index, fruit)"
   ]
  },
  {
   "cell_type": "markdown",
   "metadata": {},
   "source": [
    "Using a nested for loop we can iterate through two lists (or tuples):"
   ]
  },
  {
   "cell_type": "code",
   "execution_count": 58,
   "metadata": {},
   "outputs": [
    {
     "name": "stdout",
     "output_type": "stream",
     "text": [
      "red apple\n",
      "red banana\n",
      "red cherry\n",
      "big apple\n",
      "big banana\n",
      "big cherry\n",
      "tasty apple\n",
      "tasty banana\n",
      "tasty cherry\n"
     ]
    }
   ],
   "source": [
    "adjectives = [\"red\", \"big\", \"tasty\"]\n",
    "fruits = [\"apple\", \"banana\", \"cherry\"]\n",
    "\n",
    "for adjective in adjectives:\n",
    "    for fruit in fruits:\n",
    "        print(adjective, fruit)"
   ]
  },
  {
   "cell_type": "markdown",
   "metadata": {},
   "source": [
    "Note in nested for loop, how each adjective was combined with each fruit. This is becase the for loop is not element-wise. In case one want to create an element-wise for loop, she has to use the `zip()` function."
   ]
  },
  {
   "cell_type": "code",
   "execution_count": 59,
   "metadata": {},
   "outputs": [
    {
     "name": "stdout",
     "output_type": "stream",
     "text": [
      "red apple\n",
      "big banana\n",
      "tasty cherry\n"
     ]
    }
   ],
   "source": [
    "adjectives = [\"red\", \"big\", \"tasty\"]\n",
    "fruits = [\"apple\", \"banana\", \"cherry\"]\n",
    "\n",
    "for adjective, fruit in zip(adjectives, fruits):\n",
    "        print(adjective, fruit)"
   ]
  },
  {
   "cell_type": "markdown",
   "metadata": {
    "tags": []
   },
   "source": [
    "Finally, we can iterate over the keys and values of a dictionary. Although there are a couple of ways to do that, the most Pythonic and up to date way to do so is the following."
   ]
  },
  {
   "cell_type": "code",
   "execution_count": 60,
   "metadata": {
    "tags": []
   },
   "outputs": [
    {
     "name": "stdout",
     "output_type": "stream",
     "text": [
      "brand Ford\n",
      "model Mustang\n",
      "year 1964\n"
     ]
    }
   ],
   "source": [
    "cars = {\n",
    "  \"brand\": \"Ford\",\n",
    "  \"model\": \"Mustang\",\n",
    "  \"year\": 1964\n",
    "}\n",
    "\n",
    "for k,v in cars.items():\n",
    "    print(k,v)"
   ]
  },
  {
   "cell_type": "markdown",
   "metadata": {},
   "source": [
    "One can iterate over only keys or values by the following."
   ]
  },
  {
   "cell_type": "code",
   "execution_count": 61,
   "metadata": {
    "tags": []
   },
   "outputs": [
    {
     "name": "stdout",
     "output_type": "stream",
     "text": [
      "brand\n",
      "model\n",
      "year\n",
      "Ford\n",
      "Mustang\n",
      "1964\n"
     ]
    }
   ],
   "source": [
    "for k in cars:\n",
    "    print(k)\n",
    "    \n",
    "for v in cars.values():\n",
    "    print(v)"
   ]
  },
  {
   "cell_type": "markdown",
   "metadata": {
    "tags": []
   },
   "source": [
    "## Functions"
   ]
  },
  {
   "cell_type": "markdown",
   "metadata": {},
   "source": [
    "In programming languages, a function, or routine, or subroutine, or subprogram or method, or procedure, is a portion of code within a larger program, which is a sequence of program instructions that performs a specific task, and is relatively independent of the remaining code. This unit can then be used in programs wherever that particular task should be performed. \n",
    "\n",
    "Functions may be defined within programs, or separately in libraries that can be used by many programs. In different programming languages, a function may be called a routine, subprogram, subroutine, method, or procedure. Technically, these terms all have different definitions, and the nomenclature varies from language to language. The generic umbrella term callable unit is sometimes used.\n",
    "\n",
    "A function is often coded so that it can be started several times and from several places during one execution of the program, including from other functions, and then branch back (return) to the next instruction after the call, once the function's task is done.\n",
    "\n",
    "In Python, the keyword `def` followed by the function name and a parenthesis is used to define a function. The statements that form the body of the function must either continue on the same line or start on the next line and be indented. To call a function, use the function name followed by parenthesis. "
   ]
  },
  {
   "cell_type": "code",
   "execution_count": 62,
   "metadata": {},
   "outputs": [
    {
     "name": "stdout",
     "output_type": "stream",
     "text": [
      "Hello World!\n"
     ]
    }
   ],
   "source": [
    "def my_function():\n",
    "    print(\"Hello World!\")\n",
    "\n",
    "my_function()"
   ]
  },
  {
   "cell_type": "markdown",
   "metadata": {},
   "source": [
    "Information can be passed into functions as arguments (or args in Python lingo). Arguments are specified after the function name, inside the parentheses. You can add as many arguments as you want, just separate them with a comma. Sometimes arguments might be called parameters. The terms parameter and argument can be used for the same thing: information that are passed into a function. From a function's perspective a parameter is the variable listed inside the parentheses in the function definition. An argument is the value that is sent to the function when it is called. \n",
    "\n",
    "By default, a function must be called with the correct number of arguments. Meaning that if your function expects 2 arguments, you have to call the function with 2 arguments, not more, and not less."
   ]
  },
  {
   "cell_type": "code",
   "execution_count": 63,
   "metadata": {},
   "outputs": [
    {
     "name": "stdout",
     "output_type": "stream",
     "text": [
      "5\n"
     ]
    }
   ],
   "source": [
    "def addition(x,y):\n",
    "    print(x+y)\n",
    "    \n",
    "addition(2,3)"
   ]
  },
  {
   "cell_type": "markdown",
   "metadata": {},
   "source": [
    "If you do not know how many arguments will be passed into your function, add a `*` before the parameter name in the function definition. This way the function will receive a tuple of arguments, and can access the items accordingly. Arbitrary arguments are often shortened to `**args` in Python documentations."
   ]
  },
  {
   "cell_type": "code",
   "execution_count": 64,
   "metadata": {},
   "outputs": [
    {
     "name": "stdout",
     "output_type": "stream",
     "text": [
      "1\n",
      "2\n",
      "3\n"
     ]
    }
   ],
   "source": [
    "def addition(*args):\n",
    "    for arg in args:\n",
    "        print(arg)\n",
    "\n",
    "addition(1,2,3)"
   ]
  },
  {
   "cell_type": "markdown",
   "metadata": {},
   "source": [
    "You can also send arguments with the key = value syntax. This way the order of the arguments does not matter."
   ]
  },
  {
   "cell_type": "code",
   "execution_count": 65,
   "metadata": {},
   "outputs": [
    {
     "name": "stdout",
     "output_type": "stream",
     "text": [
      "5\n"
     ]
    }
   ],
   "source": [
    "def addition(x,y):\n",
    "    print(x+y)\n",
    "    \n",
    "addition(x=2, y=3)"
   ]
  },
  {
   "cell_type": "markdown",
   "metadata": {},
   "source": [
    "If you do not know how many keyword arguments that will be passed into your function, add two asterisk `**` before the parameter name in the function definition. This way the function will receive a dictionary of arguments, and can access the items accordingly. Arbitrary keyword arguments are often shortened to `**kwargs` in Python documentations."
   ]
  },
  {
   "cell_type": "code",
   "execution_count": 66,
   "metadata": {},
   "outputs": [
    {
     "name": "stdout",
     "output_type": "stream",
     "text": [
      "1 2 3\n"
     ]
    }
   ],
   "source": [
    "def addition(**kwargs):\n",
    "        print(kwargs[\"x\"], kwargs[\"y\"], kwargs[\"z\"])\n",
    "\n",
    "addition(x=1,y=2,z=3)"
   ]
  },
  {
   "cell_type": "markdown",
   "metadata": {},
   "source": [
    "A function can have a default parameter value, defined during construction. If we call the function without argument, it uses the default value, otherwise it used the value set during calling. Be careful, all default parameters have to be at the end after the parameterd without default values."
   ]
  },
  {
   "cell_type": "code",
   "execution_count": 67,
   "metadata": {},
   "outputs": [
    {
     "name": "stdout",
     "output_type": "stream",
     "text": [
      "5\n",
      "7\n"
     ]
    }
   ],
   "source": [
    "def addition(x,y=3):\n",
    "    print(x+y)\n",
    "    \n",
    "addition(x=2)\n",
    "addition(x=2, y=5)"
   ]
  },
  {
   "cell_type": "markdown",
   "metadata": {},
   "source": [
    "To let a function return a value, use the `return` statement:"
   ]
  },
  {
   "cell_type": "code",
   "execution_count": 68,
   "metadata": {},
   "outputs": [
    {
     "data": {
      "text/plain": [
       "7"
      ]
     },
     "execution_count": 68,
     "metadata": {},
     "output_type": "execute_result"
    }
   ],
   "source": [
    "def addition(x,y):\n",
    "    return (x+y)\n",
    "    \n",
    "result = addition(x=2, y=5)\n",
    "result"
   ]
  },
  {
   "cell_type": "markdown",
   "metadata": {},
   "source": [
    "Function definitions cannot be empty, but if you for some reason have a function definition with no content, put in the `pass` statement to avoid getting an error."
   ]
  },
  {
   "cell_type": "code",
   "execution_count": 69,
   "metadata": {},
   "outputs": [],
   "source": [
    "def func():\n",
    "    pass\n",
    "\n",
    "func()"
   ]
  },
  {
   "cell_type": "markdown",
   "metadata": {},
   "source": [
    "Python also accepts function recursion, which means a defined function can call itself. Recursion is a common mathematical and programming concept. It means that a function calls itself. This has the benefit of meaning that you can loop through data to reach a result.\n",
    "\n",
    "The developer should be very careful with recursion as it can be quite easy to slip into writing a function which never terminates, or one that uses excess amounts of memory or processor power. However, when written correctly recursion can be a very efficient and mathematically-elegant approach to programming.\n",
    "\n",
    "To a new developer it can take some time to work out how exactly recursion works, best way to find out is by testing and modifying it."
   ]
  },
  {
   "cell_type": "code",
   "execution_count": 70,
   "metadata": {},
   "outputs": [
    {
     "name": "stdout",
     "output_type": "stream",
     "text": [
      "1\n"
     ]
    }
   ],
   "source": [
    "def increment(x):\n",
    "    if x<=5:\n",
    "        x+=1\n",
    "        increment(x)\n",
    "    else:\n",
    "        print(x)\n",
    "\n",
    "print(1)"
   ]
  },
  {
   "cell_type": "markdown",
   "metadata": {},
   "source": [
    "### Lambda Function"
   ]
  },
  {
   "cell_type": "markdown",
   "metadata": {},
   "source": [
    "A lambda function is a small anonymous function that can take any number of arguments, but can only have one expression. The expression is executed and the result is returned. The general form of a lambda function is:\n",
    "\n",
    "```\n",
    "lambda arguments : expression\n",
    "```"
   ]
  },
  {
   "cell_type": "code",
   "execution_count": 71,
   "metadata": {},
   "outputs": [
    {
     "data": {
      "text/plain": [
       "10"
      ]
     },
     "execution_count": 71,
     "metadata": {},
     "output_type": "execute_result"
    }
   ],
   "source": [
    "line = lambda x, a, b : a*x + b\n",
    "line(x=10, a=1, b=0)"
   ]
  },
  {
   "cell_type": "markdown",
   "metadata": {
    "tags": []
   },
   "source": [
    "In general lambda functions are used when an anonymous function is required for a short period of time."
   ]
  },
  {
   "cell_type": "markdown",
   "metadata": {
    "tags": []
   },
   "source": [
    "### Scope"
   ]
  },
  {
   "cell_type": "markdown",
   "metadata": {
    "jp-MarkdownHeadingCollapsed": true,
    "tags": []
   },
   "source": [
    "A variable is only available from inside the region it is created. This is called scope. In other words the scope of a variable refers to the context in which that variable is visible/accessible to the Python interpreter.\n",
    "\n",
    "Python has 4 different scope types: Local, Enclosing, Global, and Built-in (LEGB).\n",
    "\n",
    "* **Local Scope**: A variable created inside a function belongs to the local scope of that function, and can only be used inside that function. A local scope variable is not available outside the function, but it is available for any function inside the function.\n",
    "\n",
    "* **Enclosing scope** A variable created inside a nested function. Simply put, these variables are neither present in the local scope nor in the global scope.\n",
    "\n",
    "* **Global Scope**: A variable created in the main body of the Python code is a global variable and belongs to the global scope. Global variables are available from within any scope, global and local.\n",
    "\n",
    "* **Built-in scope**: A variable which is built-in in Python and cover all the reserved keywords (e.g: `print`, `def`, etc). Built-in variables are available anywhere, without the need to define them.\n",
    "\n",
    "When a variable is called, Python searches first in local scope, then in enclosing scope, then in global scope and finally in the built-in scope in order to find it.\n",
    "\n",
    "<center><img src=\"img/scope.png\" alt=\"drawing\" width=\"300\"/></center>\n",
    "\n",
    "Be careful. Python won't complain if you try to change a built-in variable. The original built-in keyword will be lost."
   ]
  },
  {
   "cell_type": "code",
   "execution_count": 72,
   "metadata": {},
   "outputs": [
    {
     "name": "stdout",
     "output_type": "stream",
     "text": [
      "global scope x\n",
      "global scope x\n",
      "local scope y\n",
      "global scope x\n",
      "local scope y\n",
      "local scope z\n"
     ]
    }
   ],
   "source": [
    "# global scope variable available everywhere\n",
    "x = \"global scope x\"\n",
    "\n",
    "# searches for x in local scope (global) ->  finds it\n",
    "print(x)\n",
    "\n",
    "def outer():\n",
    "    # searches for x in local scope (outer()) ->  cannot find it\n",
    "    # no enclosing scope to search\n",
    "    # searches for x in global scope -> finds it\n",
    "    print(x)\n",
    "\n",
    "    y = \"local scope y\"\n",
    "    # searches for y in local scope (outer()) ->  finds it\n",
    "    print(y)\n",
    "    \n",
    "    def inner():\n",
    "        # searches for x in local scope (inner()) ->  cannot find it\n",
    "        # searches for x in enclosing scope (outer()) -> cannot find it\n",
    "        # searches for x in global scope -> finds it\n",
    "        print(x)\n",
    "        \n",
    "        # searches for y in local scope (inner()) ->  cannot find it\n",
    "        # searches for y in enclosing scope (outer()) -> finds it\n",
    "        print(y)\n",
    "        \n",
    "        z = 'local scope z'\n",
    "        # searches for z in local scope ->  finds it\n",
    "        print(z)\n",
    "    \n",
    "    return inner()\n",
    "\n",
    "outer()"
   ]
  },
  {
   "cell_type": "markdown",
   "metadata": {},
   "source": [
    "Important. If you operate with the same variable name in different scopes, Python will treat them as separate variables. In other words, a function can only read and not (for example) overwrite a global variable, unless we make it clear that the we refer to the global variable by using the keyword `global`."
   ]
  },
  {
   "cell_type": "code",
   "execution_count": 73,
   "metadata": {},
   "outputs": [
    {
     "name": "stdout",
     "output_type": "stream",
     "text": [
      "global scope x\n",
      "global scope y\n",
      "local scope x\n",
      "global scope y\n"
     ]
    }
   ],
   "source": [
    "# global scope variable available everywhere\n",
    "x = \"global scope x\"\n",
    "y = \"global scope y\"\n",
    "\n",
    "def outer():\n",
    "    global x\n",
    "    \n",
    "    # this will change global x\n",
    "    x = \"local scope x\"\n",
    "    \n",
    "    # this will NOT change global y\n",
    "    y = \"local scope y\"\n",
    "\n",
    "print(x)\n",
    "print(y)\n",
    "outer()\n",
    "print(x)\n",
    "print(y)"
   ]
  },
  {
   "cell_type": "markdown",
   "metadata": {},
   "source": [
    "### Closure"
   ]
  },
  {
   "cell_type": "markdown",
   "metadata": {},
   "source": [
    "In programming a closure is a record storing a function together with an environment. The environment is a mapping associating each free variable of the function (variables that are used locally, but defined in an enclosing scope) with the value or reference to which the name was bound when the closure was created. Unlike a plain function, a closure allows the function to access those captured variables through the closure's copies of their values or references, even when the function is invoked outside their scope.\n",
    " \n",
    "In simple terms a closure is an inner function that remembers and has access to variables in the enclosing scope in which it was created even after the outer function has finished executing and the variables are not present in memory."
   ]
  },
  {
   "cell_type": "code",
   "execution_count": 74,
   "metadata": {},
   "outputs": [
    {
     "name": "stdout",
     "output_type": "stream",
     "text": [
      "Hello World\n",
      "Hello World\n",
      "Hello World\n"
     ]
    }
   ],
   "source": [
    "def outer(msg):\n",
    "    message = msg\n",
    "    \n",
    "    def inner():\n",
    "        print(message)\n",
    "        \n",
    "    return inner\n",
    "\n",
    "printer = outer(msg='Hello World')\n",
    "\n",
    "# closure makes printer to remember the message 'Hello World' from the enclosing scope of outer() \n",
    "# even after outer() has stopped being executed and 'Hello World' is not in any scope any more.\n",
    "printer()\n",
    "printer()\n",
    "printer()     "
   ]
  },
  {
   "cell_type": "markdown",
   "metadata": {},
   "source": [
    "### Generators"
   ]
  },
  {
   "cell_type": "markdown",
   "metadata": {},
   "source": [
    "Python generator functions allow you to declare a function that behaves likes an iterator, allowing programmers to make an iterator in a fast, easy, and clean way. They are useful in cases where we do not need to reiterate it more than once. As generators give us a lazy evaluation, they are a great way to generate sequences in a memory-efficient manner.\n",
    "\n",
    "Generators follow the same format as a usuall function with the difference that they carry the `yield` keyword."
   ]
  },
  {
   "cell_type": "code",
   "execution_count": 75,
   "metadata": {
    "tags": []
   },
   "outputs": [
    {
     "data": {
      "text/plain": [
       "<generator object square_numbers at 0x107a568e0>"
      ]
     },
     "execution_count": 75,
     "metadata": {},
     "output_type": "execute_result"
    }
   ],
   "source": [
    "def square_numbers(nums):\n",
    "    for i in nums:\n",
    "        yield (i*i)\n",
    "\n",
    "my_nums = square_numbers([1,2,3,4,5])\n",
    "my_nums"
   ]
  },
  {
   "cell_type": "markdown",
   "metadata": {},
   "source": [
    "As you can see even when we feed a list of numbers to the generator, when we print the result we don't get back the actual result of what the generator does, but the generator as an object. This is because Python has not implemented the generator yet. In order to do so, we need the `next` keyword."
   ]
  },
  {
   "cell_type": "code",
   "execution_count": 76,
   "metadata": {
    "tags": []
   },
   "outputs": [
    {
     "name": "stdout",
     "output_type": "stream",
     "text": [
      "1\n"
     ]
    }
   ],
   "source": [
    "print(next(my_nums))"
   ]
  },
  {
   "cell_type": "markdown",
   "metadata": {},
   "source": [
    "As you can see, even with `next` Python only printed the first results. This is because Python stops execution every time it encounters the `yield` keyword. So in order to print the fully list we need to use `next` 5 times."
   ]
  },
  {
   "cell_type": "code",
   "execution_count": 77,
   "metadata": {
    "tags": []
   },
   "outputs": [
    {
     "name": "stdout",
     "output_type": "stream",
     "text": [
      "4\n",
      "9\n",
      "16\n",
      "25\n"
     ]
    }
   ],
   "source": [
    "print(next(my_nums))\n",
    "print(next(my_nums))\n",
    "print(next(my_nums))\n",
    "print(next(my_nums))"
   ]
  },
  {
   "cell_type": "markdown",
   "metadata": {},
   "source": [
    "If we use it one more, we get a `StopIteration` error."
   ]
  },
  {
   "cell_type": "markdown",
   "metadata": {},
   "source": [
    "A faster way to do it, is through a loop"
   ]
  },
  {
   "cell_type": "code",
   "execution_count": 78,
   "metadata": {
    "tags": []
   },
   "outputs": [
    {
     "name": "stdout",
     "output_type": "stream",
     "text": [
      "1\n",
      "4\n",
      "9\n",
      "16\n",
      "25\n"
     ]
    }
   ],
   "source": [
    "my_nums = square_numbers([1,2,3,4,5])\n",
    "\n",
    "for num in my_nums:\n",
    "    print(num)"
   ]
  },
  {
   "cell_type": "markdown",
   "metadata": {},
   "source": [
    "##### Generator Comprehensions"
   ]
  },
  {
   "cell_type": "markdown",
   "metadata": {},
   "source": [
    "Generator comprehensions are very similar to list comprehensions. One difference between them is that generator comprehensions use circular brackets `()` whereas list comprehensions use square brackets `[]`. The major difference between them is that generators don’t allocate memory for the whole list. Instead, they generate each value one by one which is why they are memory efficient."
   ]
  },
  {
   "cell_type": "code",
   "execution_count": 79,
   "metadata": {},
   "outputs": [
    {
     "name": "stdout",
     "output_type": "stream",
     "text": [
      "0\n",
      "1\n",
      "4\n",
      "9\n",
      "16\n"
     ]
    }
   ],
   "source": [
    "gen_comp = (i * i for i in range(5))\n",
    "\n",
    "for var in gen_comp:\n",
    "    print(var)"
   ]
  },
  {
   "cell_type": "markdown",
   "metadata": {},
   "source": [
    "Notice that `list(i * i for i in range(5))` is exactly the same as list comprehension."
   ]
  },
  {
   "cell_type": "markdown",
   "metadata": {},
   "source": [
    "Set comprehensions are pretty similar to list comprehensions. The only difference between them is that set comprehensions use curly brackets `{}`. Let’s look at the following example to understand set comprehensions."
   ]
  },
  {
   "cell_type": "code",
   "execution_count": 80,
   "metadata": {},
   "outputs": [
    {
     "data": {
      "text/plain": [
       "True"
      ]
     },
     "execution_count": 80,
     "metadata": {},
     "output_type": "execute_result"
    }
   ],
   "source": [
    "list(i * i for i in range(5)) == [i * i for i in range(5)]"
   ]
  },
  {
   "cell_type": "code",
   "execution_count": 81,
   "metadata": {
    "tags": []
   },
   "outputs": [
    {
     "data": {
      "text/plain": [
       "{0, 1, 2, 3, 4}"
      ]
     },
     "execution_count": 81,
     "metadata": {},
     "output_type": "execute_result"
    }
   ],
   "source": [
    "{x if x < 5 else 0 for x in range(10)}"
   ]
  }
 ],
 "metadata": {
  "kernelspec": {
   "display_name": "Python 3 (ipykernel)",
   "language": "python",
   "name": "python3"
  },
  "language_info": {
   "codemirror_mode": {
    "name": "ipython",
    "version": 3
   },
   "file_extension": ".py",
   "mimetype": "text/x-python",
   "name": "python",
   "nbconvert_exporter": "python",
   "pygments_lexer": "ipython3",
   "version": "3.11.1"
  },
  "toc-autonumbering": true,
  "toc-showcode": false,
  "toc-showmarkdowntxt": false
 },
 "nbformat": 4,
 "nbformat_minor": 4
}
