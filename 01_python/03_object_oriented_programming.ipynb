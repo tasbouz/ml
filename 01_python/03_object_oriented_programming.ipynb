{
 "cells": [
  {
   "cell_type": "markdown",
   "metadata": {},
   "source": [
    "<center><img src=\"img/python.png\" alt=\"drawing\" width=\"150\"/></center>"
   ]
  },
  {
   "cell_type": "markdown",
   "metadata": {
    "tags": []
   },
   "source": [
    "# Object Oriented Programing\n"
   ]
  },
  {
   "cell_type": "markdown",
   "metadata": {
    "jp-MarkdownHeadingCollapsed": true,
    "tags": []
   },
   "source": [
    "Object Oriented Programming (OOP) is a programming paradigm (way to classify programming languages based on their features) based on the concept of objects, which can contain data and code: data in the form of fields called attributes, and code, in the form of procedures called methods.\n",
    "\n",
    "A common feature of objects is that procedures (or methods) are attached to them and can access and modify the object's data fields. In this brand of OOP, there is usually a special name such as `this` or in case of Python `self` used to refer to the current object. In OOP, computer programs are designed by making them out of objects that interact with one another. OOP languages are diverse, but the most popular ones are class-based, meaning that objects are instances of classes, which also determine their types.\n",
    "\n",
    "Python is a  multi-paradigm programming language and it supports object-oriented programming to a greater or lesser degree, typically in combination with imperative, procedural programming.\n",
    "\n",
    "Languages that support object-oriented programming (OOP) typically use inheritance for code reuse and extensibility in the form of either classes or prototypes. Those that use classes support two main concepts:\n",
    "\n",
    "* **Classes**: The definitions for the data format and available procedures for a given type or class of object; may also contain data and procedures (known as class methods) themselves, i.e. classes contain the data members and member functions\n",
    "* **Objects**: Instances of classes (in a computer system, any time a new context is created based on some model, it is said that the model has been instantiated). \n",
    "* **Instance**: Each object is said to be an instance of a particular class (for example, an object with its name field set to \"Mary\" might be an instance of class Employee). \n",
    "\n",
    "Objects are accessed somewhat like variables with complex internal structure, and in many languages are effectively pointers, serving as actual references to a single instance of said object in memory within a heap or stack. They provide a layer of abstraction which can be used to separate internal from external code. External code can use an object by calling a specific instance method with a certain set of input parameters, read an instance variable, or write to an instance variable. Objects are created by calling a special type of method in the class known as a constructor. A program may create many instances of the same class as it runs, which operate independently. This is an easy way for the same procedures to be used on different sets of data.\n",
    "\n",
    "Functions in object-oriented programming are known as methods. Variables are also known as attributes. \n",
    "\n",
    "* **Method**: A programmed procedure that is defined as part of a class and is available to any object instantiated from that class. Each object can call the method, which runs within the context of the object that calls it.\n",
    "* **Attribute**: A particular property of an object, element or file. It can also refer to a specific value for a given instance of that property.\n",
    "\n",
    "Methods and attributes can either belong to the class itself or to the instances.\n",
    "\n",
    "* **Class Methods**: belong to the class as a whole and have access to only class variables and inputs from the procedure call.\n",
    "* **Instance Methods**: belong to individual objects, and have access to instance variables for the specific object they are called on, inputs, and class variables.\n",
    "* **Class Attributes**: data that belongs to the class as a whole, shared among all instances; there is only one copy of each one \"synchronized\" among instances.\n",
    "* **Instance Attributes**: data that belongs to individual objects; every object has its own copy of each one."
   ]
  },
  {
   "cell_type": "markdown",
   "metadata": {
    "tags": []
   },
   "source": [
    "## Classes"
   ]
  },
  {
   "cell_type": "code",
   "execution_count": 240,
   "metadata": {
    "tags": []
   },
   "outputs": [],
   "source": [
    "# create class with the keyword `class` and the name of the class\n",
    "class Employee:\n",
    "    # a class cannot be empty, if you have a class with no content use `pass` to avoid getting an error\n",
    "\n",
    "    # create class attributes (belong to the class, shared accross all instances)\n",
    "    employee_counter = 0   \n",
    "    \n",
    "    # magic/dunder class method `__new__` is a constructor which creates objects, always called automatically and executed every time the class is being used to create a new object\n",
    "    # it returns the obejct that the class creates\n",
    "    def __new__(cls, *args, **kwargs):  # `cls` is a reference to the class, as `self` is a reference to the instance\n",
    "        return super().__new__(cls)\n",
    "    \n",
    "    # magic/dunder method `__init__` is a constructor which initializes (assigns attributes) objects, always called automatically and executed every time the class is being used to create a new object\n",
    "    # it returns nothing, but assigns attributes to the object created by `__new__`\n",
    "    def __init__(self, name: str, salary: float): # `self` is a reference to the current instance of the class, and it is used to access attributes belong to the class\n",
    "        \n",
    "        # make sure attributes follow specific conditions otherwise throw error\n",
    "        assert salary >= 0, \"Salary must be positive\"\n",
    "        \n",
    "        # create instance attributes\n",
    "        self.__name = name # this one will turn into propety next this is why it comes with `__`\n",
    "                           # `_` in the beginning of an attribute/method makes it weakly private (i.e not visible outside the class)\n",
    "                           # `__` in the beginning of an attribute/method makes it private (i.e not accessible outside the class)\n",
    "        self.salary = salary\n",
    "        \n",
    "        # count employees\n",
    "        Employee.employee_counter += 1 # we need `Employee.emp_counter` not just `emp_counter`\n",
    "        \n",
    "    # property decorator turns this method to a `getter` which turns an attribute to a propery, i.e. a read-only attribute that once set it cannot change\n",
    "    @property\n",
    "    def name(self):\n",
    "        return self.__name\n",
    "    \n",
    "    # setter decorator turn this method to a `setter` which makes it possible to change the value of a propery outside the class, but by accessing it inside the class\n",
    "    @name.setter\n",
    "    def name(self, value):\n",
    "        self.__name = value\n",
    "        \n",
    "    # deleter decorator turn this method to a `deleter` which makes it possible to delete a propery outside the class, but by accessing it inside the class\n",
    "    @name.deleter\n",
    "    def name(self):\n",
    "        del self._x\n",
    "    \n",
    "    # magic/dunder method `__repr__` defines what should be printed out when an instance is called\n",
    "    def __repr__(self):\n",
    "        return ('Employee {} - Name: {}, Salary: {}'.format(Employee.employee_counter, self.name, self.salary))\n",
    "    \n",
    "    # magic/dunder method `__add__` defines what addition between two instances should do\n",
    "    def __add__(self, other):\n",
    "        return (self.salary + other.salary)\n",
    "    \n",
    "    # a class method (i.e a method that belong to the class as a whole and have access to only class variables and inputs from the procedure call) that prints number of employees\n",
    "    @classmethod\n",
    "    def number_of_employess(cls):\n",
    "        print(f'Number Of Employees: {cls.employee_counter}')\n",
    "    \n",
    "    # a static method (i.e a regular function inside the class that it has a relationship with the class, but not something that must be unique per instance) that prints that checks \n",
    "    # we could have created it outside the class, but it is logically connected with the class\n",
    "    @staticmethod\n",
    "    def __calculate_year_salary(salary):\n",
    "        return 12 * salary\n",
    "    \n",
    "    # a regular method (i.e a method connected to instances) that calculates and prints the year salary of an employee\n",
    "    def print_year_salary(self):\n",
    "        year_salary = self.__calculate_year_salary(salary=self.salary) # we need `self.calculate_year_salary` not just `calculate_year_salary`\n",
    "        print (f'Year salary of {self.name} is {year_salary}')"
   ]
  },
  {
   "cell_type": "markdown",
   "metadata": {},
   "source": [
    "## Instances"
   ]
  },
  {
   "cell_type": "code",
   "execution_count": 241,
   "metadata": {
    "tags": []
   },
   "outputs": [
    {
     "data": {
      "text/plain": [
       "mappingproxy({'__module__': '__main__',\n",
       "              'employee_counter': 0,\n",
       "              '__new__': <staticmethod(<function Employee.__new__ at 0x1067f5800>)>,\n",
       "              '__init__': <function __main__.Employee.__init__(self, name: str, salary: float)>,\n",
       "              'name': <property at 0x10681db70>,\n",
       "              '__repr__': <function __main__.Employee.__repr__(self)>,\n",
       "              '__add__': <function __main__.Employee.__add__(self, other)>,\n",
       "              'number_of_employess': <classmethod(<function Employee.number_of_employess at 0x1067f76a0>)>,\n",
       "              '_Employee__calculate_year_salary': <staticmethod(<function Employee.__calculate_year_salary at 0x1067f4d60>)>,\n",
       "              'print_year_salary': <function __main__.Employee.print_year_salary(self)>,\n",
       "              '__dict__': <attribute '__dict__' of 'Employee' objects>,\n",
       "              '__weakref__': <attribute '__weakref__' of 'Employee' objects>,\n",
       "              '__doc__': None})"
      ]
     },
     "execution_count": 241,
     "metadata": {},
     "output_type": "execute_result"
    }
   ],
   "source": [
    "# check all attributes of class Employee\n",
    "Employee.__dict__"
   ]
  },
  {
   "cell_type": "code",
   "execution_count": 242,
   "metadata": {
    "tags": []
   },
   "outputs": [
    {
     "data": {
      "text/plain": [
       "0"
      ]
     },
     "execution_count": 242,
     "metadata": {},
     "output_type": "execute_result"
    }
   ],
   "source": [
    "# access class attribute\n",
    "Employee.employee_counter"
   ]
  },
  {
   "cell_type": "code",
   "execution_count": 243,
   "metadata": {
    "tags": []
   },
   "outputs": [
    {
     "data": {
      "text/plain": [
       "Employee 1 - Name: Tasos Bouzikas, Salary: 1000"
      ]
     },
     "execution_count": 243,
     "metadata": {},
     "output_type": "execute_result"
    }
   ],
   "source": [
    "# create an instance\n",
    "emp_1 = Employee('Tasos Bouzikas', 1000)\n",
    "emp_1"
   ]
  },
  {
   "cell_type": "code",
   "execution_count": 244,
   "metadata": {
    "tags": []
   },
   "outputs": [
    {
     "data": {
      "text/plain": [
       "{'_Employee__name': 'Tasos Bouzikas', 'salary': 1000}"
      ]
     },
     "execution_count": 244,
     "metadata": {},
     "output_type": "execute_result"
    }
   ],
   "source": [
    "# check all attributes of instance emp_1\n",
    "emp_1.__dict__"
   ]
  },
  {
   "cell_type": "code",
   "execution_count": 245,
   "metadata": {
    "tags": []
   },
   "outputs": [
    {
     "data": {
      "text/plain": [
       "Employee 2 - Name: Georgia Sarolidou, Salary: 2000"
      ]
     },
     "execution_count": 245,
     "metadata": {},
     "output_type": "execute_result"
    }
   ],
   "source": [
    "# create another instance\n",
    "emp_2 = Employee('Georgia Sarolidou', 2000)\n",
    "emp_2"
   ]
  },
  {
   "cell_type": "code",
   "execution_count": 246,
   "metadata": {
    "tags": []
   },
   "outputs": [
    {
     "data": {
      "text/plain": [
       "{'_Employee__name': 'Georgia Sarolidou', 'salary': 2000}"
      ]
     },
     "execution_count": 246,
     "metadata": {},
     "output_type": "execute_result"
    }
   ],
   "source": [
    "# check all attributes of instance emp_1\n",
    "emp_2.__dict__"
   ]
  },
  {
   "cell_type": "code",
   "execution_count": 247,
   "metadata": {
    "tags": []
   },
   "outputs": [
    {
     "data": {
      "text/plain": [
       "2"
      ]
     },
     "execution_count": 247,
     "metadata": {},
     "output_type": "execute_result"
    }
   ],
   "source": [
    "# access again class attribute\n",
    "Employee.employee_counter"
   ]
  },
  {
   "cell_type": "code",
   "execution_count": 248,
   "metadata": {
    "tags": []
   },
   "outputs": [
    {
     "data": {
      "text/plain": [
       "(2, 2)"
      ]
     },
     "execution_count": 248,
     "metadata": {},
     "output_type": "execute_result"
    }
   ],
   "source": [
    "# class attribute belong to every instance\n",
    "emp_1.employee_counter, emp_2.employee_counter"
   ]
  },
  {
   "cell_type": "code",
   "execution_count": 249,
   "metadata": {
    "tags": []
   },
   "outputs": [
    {
     "name": "stdout",
     "output_type": "stream",
     "text": [
      "Number Of Employees: 2\n"
     ]
    }
   ],
   "source": [
    "# access class method\n",
    "Employee.number_of_employess()"
   ]
  },
  {
   "cell_type": "code",
   "execution_count": 250,
   "metadata": {
    "tags": []
   },
   "outputs": [
    {
     "name": "stdout",
     "output_type": "stream",
     "text": [
      "Number Of Employees: 2\n",
      "Number Of Employees: 2\n"
     ]
    },
    {
     "data": {
      "text/plain": [
       "(None, None)"
      ]
     },
     "execution_count": 250,
     "metadata": {},
     "output_type": "execute_result"
    }
   ],
   "source": [
    "# class methods belong to every instance\n",
    "emp_1.number_of_employess(), emp_2.number_of_employess()"
   ]
  },
  {
   "cell_type": "code",
   "execution_count": 251,
   "metadata": {
    "tags": []
   },
   "outputs": [
    {
     "data": {
      "text/plain": [
       "3000"
      ]
     },
     "execution_count": 251,
     "metadata": {},
     "output_type": "execute_result"
    }
   ],
   "source": [
    "# use __add__ method to get the sum of the salary \n",
    "emp_1 + emp_2"
   ]
  },
  {
   "cell_type": "code",
   "execution_count": 252,
   "metadata": {
    "tags": []
   },
   "outputs": [
    {
     "name": "stdout",
     "output_type": "stream",
     "text": [
      "Year salary of Tasos Bouzikas is 12000\n",
      "Year salary of Georgia Sarolidou is 24000\n"
     ]
    }
   ],
   "source": [
    "# apply the method displayEmployee to emp_1 and emp_2\n",
    "emp_1.print_year_salary() # Employee.print_year_salary(emp_1) also works\n",
    "emp_2.print_year_salary() # Employee.print_year_salary(emp_2) also works"
   ]
  },
  {
   "cell_type": "markdown",
   "metadata": {},
   "source": [
    "## Inheritance\n",
    "Inheritance allows us to define a class that inherits all the methods and properties from another class. \n",
    "* **Parent Class** or **Base Class**: is the class being inherited from. Any class can be a parent class, so the syntax is the same as simply creating a class.\n",
    "* **Child Class** or **Derived Class**: is the class that inherits from a parent class. To create a child class that inherits the functionality from its parent class, we simply use the parent class as a parameter when creating the child class.\n",
    "* **Sibling Classes** are any child classes that have a common parent class."
   ]
  },
  {
   "cell_type": "code",
   "execution_count": 253,
   "metadata": {
    "tags": []
   },
   "outputs": [],
   "source": [
    "# the child class `Developer` has all the functionality of its parent class `Employee`\n",
    "class Developer(Employee): # we use the parent class `Employee` as a paremeter upon creation of the child class `Developer`\n",
    "\n",
    "    # We want to add an extra attribute 'Bonus', on top of name and salary that are already there due to inheritance\n",
    "    def __init__(self, name, salary, bonus):\n",
    "        \n",
    "        # inherits all the attributes and methods from Employee (instead of copy paste them)\n",
    "        # super() refers to the base class, we could have written the name of the base class instead, however this can turn problematic in the case of multiple inheritance\n",
    "        super().__init__(name, salary)\n",
    "        \n",
    "        # in the usual way we add new attributes not available in parent class\n",
    "        self.bonus = bonus"
   ]
  },
  {
   "cell_type": "code",
   "execution_count": 254,
   "metadata": {
    "tags": []
   },
   "outputs": [
    {
     "data": {
      "text/plain": [
       "Employee 3 - Name: John, Salary: 1000"
      ]
     },
     "execution_count": 254,
     "metadata": {},
     "output_type": "execute_result"
    }
   ],
   "source": [
    "emp_3 = Developer(name=\"John\", salary=1000, bonus=10)\n",
    "emp_3"
   ]
  },
  {
   "cell_type": "code",
   "execution_count": 255,
   "metadata": {
    "tags": []
   },
   "outputs": [
    {
     "data": {
      "text/plain": [
       "10"
      ]
     },
     "execution_count": 255,
     "metadata": {},
     "output_type": "execute_result"
    }
   ],
   "source": [
    "emp_3.bonus"
   ]
  },
  {
   "cell_type": "markdown",
   "metadata": {},
   "source": [
    "We can see a list of classes where a class will search for attributes and methods by using the `Method Resolution Order` (`MRO`)."
   ]
  },
  {
   "cell_type": "code",
   "execution_count": 268,
   "metadata": {
    "tags": []
   },
   "outputs": [
    {
     "data": {
      "text/plain": [
       "(__main__.Developer, __main__.Employee, object)"
      ]
     },
     "execution_count": 268,
     "metadata": {},
     "output_type": "execute_result"
    }
   ],
   "source": [
    "Developer.__mro__"
   ]
  },
  {
   "cell_type": "code",
   "execution_count": 262,
   "metadata": {
    "tags": []
   },
   "outputs": [],
   "source": [
    "# the child class `Manager` is a sibling to class Developer\n",
    "class Manager(Employee): \n",
    "\n",
    "    def __init__(self, name, salary, bonus):        \n",
    "        super().__init__(name, salary)\n",
    "        \n",
    "        self.bonus = bonus"
   ]
  },
  {
   "cell_type": "markdown",
   "metadata": {},
   "source": [
    "Another way that we could have created the `Manager` class is by letting it inherit from class `Developer`. In that way we don't need to redefine the `self.bonus = bonus` and have the same code twice, since it will be inherited by its `Developer` base class.\n",
    "\n",
    "```\n",
    "class Manager(Developer): \n",
    "    def __init__(self, name, salary, bonus):        \n",
    "        super().__init__(name, salary, bonus)\n",
    "```"
   ]
  },
  {
   "cell_type": "code",
   "execution_count": 263,
   "metadata": {
    "tags": []
   },
   "outputs": [
    {
     "data": {
      "text/plain": [
       "Employee 6 - Name: Sally, Salary: 2000"
      ]
     },
     "execution_count": 263,
     "metadata": {},
     "output_type": "execute_result"
    }
   ],
   "source": [
    "emp_4 = Manager(name=\"Sally\", salary=2000, bonus=20)\n",
    "emp_4"
   ]
  },
  {
   "cell_type": "code",
   "execution_count": 265,
   "metadata": {
    "tags": []
   },
   "outputs": [
    {
     "data": {
      "text/plain": [
       "20"
      ]
     },
     "execution_count": 265,
     "metadata": {},
     "output_type": "execute_result"
    }
   ],
   "source": [
    "emp_4.bonus"
   ]
  },
  {
   "cell_type": "code",
   "execution_count": 269,
   "metadata": {
    "tags": []
   },
   "outputs": [
    {
     "data": {
      "text/plain": [
       "(__main__.Manager, __main__.Employee, object)"
      ]
     },
     "execution_count": 269,
     "metadata": {},
     "output_type": "execute_result"
    }
   ],
   "source": [
    "Manager.__mro__"
   ]
  }
 ],
 "metadata": {
  "kernelspec": {
   "display_name": "Python 3 (ipykernel)",
   "language": "python",
   "name": "python3"
  },
  "language_info": {
   "codemirror_mode": {
    "name": "ipython",
    "version": 3
   },
   "file_extension": ".py",
   "mimetype": "text/x-python",
   "name": "python",
   "nbconvert_exporter": "python",
   "pygments_lexer": "ipython3",
   "version": "3.11.1"
  },
  "toc-autonumbering": true,
  "toc-showcode": false,
  "toc-showmarkdowntxt": false
 },
 "nbformat": 4,
 "nbformat_minor": 4
}
