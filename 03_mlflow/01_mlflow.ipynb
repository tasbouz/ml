{
 "cells": [
  {
   "attachments": {},
   "cell_type": "markdown",
   "id": "d057e6b1-281d-41c0-9bd4-c6eab79798e6",
   "metadata": {},
   "source": [
    "<center><img src=\"img/mlflow.png\" width=\"300\" /></center>"
   ]
  },
  {
   "cell_type": "code",
   "execution_count": 1,
   "id": "f11212b3-c6e6-4f3a-86dd-1668dc91ea29",
   "metadata": {},
   "outputs": [],
   "source": [
    "import requests\n",
    "import json\n",
    "from datetime import datetime\n",
    "import numpy as np\n",
    "import pandas as pd\n",
    "import matplotlib.pyplot as plt\n",
    "plt.style.use('fivethirtyeight')\n",
    "plt.rcParams.update({'figure.figsize':(6,3), 'legend.loc':\"best\", 'lines.linewidth':1.5, 'lines.marker':\".\", \"image.cmap\":\"tab10\", 'axes.prop_cycle':plt.cycler(color=plt.cm.tab10.colors), 'axes.formatter.useoffset':False, 'axes.titlesize': 12,'axes.labelsize': 10,'ytick.labelsize':8,'xtick.labelsize':8,'legend.fontsize': 10})\n",
    "from sklearn.datasets import make_circles\n",
    "from sklearn.model_selection import train_test_split\n",
    "import torch\n",
    "from torch import nn\n",
    "import torchmetrics\n",
    "import mlflow\n",
    "from mlflow import MlflowClient"
   ]
  },
  {
   "cell_type": "markdown",
   "id": "3e78cb82-73aa-4e2f-b9f3-9287954b2092",
   "metadata": {
    "tags": []
   },
   "source": [
    "# Introduction"
   ]
  },
  {
   "cell_type": "markdown",
   "id": "e19ab868-f437-4b39-abf7-d7554867b19c",
   "metadata": {},
   "source": [
    "[MLflow](https://github.com/mlflow/mlflow), initially created at Databricks, is an open source platform, focusing on streamlining iterative machine learning development, including tracking and versioning experiments, packaging code into reproducible runs, and sharing and deploying scalable models. It is based on an open interface design and is able to work with any language, framework or platform, with clients in Python and Java. It offers a set of lightweight APIs that can be used with any existing machine learning application or library (like PyTorch or TensorFlow), wherever you currently run ML code (like notebooks, applications, or the cloud).\n",
    "\n",
    "MLflow's current components are:\n",
    "* [MLflow Tracking](https://mlflow.org/docs/latest/tracking.html): An API to log and query parameters, code, and results in machine learning experiments and compare them using an interactive UI.\n",
    "* [MLflow Projects](https://mlflow.org/docs/latest/projects.html): A code packaging format for reproducible runs using Conda and Docker, so you can share your ML code with others.\n",
    "* [MLflow Models](https://mlflow.org/docs/latest/models.html): A model packaging format and tools that let you easily deploy the same model (from any ML library) to batch and real-time scoring on platforms.\n",
    "* [MLflow Model Registry](https://mlflow.org/docs/latest/model-registry.html): A centralized model store, set of APIs, and UI, to collaboratively manage the full lifecycle of MLflow Models."
   ]
  },
  {
   "cell_type": "markdown",
   "id": "2cd3a199-954a-4f0b-b501-2228ec816b28",
   "metadata": {},
   "source": [
    "# Installation"
   ]
  },
  {
   "cell_type": "markdown",
   "id": "b420ed61-2e58-48fc-9ade-7d77356378b9",
   "metadata": {},
   "source": [
    "MLFlow can be installed through pip:\n",
    "```bash\n",
    "pip install mlflow\n",
    "```\n",
    "\n",
    "Once installed, it can be launched by running:\n",
    "```bash\n",
    "mlflow ui\n",
    "```\n",
    "\n",
    "The UI be accesed in you localhost on port 5000 ([http://127.0.0.1:5000](http://127.0.0.1:5000))."
   ]
  },
  {
   "cell_type": "markdown",
   "id": "949be465-21ff-4b6f-88f7-b93a8a5fb20f",
   "metadata": {
    "tags": []
   },
   "source": [
    "# Demo"
   ]
  },
  {
   "cell_type": "markdown",
   "id": "aa0e306e-d7d5-432f-9fd8-b4a6dce08749",
   "metadata": {},
   "source": [
    "In what follows we will go through a toy example that demonstrates some of the key features of mlflow."
   ]
  },
  {
   "cell_type": "code",
   "execution_count": 5,
   "id": "7de8ff34-80e4-48eb-98ef-a867e88d8d85",
   "metadata": {},
   "outputs": [
    {
     "data": {
      "text/plain": [
       "<torch._C.Generator at 0x138b5e770>"
      ]
     },
     "execution_count": 5,
     "metadata": {},
     "output_type": "execute_result"
    }
   ],
   "source": [
    "# Random seed for reproducibility\n",
    "torch.manual_seed(42)"
   ]
  },
  {
   "cell_type": "code",
   "execution_count": 6,
   "id": "8a228dfd-764f-45e6-a1db-573780d772a7",
   "metadata": {},
   "outputs": [
    {
     "name": "stdout",
     "output_type": "stream",
     "text": [
      "X_train: torch.Size([40, 1]) | X_test: torch.Size([10, 1]) | y_train: torch.Size([40, 1]) | y_test: torch.Size([10, 1]) \n",
      "\n"
     ]
    },
    {
     "data": {
      "image/png": "[encoded data removed]",
      "text/plain": [
       "<Figure size 600x300 with 1 Axes>"
      ]
     },
     "metadata": {},
     "output_type": "display_data"
    }
   ],
   "source": [
    "# Create data to experiment with\n",
    "def make_data(plot=True):\n",
    "    X = torch.arange(-5, 5, 0.2).unsqueeze(1)\n",
    "    y = (lambda x: 0.2 * x + 2)(X)\n",
    "    \n",
    "    X_train, X_test, y_train, y_test = train_test_split(X, y, test_size=0.2, random_state=42)\n",
    "    print(f\"X_train: {X_train.shape} | X_test: {X_test.shape} | y_train: {y_train.shape} | y_test: {y_test.shape} \\n\")\n",
    "        \n",
    "    if plot:\n",
    "        fig = plt.figure()\n",
    "        plt.scatter(X_train, y_train, label='train')\n",
    "        plt.scatter(X_test, y_test, label='test')\n",
    "        plt.legend(bbox_to_anchor=(1,1.05), loc=\"upper left\")\n",
    "        plt.show()\n",
    "    \n",
    "    return X_train, X_test, y_train, y_test, fig\n",
    "\n",
    "X_train, X_test, y_train, y_test, fig = make_data()"
   ]
  },
  {
   "cell_type": "code",
   "execution_count": 7,
   "id": "22274979-d74f-4876-bcc9-8a27ae14c98b",
   "metadata": {
    "tags": []
   },
   "outputs": [],
   "source": [
    "# Create model to experiment with\n",
    "class LinearRegressionModel(nn.Module):\n",
    "    \n",
    "    def __init__(self, in_features: int, out_features: int):\n",
    "        super().__init__()\n",
    "        self.linear_layer = nn.Linear(in_features=in_features, out_features=out_features)\n",
    "    \n",
    "    def forward(self, x: torch.Tensor) -> torch.Tensor:\n",
    "        return self.linear_layer(x.float())\n",
    "    \n",
    "model = LinearRegressionModel(in_features=X_train.shape[1], out_features=1)"
   ]
  },
  {
   "cell_type": "markdown",
   "id": "8b826da3-6445-4961-bcff-3379bec5bfe0",
   "metadata": {},
   "source": [
    "## MLFlow Tracking"
   ]
  },
  {
   "cell_type": "markdown",
   "id": "a78b391d-17a3-4eac-82b4-076fd59677ab",
   "metadata": {},
   "source": [
    "MLFlow Tracking is an API to log and query parameters, code, and results in machine learning experiments and compare them using an interactive UI. With MLflow Tracking we can track:\n",
    "* **Parameters**: The parameters of the model in a key-value format.\n",
    "* **Metrics**: The metrics of the model computed by the parameters.\n",
    "* **Tags & Notes**: Information about a specific run.\n",
    "* **Artifacts**: Things that you produce: files, data, and models.\n",
    "* **Source**: Source code.\n",
    "* **Version**: Github version of source code.\n",
    "\n",
    "The two key concepts of MLFlow Tracking are **runs** and **experiments**.\n",
    "\n",
    "**Run**: An instance of code that runs by MLflow.\n",
    ">MLflow Tracking is organized around the concept of runs, which are executions of some piece of code. Each run records all the above mentioned metadata and artifacts.\n",
    "\n",
    "**Experiment**: A set of different runs.\n",
    ">An experiment groups together runs for a specific task. You can create an experiment using the CLI, API, or UI. The MLflow API and UI also let you create and search for experiments.\n",
    "\n",
    "<center><img src=\"img/mlflow_tracking_architecture.png\" width=\"700\"/></center>"
   ]
  },
  {
   "cell_type": "code",
   "execution_count": 8,
   "id": "cc8a7658-63af-43c8-9ac7-87d349016a23",
   "metadata": {},
   "outputs": [
    {
     "data": {
      "text/plain": [
       "'mlruns'"
      ]
     },
     "execution_count": 8,
     "metadata": {},
     "output_type": "execute_result"
    }
   ],
   "source": [
    "# Get the tracking directory path\n",
    "mlflow.get_tracking_uri()"
   ]
  },
  {
   "cell_type": "code",
   "execution_count": 9,
   "id": "6f44ec58-7e16-40ed-b7b4-401bc69d0eb6",
   "metadata": {},
   "outputs": [],
   "source": [
    "# Set it to another directory\n",
    "mlflow.set_tracking_uri('mlruns')"
   ]
  },
  {
   "cell_type": "code",
   "execution_count": 10,
   "id": "e3f04d23-4dd8-44b6-8669-33771bebe913",
   "metadata": {},
   "outputs": [
    {
     "name": "stderr",
     "output_type": "stream",
     "text": [
      "2025/01/07 10:35:53 INFO mlflow.tracking.fluent: Experiment with name 'tutorial' does not exist. Creating a new experiment.\n"
     ]
    },
    {
     "data": {
      "text/plain": [
       "<Experiment: artifact_location='/Users/tasos/Repos/Personal/ml/03_mlflow/mlruns/739235878102147628', creation_time=1736242553815, experiment_id='739235878102147628', last_update_time=1736242553815, lifecycle_stage='active', name='tutorial', tags={}>"
      ]
     },
     "execution_count": 10,
     "metadata": {},
     "output_type": "execute_result"
    }
   ],
   "source": [
    "# Set experiment tracking\n",
    "mlflow.set_experiment(experiment_name='tutorial')"
   ]
  },
  {
   "cell_type": "code",
   "execution_count": 11,
   "id": "d26d7113-ddc0-40d5-87bf-c8afe6f6e999",
   "metadata": {
    "tags": []
   },
   "outputs": [
    {
     "name": "stderr",
     "output_type": "stream",
     "text": [
      "\u001b[31m2025/01/07 10:36:20 WARNING mlflow.models.model: Model logged without a signature and input example. Please set `input_example` parameter when logging the model to auto infer the model signature.\u001b[0m\n",
      "Successfully registered model 'toy_model'.\n",
      "Created version '1' of model 'toy_model'.\n"
     ]
    }
   ],
   "source": [
    "# Start run tracking\n",
    "with mlflow.start_run(\n",
    "    run_name = f\"toy_model_run_{datetime.now().strftime('%Y-%m-%d-%H:%M:%S')}\",\n",
    "    tags={\"version\": \"v1\", \"project\": \"tutorial\", \"run_month\":{datetime.now().strftime('%Y-%m')}},\n",
    "    description=\"Just a toy example\"\n",
    "):\n",
    "    # Set loss function and log it\n",
    "    loss_fn = nn.MSELoss()\n",
    "    mlflow.log_param(\"loss\", loss_fn.__class__.__name__)\n",
    "\n",
    "    # Set optimizer and log hyperparameters\n",
    "    optimizer = torch.optim.SGD(params=model.parameters(), lr=0.01)\n",
    "    mlflow.log_params({\n",
    "        \"optimizer\": optimizer.__class__.__name__,\n",
    "        \"lr\": optimizer.param_groups[0][\"lr\"]\n",
    "    })\n",
    "\n",
    "    # Set an evaluation metric\n",
    "    mse = torchmetrics.MeanSquaredError()\n",
    "\n",
    "    # Set number of epochs and log them\n",
    "    epochs = 200\n",
    "    mlflow.log_param(\"epochs\", epochs)\n",
    "\n",
    "    # Pass data through model for a number of epochs\n",
    "    for epoch in range(epochs): \n",
    "\n",
    "        # Train model\n",
    "        model.train()\n",
    "        y_pred = model(X_train)\n",
    "        train_loss = loss_fn(y_pred, y_train)\n",
    "        optimizer.zero_grad()\n",
    "        train_loss.backward()\n",
    "        optimizer.step()\n",
    "        \n",
    "        # Calculate and log training metric\n",
    "        training_mse = mse(y_pred, y_train)\n",
    "        mlflow.log_metric(\"training_mse\", training_mse, step=epoch)\n",
    "            \n",
    "        # Validate model\n",
    "        model.eval()\n",
    "        with torch.inference_mode():\n",
    "            y_pred = model(X_test)\n",
    "            validation_loss = loss_fn(y_pred, y_test)\n",
    "            \n",
    "            # Calculate and log validation metric\n",
    "            validation_mse = mse(y_pred, y_test)\n",
    "            mlflow.log_metric(\"validation_mse\", validation_mse, step=epoch)\n",
    "        \n",
    "        # Log train and validation loss\n",
    "        mlflow.log_metrics({\n",
    "            \"train_loss\": train_loss.item(),\n",
    "            \"validation_loss\": validation_loss.item()\n",
    "        }, step=epoch)\n",
    "\n",
    "    # Log model\n",
    "    mlflow.pytorch.log_model(model, \"linear_model\", registered_model_name=\"toy_model\")\n",
    "\n",
    "    # Log data plot\n",
    "    mlflow.log_figure(fig, \"dataset.png\")"
   ]
  },
  {
   "cell_type": "markdown",
   "id": "d9e213aa-dbdc-400a-a0e3-0375e61f3a6a",
   "metadata": {},
   "source": [
    "## MLFlow Registry"
   ]
  },
  {
   "cell_type": "markdown",
   "id": "d488566a-044c-4fc9-9d00-8355f74f84c8",
   "metadata": {},
   "source": [
    "The MLflow Model Registry is an integral component of the MLflow ecosystem, designed to streamline the management of machine learning models. It provides a centralized repository for model storage, versioning, and metadata annotation, facilitating collaboration and lifecycle management.\n",
    "\n",
    "The Model Registry introduces a few concepts that describe and facilitate the full lifecycle of an MLflow Model.\n",
    "\n",
    "**Model**\n",
    ">An MLflow Model is created from an experiment or run that is logged with one of the model flavor’s `mlflow.<model_flavor>.log_model()` methods. Once logged, this model can then be registered with the Model Registry.\n",
    "\n",
    "**Registered Model**\n",
    ">An MLflow Model can be registered with the Model Registry. A registered model has a unique name, contains versions, aliases, tags, and other metadata.\n",
    "\n",
    "**Model Version**\n",
    ">Each registered model can have one or many versions. When a new model is added to the Model Registry, it is added as version 1. Each new model registered to the same model name increments the version number.\n",
    "\n",
    "**Model Alias**\n",
    ">Model aliases allow you to assign a mutable, named reference to a particular version of a registered model. By assigning an alias to a specific model version, you can use the alias to refer that model version via a model URI or the model registry API. Aliases are especially useful for deploying models.\n",
    "\n",
    "**Tags**\n",
    ">Tags are key-value pairs that you associate with registered models and model versions, allowing you to label and categorize them by function or status.\n",
    "\n",
    "**Annotations and Descriptions**\n",
    ">You can annotate the top-level model and each version individually using Markdown, including description and any relevant information useful for the team such as algorithm descriptions, dataset employed or methodology.\n",
    "\n",
    "<center><img src=\"img/mlflow_registry_architecture.png\" width=\"1000\"/></center>"
   ]
  },
  {
   "cell_type": "markdown",
   "id": "de33d502-92de-4051-8e70-4a601b8a24d7",
   "metadata": {},
   "source": [
    "### Register Model To Registry"
   ]
  },
  {
   "cell_type": "code",
   "execution_count": 21,
   "id": "e683e6db-e625-4c45-b7af-20f8cf44c9da",
   "metadata": {},
   "outputs": [],
   "source": [
    "# Register model during logging (DO IT WITHIN A RUN)\n",
    "# mlflow.pytorch.log_model(model, \"linear_model\", registered_model_name=\"toy_model\")"
   ]
  },
  {
   "cell_type": "code",
   "execution_count": 12,
   "id": "f7bab92f-86b9-4554-a9b7-f0a51199ddf3",
   "metadata": {},
   "outputs": [],
   "source": [
    "# Add extra details to a model\n",
    "client = MlflowClient()\n",
    "\n",
    "# Add a description to the registered model\n",
    "client.update_registered_model(\n",
    "    name=\"toy_model\",\n",
    "    description=\"The toy model for the tutorial project.\"\n",
    ")\n",
    "\n",
    "# Set registered model tag\n",
    "client.set_registered_model_tag(\"toy_model\", \"stage\", \"production\")"
   ]
  },
  {
   "cell_type": "markdown",
   "id": "ea05fb8e-9fe7-4e4c-8d0f-94a7f8622f13",
   "metadata": {},
   "source": [
    "### Load Model From Registry As Standalone"
   ]
  },
  {
   "cell_type": "markdown",
   "id": "5c688b3b-52b9-472d-875c-59a4a91772fe",
   "metadata": {},
   "source": [
    "The simplest and most straight forward way to load the model from registry, is to access it through its URI which is of the form:\n",
    "\n",
    "```\n",
    "models:/<model_name>/<version>\n",
    "```\n",
    "\n",
    "and treat it as a usual model."
   ]
  },
  {
   "cell_type": "code",
   "execution_count": 15,
   "id": "89c9136a-5e5f-4f5a-b74b-355c6679ea30",
   "metadata": {},
   "outputs": [],
   "source": [
    "# Load model from Model Registry\n",
    "loaded_model = mlflow.pytorch.load_model(\"models:/toy_model/1\")"
   ]
  },
  {
   "cell_type": "code",
   "execution_count": 16,
   "id": "120cbf66-6a88-48c4-bd90-01bf9a01efe9",
   "metadata": {},
   "outputs": [
    {
     "data": {
      "text/plain": [
       "tensor([[1.5008],\n",
       "        [2.5360],\n",
       "        [2.1777],\n",
       "        [2.7749],\n",
       "        [1.6601],\n",
       "        [2.8944],\n",
       "        [2.0184],\n",
       "        [1.9786],\n",
       "        [2.2573],\n",
       "        [1.7397]], grad_fn=<AddmmBackward0>)"
      ]
     },
     "execution_count": 16,
     "metadata": {},
     "output_type": "execute_result"
    }
   ],
   "source": [
    "# Make predictions\n",
    "loaded_model(X_test)"
   ]
  },
  {
   "cell_type": "markdown",
   "id": "13ae1309-3764-4aa4-abf5-1ef80f9c661b",
   "metadata": {},
   "source": [
    "### Load Model From Registry As Inference Server"
   ]
  },
  {
   "cell_type": "markdown",
   "id": "a0c12e05-94c9-4438-a04f-d55a8b75c4c4",
   "metadata": {},
   "source": [
    "A second option is to deploy an MLFlow Inference Server where one can interact with the model through API calls. To do so, one has to serve the model through `mlflow` using:\n",
    "\n",
    "```\n",
    "mlflow models serve -m models:/<model_name>/<version> -p <port> --no-conda\n",
    "```\n",
    "\n",
    "where `models:/<model_name>/<version>` specifies the model in use and `<port>` the port we want the API to be exposed.\n",
    "\n",
    "The inference server provides 4 endpoints:\n",
    "* `/invocations`: An inference endpoint that accepts POST requests with input data and returns predictions.\n",
    "* `/ping`: Used for health checks.\n",
    "* `/health`: Same as /ping.\n",
    "* `/version`: Returns the MLflow version."
   ]
  },
  {
   "cell_type": "code",
   "execution_count": 12,
   "id": "e18c47af-4b2c-4e52-b907-53f578b7b2f2",
   "metadata": {},
   "outputs": [
    {
     "name": "stdout",
     "output_type": "stream",
     "text": [
      "{'predictions': [[1.5008416175842285], [2.5360467433929443], [2.177706480026245], [2.774940252304077], [1.6601040363311768], [2.8943867683410645], [2.018444299697876], [1.9786286354064941], [2.2573375701904297], [1.7397351264953613]]}\n"
     ]
    }
   ],
   "source": [
    "# Prepare the input data for the model\n",
    "input_data = json.dumps(\n",
    "    {\"inputs\": X_test.tolist()}\n",
    ")\n",
    "\n",
    "# Send the POST request\n",
    "response = requests.post(\n",
    "    url=\"http://127.0.0.1:5001/invocations\", \n",
    "    data=input_data,\n",
    "    headers={\"Content-Type\": \"application/json\"}\n",
    ")\n",
    "\n",
    "# Parse response\n",
    "print(response.json())"
   ]
  }
 ],
 "metadata": {
  "kernelspec": {
   "display_name": "Python 3 (ipykernel)",
   "language": "python",
   "name": "python3"
  },
  "language_info": {
   "codemirror_mode": {
    "name": "ipython",
    "version": 3
   },
   "file_extension": ".py",
   "mimetype": "text/x-python",
   "name": "python",
   "nbconvert_exporter": "python",
   "pygments_lexer": "ipython3",
   "version": "3.12.7"
  },
  "toc-autonumbering": true,
  "toc-showcode": false,
  "toc-showtags": false
 },
 "nbformat": 4,
 "nbformat_minor": 5
}
