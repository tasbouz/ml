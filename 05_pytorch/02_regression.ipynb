{
 "cells": [
  {
   "cell_type": "markdown",
   "id": "d057e6b1-281d-41c0-9bd4-c6eab79798e6",
   "metadata": {},
   "source": [
    "<center><img src=\"img/torch.png\" alt=\"drawing\" width=\"300\"/></center>"
   ]
  },
  {
   "cell_type": "markdown",
   "id": "5af24ad8-efd7-4d16-8a93-0981f334de06",
   "metadata": {
    "tags": []
   },
   "source": [
    "# Regression"
   ]
  },
  {
   "cell_type": "code",
   "execution_count": 1,
   "id": "faf16854-8970-433d-9393-c00da873abe8",
   "metadata": {
    "tags": []
   },
   "outputs": [],
   "source": [
    "import warnings\n",
    "warnings.filterwarnings('ignore')\n",
    "from datetime import datetime\n",
    "import numpy as np\n",
    "import pandas as pd\n",
    "import matplotlib.pyplot as plt\n",
    "plt.style.use('fivethirtyeight')\n",
    "plt.rcParams.update({'figure.figsize':(6,3), 'legend.loc':\"best\", 'lines.linewidth':1.5, 'lines.marker':\".\", \"image.cmap\":\"tab10\", 'axes.prop_cycle':plt.cycler(color=plt.cm.tab10.colors), 'axes.formatter.useoffset':False, 'axes.titlesize': 12,'axes.labelsize': 10,'ytick.labelsize':8,'xtick.labelsize':8,'legend.fontsize': 10})\n",
    "from sklearn.datasets import make_circles\n",
    "from sklearn.model_selection import train_test_split\n",
    "import torch\n",
    "from torch import nn\n",
    "from torchinfo import summary\n",
    "from torchviz import make_dot\n",
    "import torchmetrics\n",
    "import mlflow\n",
    "from helper_functions import train_val_loss_plot"
   ]
  },
  {
   "cell_type": "markdown",
   "id": "949be465-21ff-4b6f-88f7-b93a8a5fb20f",
   "metadata": {
    "tags": []
   },
   "source": [
    "## Linear Regression"
   ]
  },
  {
   "cell_type": "markdown",
   "id": "fb536c8e-9269-4702-9142-8c9b66aad0b0",
   "metadata": {},
   "source": [
    "### Data"
   ]
  },
  {
   "cell_type": "code",
   "execution_count": 47,
   "id": "f8dff5ab-415d-4a5f-9da6-c0a9389807a6",
   "metadata": {
    "tags": []
   },
   "outputs": [
    {
     "name": "stdout",
     "output_type": "stream",
     "text": [
      "X_train: torch.Size([40, 1]) | X_test: torch.Size([10, 1]) | y_train: torch.Size([40, 1]) | y_test: torch.Size([10, 1]) \n",
      "\n"
     ]
    },
    {
     "data": {
      "image/png": "[encoded data removed]",
      "text/plain": [
       "<Figure size 600x300 with 1 Axes>"
      ]
     },
     "metadata": {},
     "output_type": "display_data"
    }
   ],
   "source": [
    "# Create data to experiment with\n",
    "def make_data(plot=True):\n",
    "    X = torch.arange(-5, 5, 0.2).unsqueeze(1)\n",
    "    y = (lambda x: 0.2 * x + 2)(X)\n",
    "    \n",
    "    X_train, X_test, y_train, y_test = train_test_split(X, y, test_size=0.2, random_state=42)\n",
    "    print(f\"X_train: {X_train.shape} | X_test: {X_test.shape} | y_train: {y_train.shape} | y_test: {y_test.shape} \\n\")\n",
    "        \n",
    "    if plot:\n",
    "        plt.scatter(X_train, y_train, label='train')\n",
    "        plt.scatter(X_test, y_test, label='test')\n",
    "        plt.legend(bbox_to_anchor=(1,1.05), loc=\"upper left\")\n",
    "        plt.show()\n",
    "    \n",
    "    return X_train, X_test, y_train, y_test\n",
    "\n",
    "X_train, X_test, y_train, y_test = make_data()"
   ]
  },
  {
   "cell_type": "markdown",
   "id": "8ae3e9ef-63d4-42c1-a8ae-47e2ef76f44c",
   "metadata": {},
   "source": [
    "### Models"
   ]
  },
  {
   "cell_type": "markdown",
   "id": "f1c050b5-4126-4356-bdf2-2280ac0d85d6",
   "metadata": {},
   "source": [
    "To fully utilize the power of the `torch.nn` module we need to understand what it’s doing. To develop this understanding, we will first train a basic linear regression model without using any features from the `torch.nn` module; we will use nothing but the basic PyTorch tensor operations. "
   ]
  },
  {
   "cell_type": "markdown",
   "id": "bac4f8be-8671-4ba6-a9eb-6d6205494dd4",
   "metadata": {},
   "source": [
    "#### From Scratch"
   ]
  },
  {
   "cell_type": "markdown",
   "id": "af639287-58c0-4958-b8c7-98b2dcd3e29d",
   "metadata": {
    "tags": []
   },
   "source": [
    "PyTorch builds models mainly within classes, so let's build the `LinearRegressionModel` class."
   ]
  },
  {
   "cell_type": "code",
   "execution_count": 48,
   "id": "a40b5120-3185-4bea-b0b0-c6c970600eda",
   "metadata": {
    "tags": []
   },
   "outputs": [],
   "source": [
    "# Build the model explicitly by including the linear regression equation\n",
    "class LinearRegressionModelV0(nn.Module): # Inherit from subclass nn.Module which is the base class containing all building blocks for NN\n",
    "    \n",
    "    def __init__(self):\n",
    "        super().__init__() # Inherit all attributes and methods from nn.Module\n",
    "       \n",
    "        # Initialise model parameters (weights and biases) to be used in computations\n",
    "        self.weights = nn.Parameter(torch.randn(\n",
    "            1, # Shape of random tensor\n",
    "            requires_grad=True, # Gradients need to be computed for this tensor for forward propagation\n",
    "            dtype=torch.float)) # By default PyTorch need parameters to be of type float\n",
    "        self.bias = nn.Parameter(torch.randn(\n",
    "            1,\n",
    "            requires_grad=True,\n",
    "            dtype=torch.float))\n",
    "    \n",
    "    # Forward method (any nn.Module subsclases require this) which defines the forward computation of the model\n",
    "    # It will automatically be called by the `__call__()` method upon instantiation so no need to explicitly call it\n",
    "    def forward(self, x: torch.Tensor) -> torch.Tensor:\n",
    "        return self.weights * x + self.bias # linear equation for linear regression\n",
    "        \n",
    "# Instantiate model\n",
    "linear_regression_0 = LinearRegressionModelV0()"
   ]
  },
  {
   "cell_type": "code",
   "execution_count": 49,
   "id": "6fac72f9-2e34-4515-8b71-d6e1d7a6b75b",
   "metadata": {
    "tags": []
   },
   "outputs": [
    {
     "data": {
      "text/plain": [
       "==============================================================================================================\n",
       "Layer (type (var_name))                            Input Shape     Output Shape    Param #         Trainable\n",
       "==============================================================================================================\n",
       "LinearRegressionModelV0 (LinearRegressionModelV0)  [40, 1]         [40, 1]         2               True\n",
       "==============================================================================================================\n",
       "Total params: 2\n",
       "Trainable params: 2\n",
       "Non-trainable params: 0\n",
       "Total mult-adds (Units.MEGABYTES): 0.00\n",
       "==============================================================================================================\n",
       "Input size (MB): 0.00\n",
       "Forward/backward pass size (MB): 0.00\n",
       "Params size (MB): 0.00\n",
       "Estimated Total Size (MB): 0.00\n",
       "=============================================================================================================="
      ]
     },
     "execution_count": 49,
     "metadata": {},
     "output_type": "execute_result"
    }
   ],
   "source": [
    "# Get model summary\n",
    "summary(linear_regression_0, input_size=X_train.shape, col_names=[\"input_size\", \"output_size\", \"num_params\", \"trainable\"], col_width=15, row_settings=[\"var_names\"])"
   ]
  },
  {
   "cell_type": "code",
   "execution_count": 50,
   "id": "b91d6019-37e7-4968-83bd-6ef28d0006ef",
   "metadata": {
    "tags": []
   },
   "outputs": [
    {
     "data": {
      "image/svg+xml": [
       "<?xml version=\"1.0\" encoding=\"UTF-8\" standalone=\"no\"?>\n",
       "<!DOCTYPE svg PUBLIC \"-//W3C//DTD SVG 1.1//EN\"\n",
       " \"http://www.w3.org/Graphics/SVG/1.1/DTD/svg11.dtd\">\n",
       "<!-- Generated by graphviz version 9.0.0 (20230911.1827)\n",
       " -->\n",
       "<!-- Pages: 1 -->\n",
       "<svg width=\"220pt\" height=\"284pt\"\n",
       " viewBox=\"0.00 0.00 220.00 284.25\" xmlns=\"http://www.w3.org/2000/svg\" xmlns:xlink=\"http://www.w3.org/1999/xlink\">\n",
       "<g id=\"graph0\" class=\"graph\" transform=\"scale(1 1) rotate(0) translate(4 280.25)\">\n",
       "<polygon fill=\"white\" stroke=\"none\" points=\"-4,4 -4,-280.25 216,-280.25 216,4 -4,4\"/>\n",
       "<!-- 11243657872 -->\n",
       "<g id=\"node1\" class=\"node\">\n",
       "<title>11243657872</title>\n",
       "<polygon fill=\"#caff70\" stroke=\"black\" points=\"138,-31.25 74,-31.25 74,0 138,0 138,-31.25\"/>\n",
       "<text text-anchor=\"middle\" x=\"106\" y=\"-5.75\" font-family=\"monospace\" font-size=\"10.00\"> (40, 1)</text>\n",
       "</g>\n",
       "<!-- 11270856400 -->\n",
       "<g id=\"node2\" class=\"node\">\n",
       "<title>11270856400</title>\n",
       "<polygon fill=\"lightgrey\" stroke=\"black\" points=\"150,-86.5 62,-86.5 62,-67.25 150,-67.25 150,-86.5\"/>\n",
       "<text text-anchor=\"middle\" x=\"106\" y=\"-73\" font-family=\"monospace\" font-size=\"10.00\">AddBackward0</text>\n",
       "</g>\n",
       "<!-- 11270856400&#45;&gt;11243657872 -->\n",
       "<g id=\"edge6\" class=\"edge\">\n",
       "<title>11270856400&#45;&gt;11243657872</title>\n",
       "<path fill=\"none\" stroke=\"black\" d=\"M106,-66.88C106,-60.54 106,-51.7 106,-43.2\"/>\n",
       "<polygon fill=\"black\" stroke=\"black\" points=\"109.5,-43.22 106,-33.22 102.5,-43.22 109.5,-43.22\"/>\n",
       "</g>\n",
       "<!-- 11270859040 -->\n",
       "<g id=\"node3\" class=\"node\">\n",
       "<title>11270859040</title>\n",
       "<polygon fill=\"lightgrey\" stroke=\"black\" points=\"94,-141.75 6,-141.75 6,-122.5 94,-122.5 94,-141.75\"/>\n",
       "<text text-anchor=\"middle\" x=\"50\" y=\"-128.25\" font-family=\"monospace\" font-size=\"10.00\">MulBackward0</text>\n",
       "</g>\n",
       "<!-- 11270859040&#45;&gt;11270856400 -->\n",
       "<g id=\"edge1\" class=\"edge\">\n",
       "<title>11270859040&#45;&gt;11270856400</title>\n",
       "<path fill=\"none\" stroke=\"black\" d=\"M59.5,-122.09C67.43,-114.55 78.95,-103.6 88.54,-94.48\"/>\n",
       "<polygon fill=\"black\" stroke=\"black\" points=\"90.71,-97.24 95.54,-87.82 85.89,-92.17 90.71,-97.24\"/>\n",
       "</g>\n",
       "<!-- 11270852800 -->\n",
       "<g id=\"node4\" class=\"node\">\n",
       "<title>11270852800</title>\n",
       "<polygon fill=\"lightgrey\" stroke=\"black\" points=\"100,-203 0,-203 0,-183.75 100,-183.75 100,-203\"/>\n",
       "<text text-anchor=\"middle\" x=\"50\" y=\"-189.5\" font-family=\"monospace\" font-size=\"10.00\">AccumulateGrad</text>\n",
       "</g>\n",
       "<!-- 11270852800&#45;&gt;11270859040 -->\n",
       "<g id=\"edge2\" class=\"edge\">\n",
       "<title>11270852800&#45;&gt;11270859040</title>\n",
       "<path fill=\"none\" stroke=\"black\" d=\"M50,-183.38C50,-175.46 50,-163.64 50,-153.45\"/>\n",
       "<polygon fill=\"black\" stroke=\"black\" points=\"53.5,-153.72 50,-143.72 46.5,-153.72 53.5,-153.72\"/>\n",
       "</g>\n",
       "<!-- 11038471376 -->\n",
       "<g id=\"node5\" class=\"node\">\n",
       "<title>11038471376</title>\n",
       "<polygon fill=\"lightblue\" stroke=\"black\" points=\"77,-276.25 23,-276.25 23,-245 77,-245 77,-276.25\"/>\n",
       "<text text-anchor=\"middle\" x=\"50\" y=\"-250.75\" font-family=\"monospace\" font-size=\"10.00\"> (1)</text>\n",
       "</g>\n",
       "<!-- 11038471376&#45;&gt;11270852800 -->\n",
       "<g id=\"edge3\" class=\"edge\">\n",
       "<title>11038471376&#45;&gt;11270852800</title>\n",
       "<path fill=\"none\" stroke=\"black\" d=\"M50,-244.82C50,-235.93 50,-224.5 50,-214.76\"/>\n",
       "<polygon fill=\"black\" stroke=\"black\" points=\"53.5,-214.81 50,-204.81 46.5,-214.81 53.5,-214.81\"/>\n",
       "</g>\n",
       "<!-- 11270857408 -->\n",
       "<g id=\"node6\" class=\"node\">\n",
       "<title>11270857408</title>\n",
       "<polygon fill=\"lightgrey\" stroke=\"black\" points=\"212,-141.75 112,-141.75 112,-122.5 212,-122.5 212,-141.75\"/>\n",
       "<text text-anchor=\"middle\" x=\"162\" y=\"-128.25\" font-family=\"monospace\" font-size=\"10.00\">AccumulateGrad</text>\n",
       "</g>\n",
       "<!-- 11270857408&#45;&gt;11270856400 -->\n",
       "<g id=\"edge4\" class=\"edge\">\n",
       "<title>11270857408&#45;&gt;11270856400</title>\n",
       "<path fill=\"none\" stroke=\"black\" d=\"M152.5,-122.09C144.57,-114.55 133.05,-103.6 123.46,-94.48\"/>\n",
       "<polygon fill=\"black\" stroke=\"black\" points=\"126.11,-92.17 116.46,-87.82 121.29,-97.24 126.11,-92.17\"/>\n",
       "</g>\n",
       "<!-- 10952945936 -->\n",
       "<g id=\"node7\" class=\"node\">\n",
       "<title>10952945936</title>\n",
       "<polygon fill=\"lightblue\" stroke=\"black\" points=\"189,-209 135,-209 135,-177.75 189,-177.75 189,-209\"/>\n",
       "<text text-anchor=\"middle\" x=\"162\" y=\"-183.5\" font-family=\"monospace\" font-size=\"10.00\"> (1)</text>\n",
       "</g>\n",
       "<!-- 10952945936&#45;&gt;11270857408 -->\n",
       "<g id=\"edge5\" class=\"edge\">\n",
       "<title>10952945936&#45;&gt;11270857408</title>\n",
       "<path fill=\"none\" stroke=\"black\" d=\"M162,-177.42C162,-170.22 162,-161.47 162,-153.66\"/>\n",
       "<polygon fill=\"black\" stroke=\"black\" points=\"165.5,-153.68 162,-143.68 158.5,-153.68 165.5,-153.68\"/>\n",
       "</g>\n",
       "</g>\n",
       "</svg>\n"
      ],
      "text/plain": [
       "<graphviz.graphs.Digraph at 0x29e3704d0>"
      ]
     },
     "execution_count": 50,
     "metadata": {},
     "output_type": "execute_result"
    }
   ],
   "source": [
    "# Get model plot\n",
    "make_dot(linear_regression_0(X_train))"
   ]
  },
  {
   "cell_type": "code",
   "execution_count": 51,
   "id": "b8f47a26-2208-4be7-ba5e-ea55948da951",
   "metadata": {
    "tags": []
   },
   "outputs": [
    {
     "data": {
      "text/plain": [
       "OrderedDict([('weights', tensor([-0.8293])), ('bias', tensor([-1.6137]))])"
      ]
     },
     "execution_count": 51,
     "metadata": {},
     "output_type": "execute_result"
    }
   ],
   "source": [
    "# Get model parameters\n",
    "linear_regression_0.state_dict()"
   ]
  },
  {
   "cell_type": "markdown",
   "id": "2dfb550f-ee80-4b2f-9b14-77f7951fd352",
   "metadata": {},
   "source": [
    "#### Linear Layer"
   ]
  },
  {
   "cell_type": "markdown",
   "id": "311b13ec-d438-4adf-8f67-7da427da41cd",
   "metadata": {},
   "source": [
    "Although `linear_regression_0` model works just fine, in reality there is no need to build everything from scratch since the `nn.Linear` layer of Pytorch already implements the linear regression equation. We will now incrementally add these features from `torch.nn`. As we will see, these modules make building an NN model extremely easy."
   ]
  },
  {
   "cell_type": "code",
   "execution_count": 60,
   "id": "22274979-d74f-4876-bcc9-8a27ae14c98b",
   "metadata": {
    "tags": []
   },
   "outputs": [],
   "source": [
    "# Build the model using the nn.Linear\n",
    "class LinearRegressionModelV1(nn.Module):\n",
    "    \n",
    "    def __init__(self, in_features: int, out_features: int):\n",
    "        super().__init__()\n",
    "       \n",
    "        # Build linear layer (also called dense or fully connected layer) by using nn.Linear from nn.Module\n",
    "        self.linear_layer = nn.Linear(in_features=in_features, out_features=out_features)\n",
    "    \n",
    "    def forward(self, x: torch.Tensor) -> torch.Tensor:\n",
    "        return self.linear_layer(x)\n",
    "    \n",
    "linear_regression_1 = LinearRegressionModelV1(in_features=1, out_features=1)"
   ]
  },
  {
   "cell_type": "code",
   "execution_count": 61,
   "id": "e40c1f87-dcde-4170-844c-9f0a511a1ee7",
   "metadata": {
    "tags": []
   },
   "outputs": [
    {
     "data": {
      "text/plain": [
       "==============================================================================================================\n",
       "Layer (type (var_name))                            Input Shape     Output Shape    Param #         Trainable\n",
       "==============================================================================================================\n",
       "LinearRegressionModelV1 (LinearRegressionModelV1)  [40, 1]         [40, 1]         --              True\n",
       "├─Linear (linear_layer)                            [40, 1]         [40, 1]         2               True\n",
       "==============================================================================================================\n",
       "Total params: 2\n",
       "Trainable params: 2\n",
       "Non-trainable params: 0\n",
       "Total mult-adds (Units.MEGABYTES): 0.00\n",
       "==============================================================================================================\n",
       "Input size (MB): 0.00\n",
       "Forward/backward pass size (MB): 0.00\n",
       "Params size (MB): 0.00\n",
       "Estimated Total Size (MB): 0.00\n",
       "=============================================================================================================="
      ]
     },
     "execution_count": 61,
     "metadata": {},
     "output_type": "execute_result"
    }
   ],
   "source": [
    "summary(linear_regression_1, input_size=X_train.shape, col_names=[\"input_size\", \"output_size\", \"num_params\", \"trainable\"], col_width=15, row_settings=[\"var_names\"])"
   ]
  },
  {
   "cell_type": "code",
   "execution_count": 63,
   "id": "ae6d3b2d-846b-472b-a730-0e734415b2d1",
   "metadata": {
    "tags": []
   },
   "outputs": [
    {
     "data": {
      "image/svg+xml": [
       "<?xml version=\"1.0\" encoding=\"UTF-8\" standalone=\"no\"?>\n",
       "<!DOCTYPE svg PUBLIC \"-//W3C//DTD SVG 1.1//EN\"\n",
       " \"http://www.w3.org/Graphics/SVG/1.1/DTD/svg11.dtd\">\n",
       "<!-- Generated by graphviz version 9.0.0 (20230911.1827)\n",
       " -->\n",
       "<!-- Pages: 1 -->\n",
       "<svg width=\"214pt\" height=\"284pt\"\n",
       " viewBox=\"0.00 0.00 214.00 284.25\" xmlns=\"http://www.w3.org/2000/svg\" xmlns:xlink=\"http://www.w3.org/1999/xlink\">\n",
       "<g id=\"graph0\" class=\"graph\" transform=\"scale(1 1) rotate(0) translate(4 280.25)\">\n",
       "<polygon fill=\"white\" stroke=\"none\" points=\"-4,4 -4,-280.25 210,-280.25 210,4 -4,4\"/>\n",
       "<!-- 11039796368 -->\n",
       "<g id=\"node1\" class=\"node\">\n",
       "<title>11039796368</title>\n",
       "<polygon fill=\"#caff70\" stroke=\"black\" points=\"135,-31.25 71,-31.25 71,0 135,0 135,-31.25\"/>\n",
       "<text text-anchor=\"middle\" x=\"103\" y=\"-5.75\" font-family=\"monospace\" font-size=\"10.00\"> (40, 1)</text>\n",
       "</g>\n",
       "<!-- 11270852800 -->\n",
       "<g id=\"node2\" class=\"node\">\n",
       "<title>11270852800</title>\n",
       "<polygon fill=\"lightgrey\" stroke=\"black\" points=\"153,-86.5 53,-86.5 53,-67.25 153,-67.25 153,-86.5\"/>\n",
       "<text text-anchor=\"middle\" x=\"103\" y=\"-73\" font-family=\"monospace\" font-size=\"10.00\">AddmmBackward0</text>\n",
       "</g>\n",
       "<!-- 11270852800&#45;&gt;11039796368 -->\n",
       "<g id=\"edge6\" class=\"edge\">\n",
       "<title>11270852800&#45;&gt;11039796368</title>\n",
       "<path fill=\"none\" stroke=\"black\" d=\"M103,-66.88C103,-60.54 103,-51.7 103,-43.2\"/>\n",
       "<polygon fill=\"black\" stroke=\"black\" points=\"106.5,-43.22 103,-33.22 99.5,-43.22 106.5,-43.22\"/>\n",
       "</g>\n",
       "<!-- 11270851936 -->\n",
       "<g id=\"node3\" class=\"node\">\n",
       "<title>11270851936</title>\n",
       "<polygon fill=\"lightgrey\" stroke=\"black\" points=\"100,-141.75 0,-141.75 0,-122.5 100,-122.5 100,-141.75\"/>\n",
       "<text text-anchor=\"middle\" x=\"50\" y=\"-128.25\" font-family=\"monospace\" font-size=\"10.00\">AccumulateGrad</text>\n",
       "</g>\n",
       "<!-- 11270851936&#45;&gt;11270852800 -->\n",
       "<g id=\"edge1\" class=\"edge\">\n",
       "<title>11270851936&#45;&gt;11270852800</title>\n",
       "<path fill=\"none\" stroke=\"black\" d=\"M58.75,-122.33C66.15,-114.9 76.96,-104.04 86.05,-94.91\"/>\n",
       "<polygon fill=\"black\" stroke=\"black\" points=\"88.42,-97.49 92.99,-87.93 83.46,-92.55 88.42,-97.49\"/>\n",
       "</g>\n",
       "<!-- 11272707856 -->\n",
       "<g id=\"node4\" class=\"node\">\n",
       "<title>11272707856</title>\n",
       "<polygon fill=\"lightblue\" stroke=\"black\" points=\"77,-209 23,-209 23,-177.75 77,-177.75 77,-209\"/>\n",
       "<text text-anchor=\"middle\" x=\"50\" y=\"-183.5\" font-family=\"monospace\" font-size=\"10.00\"> (1)</text>\n",
       "</g>\n",
       "<!-- 11272707856&#45;&gt;11270851936 -->\n",
       "<g id=\"edge2\" class=\"edge\">\n",
       "<title>11272707856&#45;&gt;11270851936</title>\n",
       "<path fill=\"none\" stroke=\"black\" d=\"M50,-177.42C50,-170.22 50,-161.47 50,-153.66\"/>\n",
       "<polygon fill=\"black\" stroke=\"black\" points=\"53.5,-153.68 50,-143.68 46.5,-153.68 53.5,-153.68\"/>\n",
       "</g>\n",
       "<!-- 11270857552 -->\n",
       "<g id=\"node5\" class=\"node\">\n",
       "<title>11270857552</title>\n",
       "<polygon fill=\"lightgrey\" stroke=\"black\" points=\"194,-141.75 118,-141.75 118,-122.5 194,-122.5 194,-141.75\"/>\n",
       "<text text-anchor=\"middle\" x=\"156\" y=\"-128.25\" font-family=\"monospace\" font-size=\"10.00\">TBackward0</text>\n",
       "</g>\n",
       "<!-- 11270857552&#45;&gt;11270852800 -->\n",
       "<g id=\"edge3\" class=\"edge\">\n",
       "<title>11270857552&#45;&gt;11270852800</title>\n",
       "<path fill=\"none\" stroke=\"black\" d=\"M147.25,-122.33C139.85,-114.9 129.04,-104.04 119.95,-94.91\"/>\n",
       "<polygon fill=\"black\" stroke=\"black\" points=\"122.54,-92.55 113.01,-87.93 117.58,-97.49 122.54,-92.55\"/>\n",
       "</g>\n",
       "<!-- 11270862160 -->\n",
       "<g id=\"node6\" class=\"node\">\n",
       "<title>11270862160</title>\n",
       "<polygon fill=\"lightgrey\" stroke=\"black\" points=\"206,-203 106,-203 106,-183.75 206,-183.75 206,-203\"/>\n",
       "<text text-anchor=\"middle\" x=\"156\" y=\"-189.5\" font-family=\"monospace\" font-size=\"10.00\">AccumulateGrad</text>\n",
       "</g>\n",
       "<!-- 11270862160&#45;&gt;11270857552 -->\n",
       "<g id=\"edge4\" class=\"edge\">\n",
       "<title>11270862160&#45;&gt;11270857552</title>\n",
       "<path fill=\"none\" stroke=\"black\" d=\"M156,-183.38C156,-175.46 156,-163.64 156,-153.45\"/>\n",
       "<polygon fill=\"black\" stroke=\"black\" points=\"159.5,-153.72 156,-143.72 152.5,-153.72 159.5,-153.72\"/>\n",
       "</g>\n",
       "<!-- 11042963088 -->\n",
       "<g id=\"node7\" class=\"node\">\n",
       "<title>11042963088</title>\n",
       "<polygon fill=\"lightblue\" stroke=\"black\" points=\"185,-276.25 127,-276.25 127,-245 185,-245 185,-276.25\"/>\n",
       "<text text-anchor=\"middle\" x=\"156\" y=\"-250.75\" font-family=\"monospace\" font-size=\"10.00\"> (1, 1)</text>\n",
       "</g>\n",
       "<!-- 11042963088&#45;&gt;11270862160 -->\n",
       "<g id=\"edge5\" class=\"edge\">\n",
       "<title>11042963088&#45;&gt;11270862160</title>\n",
       "<path fill=\"none\" stroke=\"black\" d=\"M156,-244.82C156,-235.93 156,-224.5 156,-214.76\"/>\n",
       "<polygon fill=\"black\" stroke=\"black\" points=\"159.5,-214.81 156,-204.81 152.5,-214.81 159.5,-214.81\"/>\n",
       "</g>\n",
       "</g>\n",
       "</svg>\n"
      ],
      "text/plain": [
       "<graphviz.graphs.Digraph at 0x29fd75d50>"
      ]
     },
     "execution_count": 63,
     "metadata": {},
     "output_type": "execute_result"
    }
   ],
   "source": [
    "make_dot(linear_regression_1(X_train))"
   ]
  },
  {
   "cell_type": "code",
   "execution_count": 55,
   "id": "8b37865b-3732-4d4d-88d8-df788192d74a",
   "metadata": {
    "tags": []
   },
   "outputs": [
    {
     "data": {
      "text/plain": [
       "OrderedDict([('linear_layer.weight', tensor([[0.1789]])),\n",
       "             ('linear_layer.bias', tensor([0.5078]))])"
      ]
     },
     "execution_count": 55,
     "metadata": {},
     "output_type": "execute_result"
    }
   ],
   "source": [
    "linear_regression_1.state_dict()"
   ]
  },
  {
   "cell_type": "markdown",
   "id": "c0b6274f-df7c-415b-8df0-cac481af197e",
   "metadata": {},
   "source": [
    ">A few words on the `requires_grad` argument.\n",
    ">\n",
    ">PyTorch tensors can remember where they come from, in terms of the operations and parent tensors that originated them, and they can automatically provide the chain of derivatives of such operations with respect to their inputs. This means that given a forward expression, no matter how nested, PyTorch will automatically provide the gradient of that expression with respect to its input parameters.\n",
    ">\n",
    ">The `requires_grad` argument is telling PyTorch to track the entire family tree of tensors resulting from operations on params. In other words, any tensor that will have params as an ancestor will have access to the chain of functions that were called to get from params to that tensor. In case these functions are differentiable (and most PyTorch tensor operations will be), the value of the derivative will be automatically populated as a grad attribute of the params tensor.\n",
    ">\n",
    ">In general, all PyTorch tensors have an attribute named `grad`, which by default it’s `None`. All we have to do to populate it is to start with a tensor with `requires_grad` set to `True`. That way, the `grad` attribute of params will contain the derivatives of the loss with respect to each element of params."
   ]
  },
  {
   "cell_type": "markdown",
   "id": "3f05ca01-de20-4b74-82aa-b603a236f1ea",
   "metadata": {},
   "source": [
    "### Train & Validate Model"
   ]
  },
  {
   "cell_type": "markdown",
   "id": "3dabed78-b8a8-4916-9008-a8d55df86b4a",
   "metadata": {},
   "source": [
    "Now we will build a function in order to train and validate the model. In order to train the model first we have to  and an optimizer. Then we need to build a training loop:\n",
    "\n",
    "```\n",
    "Loop through the data (epochs) and do:\n",
    "    Step 1. Forward Propagation (defined with `forward` method in model class).\n",
    "    Step 2. Calculate Train Loss (need to define a loss function).\n",
    "    Step 3. Optimizer Zero Grad (calling `loss.backward()` in the next step will lead derivatives to accumulate. We need to zero the gradient explicitly after using it for parameter updates).\n",
    "    Step 4. Backpropagation (`loss.backward()` uses the `requires_grad` to compute the gradients).\n",
    "    Step 5. Optimizer Step (performs gradient descent - updates the model's parameters with respect to the gradients)\n",
    "```\n",
    "\n",
    "Finally we will validate the model with a metric."
   ]
  },
  {
   "cell_type": "code",
   "execution_count": 56,
   "id": "d26d7113-ddc0-40d5-87bf-c8afe6f6e999",
   "metadata": {
    "tags": []
   },
   "outputs": [],
   "source": [
    "# Build train function\n",
    "def train(\n",
    "    experiment_name: str,\n",
    "    model: nn.Module,\n",
    "    data: (torch.Tensor, torch.Tensor, torch.Tensor, torch.Tensor),\n",
    "    loss_fn: nn.Module,\n",
    "    optimizer: torch.optim.Optimizer,\n",
    "    metrics: list,\n",
    "    epochs: int,\n",
    "    description: str = None\n",
    "):  \n",
    "    # Set experiment tracking\n",
    "    mlflow.set_experiment(experiment_name=experiment_name)\n",
    "    \n",
    "    # Start tracking run\n",
    "    with mlflow.start_run(\n",
    "        run_name = f\"{model.__class__.__name__} {datetime.now().strftime('%Y-%m-%d-%H:%M:%S')}\", # Include both model name and date of run\n",
    "        description=description\n",
    "    ):\n",
    "\n",
    "        # Unpack data\n",
    "        X_train, X_test, y_train, y_test = data\n",
    "\n",
    "        # Pass data through model for a number of epochs\n",
    "        for epoch in range(epochs):\n",
    "            \n",
    "            # Create metrics dictionary to temporarily save metrics\n",
    "            metrics_dict = {}   \n",
    "\n",
    "            ### TRAINING ###\n",
    "            # Put model in training mode (default state of a model) which sets all parameters that require gradients to require gradients\n",
    "            model.train()\n",
    "\n",
    "            # Step 1: Forward Propagation\n",
    "            # Pass data through model which will run the `forward()` method of class, automatically triggered in `__call__()`\n",
    "            y_pred = model(X_train)\n",
    "\n",
    "            # Step 2: Calculate Train Loss\n",
    "            train_loss = loss_fn(y_pred, y_train)\n",
    "\n",
    "            # Step 3: Optimzer Zero Grad\n",
    "            # Zero optimizer gradients to start fresh each forward pass (they accumulate over every iteration) \n",
    "            optimizer.zero_grad()\n",
    "\n",
    "            # Step 4: Backpropagation\n",
    "            # Compute gradient of every parameter with `requires_grad=True`\n",
    "            train_loss.backward()\n",
    "\n",
    "            # Step 5: Optimizer Step \n",
    "            # Update model's parameters with respect to the gradients calculated by `loss.backward()`\n",
    "            optimizer.step()\n",
    "            \n",
    "            # Calculate training metrics\n",
    "            for metric in metrics:\n",
    "                metrics_dict[f\"train_{metric.__class__.__name__}\"] = metric(y_pred, y_train)\n",
    "                \n",
    "            ### VALIDATING ###\n",
    "            # put the model in evaluation mode which turns off functionality used for training\n",
    "            model.eval()\n",
    "\n",
    "            # turn on `torch.inference_mode()` context manager to disable functionality such as gradient tracking not needed for inference\n",
    "            with torch.inference_mode():\n",
    "\n",
    "                # pass the test data through the model (this will call the model's implemented `forward()` method)\n",
    "                y_pred = model(X_test)\n",
    "\n",
    "                # calculate the validation loss\n",
    "                validation_loss = loss_fn(y_pred, y_test)\n",
    "                \n",
    "                # calculate validation metrics\n",
    "                for metric in metrics:\n",
    "                    metrics_dict[f\"validation_{metric.__class__.__name__}\"] = metric(y_pred, y_test)\n",
    "                    \n",
    "            # Display info on how model is doing during training\n",
    "            if epoch % (epochs/10) == 0:\n",
    "                print(f\"Epoch: {epoch} | Train Loss: {train_loss:.3f} | Validation Loss: {validation_loss:.3f}\")\n",
    "            \n",
    "            ### LOGGING ###\n",
    "            # Log train and validation loss\n",
    "            mlflow.log_metrics({\n",
    "                \"train_loss\": train_loss.item(),\n",
    "                \"validation_loss\": validation_loss.item()\n",
    "            }, step=epoch)\n",
    "\n",
    "            # Log train and validation metrics\n",
    "            for metric_name, metric_value in metrics_dict.items():\n",
    "                mlflow.log_metric(key=metric_name, value=metric_value, step=epoch)\n",
    "\n",
    "        # Log model\n",
    "        mlflow.pytorch.log_model(model, \"model\")\n",
    "        \n",
    "        # Log hyperparameters\n",
    "        mlflow.log_params({\n",
    "            \"epochs\": epochs,\n",
    "            \"optimizer\": optimizer.__class__.__name__,\n",
    "            \"lr\": optimizer.param_groups[0][\"lr\"]\n",
    "        })\n",
    "\n",
    "        # Plot and log train validation loss plot\n",
    "        fig = train_val_loss_plot(run_id= mlflow.active_run().info.run_id, plot=True)\n",
    "        mlflow.log_figure(fig, \"plots/train_validation_loss_curves.png\")"
   ]
  },
  {
   "cell_type": "code",
   "execution_count": 57,
   "id": "2fe62074-814c-44e8-a648-8c56c7634de4",
   "metadata": {
    "tags": []
   },
   "outputs": [
    {
     "name": "stdout",
     "output_type": "stream",
     "text": [
      "Epoch: 0 | Train Loss: 4.687 | Validation Loss: 1.587\n",
      "Epoch: 20 | Train Loss: 0.583 | Validation Loss: 0.601\n",
      "Epoch: 40 | Train Loss: 0.263 | Validation Loss: 0.278\n",
      "Epoch: 60 | Train Loss: 0.119 | Validation Loss: 0.125\n",
      "Epoch: 80 | Train Loss: 0.053 | Validation Loss: 0.057\n",
      "Epoch: 100 | Train Loss: 0.024 | Validation Loss: 0.026\n",
      "Epoch: 120 | Train Loss: 0.011 | Validation Loss: 0.012\n",
      "Epoch: 140 | Train Loss: 0.005 | Validation Loss: 0.005\n",
      "Epoch: 160 | Train Loss: 0.002 | Validation Loss: 0.002\n",
      "Epoch: 180 | Train Loss: 0.001 | Validation Loss: 0.001\n"
     ]
    },
    {
     "data": {
      "image/png": "[encoded data removed]",
      "text/plain": [
       "<Figure size 600x300 with 1 Axes>"
      ]
     },
     "metadata": {},
     "output_type": "display_data"
    }
   ],
   "source": [
    "# Random seed for reproducibility\n",
    "torch.manual_seed(42) \n",
    "\n",
    "# Initiate model\n",
    "model = LinearRegressionModelV1(in_features=X_train.shape[1], out_features=1)\n",
    "\n",
    "# Setup loss function\n",
    "loss_fn = nn.MSELoss()\n",
    "\n",
    "# Setup optimizer by defining which parameters should the optimizer optimize\n",
    "optimizer = torch.optim.SGD(params=model.parameters(), lr=0.01)\n",
    "\n",
    "# Define metrics to track\n",
    "metrics = [torchmetrics.MeanSquaredError()]\n",
    "\n",
    "# Train model\n",
    "train(experiment_name=\"linear_regression\",\n",
    "      model=model, \n",
    "      data=(X_train, X_test, y_train, y_test), \n",
    "      loss_fn=loss_fn , \n",
    "      optimizer=optimizer, \n",
    "      metrics=metrics, \n",
    "      epochs=200)"
   ]
  },
  {
   "cell_type": "code",
   "execution_count": 16,
   "id": "5ed4d7ed-f433-43fd-a6e5-5c4ee7a99fbd",
   "metadata": {
    "tags": []
   },
   "outputs": [
    {
     "data": {
      "image/png": "[encoded data removed]",
      "text/plain": [
       "<Figure size 600x300 with 1 Axes>"
      ]
     },
     "metadata": {},
     "output_type": "display_data"
    }
   ],
   "source": [
    "# Plot predictions\n",
    "plt.scatter(X_train, y_train, label='train')\n",
    "plt.scatter(X_test, y_test, label='test')\n",
    "plt.scatter(X_test, model(X_test).detach().numpy(), label='pred')\n",
    "plt.legend(bbox_to_anchor=(1,1.05), loc=\"upper left\")\n",
    "plt.show()"
   ]
  },
  {
   "cell_type": "markdown",
   "id": "9af95e10-1607-47e6-80a2-c4e21b645d0b",
   "metadata": {},
   "source": [
    "### Application: Insurance Charges"
   ]
  },
  {
   "cell_type": "code",
   "execution_count": 17,
   "id": "8bd51bc6-6045-406f-82b1-cc4b24c66e2e",
   "metadata": {
    "tags": []
   },
   "outputs": [
    {
     "data": {
      "text/html": [
       "<div>\n",
       "<style scoped>\n",
       "    .dataframe tbody tr th:only-of-type {\n",
       "        vertical-align: middle;\n",
       "    }\n",
       "\n",
       "    .dataframe tbody tr th {\n",
       "        vertical-align: top;\n",
       "    }\n",
       "\n",
       "    .dataframe thead th {\n",
       "        text-align: right;\n",
       "    }\n",
       "</style>\n",
       "<table border=\"1\" class=\"dataframe\">\n",
       "  <thead>\n",
       "    <tr style=\"text-align: right;\">\n",
       "      <th></th>\n",
       "      <th>age</th>\n",
       "      <th>sex</th>\n",
       "      <th>bmi</th>\n",
       "      <th>children</th>\n",
       "      <th>smoker</th>\n",
       "      <th>region</th>\n",
       "      <th>charges</th>\n",
       "    </tr>\n",
       "  </thead>\n",
       "  <tbody>\n",
       "    <tr>\n",
       "      <th>0</th>\n",
       "      <td>19</td>\n",
       "      <td>female</td>\n",
       "      <td>27.900</td>\n",
       "      <td>0</td>\n",
       "      <td>yes</td>\n",
       "      <td>southwest</td>\n",
       "      <td>16884.92400</td>\n",
       "    </tr>\n",
       "    <tr>\n",
       "      <th>1</th>\n",
       "      <td>18</td>\n",
       "      <td>male</td>\n",
       "      <td>33.770</td>\n",
       "      <td>1</td>\n",
       "      <td>no</td>\n",
       "      <td>southeast</td>\n",
       "      <td>1725.55230</td>\n",
       "    </tr>\n",
       "    <tr>\n",
       "      <th>2</th>\n",
       "      <td>28</td>\n",
       "      <td>male</td>\n",
       "      <td>33.000</td>\n",
       "      <td>3</td>\n",
       "      <td>no</td>\n",
       "      <td>southeast</td>\n",
       "      <td>4449.46200</td>\n",
       "    </tr>\n",
       "    <tr>\n",
       "      <th>3</th>\n",
       "      <td>33</td>\n",
       "      <td>male</td>\n",
       "      <td>22.705</td>\n",
       "      <td>0</td>\n",
       "      <td>no</td>\n",
       "      <td>northwest</td>\n",
       "      <td>21984.47061</td>\n",
       "    </tr>\n",
       "    <tr>\n",
       "      <th>4</th>\n",
       "      <td>32</td>\n",
       "      <td>male</td>\n",
       "      <td>28.880</td>\n",
       "      <td>0</td>\n",
       "      <td>no</td>\n",
       "      <td>northwest</td>\n",
       "      <td>3866.85520</td>\n",
       "    </tr>\n",
       "  </tbody>\n",
       "</table>\n",
       "</div>"
      ],
      "text/plain": [
       "   age     sex     bmi  children smoker     region      charges\n",
       "0   19  female  27.900         0    yes  southwest  16884.92400\n",
       "1   18    male  33.770         1     no  southeast   1725.55230\n",
       "2   28    male  33.000         3     no  southeast   4449.46200\n",
       "3   33    male  22.705         0     no  northwest  21984.47061\n",
       "4   32    male  28.880         0     no  northwest   3866.85520"
      ]
     },
     "execution_count": 17,
     "metadata": {},
     "output_type": "execute_result"
    }
   ],
   "source": [
    "def download_data():\n",
    "    return pd.read_csv(\"https://raw.githubusercontent.com/stedy/Machine-Learning-with-R-datasets/master/insurance.csv?raw=true\")\n",
    "\n",
    "df = download_data()\n",
    "df.head()"
   ]
  },
  {
   "cell_type": "code",
   "execution_count": 64,
   "id": "17fd1062-147d-4d68-98ef-ffabbf16b5c2",
   "metadata": {
    "tags": []
   },
   "outputs": [
    {
     "name": "stdout",
     "output_type": "stream",
     "text": [
      "X_train: torch.Size([1070, 11]) | X_test: torch.Size([268, 11]) | y_train: torch.Size([1070, 1]) | y_test: torch.Size([268, 1]) \n",
      "\n"
     ]
    }
   ],
   "source": [
    "def make_data(df):\n",
    "    \n",
    "    # Categorical encoding\n",
    "    df = pd.get_dummies(df, [\"sex\", \"smoker\", \"region\"], dtype=int)\n",
    "    \n",
    "    # Create features and targets tensors\n",
    "    X = torch.Tensor(df.drop(\"charges\", axis=1).to_numpy())\n",
    "    y = torch.Tensor(df.charges.to_numpy())\n",
    "\n",
    "    # Split train and test datasets\n",
    "    X_train, X_test, y_train, y_test = train_test_split(X, y, test_size=0.2, random_state=42)\n",
    "    \n",
    "    # Fix shapes\n",
    "    y_train, y_test = y_train.unsqueeze(1), y_test.unsqueeze(1)\n",
    "    print(f\"X_train: {X_train.shape} | X_test: {X_test.shape} | y_train: {y_train.shape} | y_test: {y_test.shape} \\n\")\n",
    "\n",
    "    return X_train, X_test, y_train, y_test\n",
    "\n",
    "X_train, X_test, y_train, y_test = make_data(df=df)"
   ]
  },
  {
   "cell_type": "code",
   "execution_count": 65,
   "id": "2f2f7ec0-85f6-4e11-9ec8-114724474dae",
   "metadata": {
    "tags": []
   },
   "outputs": [],
   "source": [
    "class LinearModel(nn.Module):\n",
    "    def __init__(self, in_features: int, out_features: int):\n",
    "        super().__init__()\n",
    "        \n",
    "        self.linear_layer = nn.Linear(in_features=in_features, out_features=out_features)\n",
    "    \n",
    "    def forward(self, x: torch.Tensor) -> torch.Tensor:\n",
    "        return self.linear_layer(x)\n",
    "    \n",
    "model = LinearModel(in_features=X_train.shape[1], out_features=1)"
   ]
  },
  {
   "cell_type": "code",
   "execution_count": 66,
   "id": "dde87172-a29f-48ec-83b6-3d5eaf678113",
   "metadata": {
    "tags": []
   },
   "outputs": [
    {
     "data": {
      "text/plain": [
       "====================================================================================================\n",
       "Layer (type (var_name))                  Input Shape     Output Shape    Param #         Trainable\n",
       "====================================================================================================\n",
       "LinearModel (LinearModel)                [1070, 11]      [1070, 1]       --              True\n",
       "├─Linear (linear_layer)                  [1070, 11]      [1070, 1]       12              True\n",
       "====================================================================================================\n",
       "Total params: 12\n",
       "Trainable params: 12\n",
       "Non-trainable params: 0\n",
       "Total mult-adds (Units.MEGABYTES): 0.01\n",
       "====================================================================================================\n",
       "Input size (MB): 0.05\n",
       "Forward/backward pass size (MB): 0.01\n",
       "Params size (MB): 0.00\n",
       "Estimated Total Size (MB): 0.06\n",
       "===================================================================================================="
      ]
     },
     "execution_count": 66,
     "metadata": {},
     "output_type": "execute_result"
    }
   ],
   "source": [
    "summary(model, input_size=X_train.shape, col_names=[\"input_size\", \"output_size\", \"num_params\", \"trainable\"], col_width=15, row_settings=[\"var_names\"])"
   ]
  },
  {
   "cell_type": "code",
   "execution_count": 69,
   "id": "8841db27-791e-46d2-91d8-4fdb506f5f34",
   "metadata": {
    "tags": []
   },
   "outputs": [
    {
     "data": {
      "image/svg+xml": [
       "<?xml version=\"1.0\" encoding=\"UTF-8\" standalone=\"no\"?>\n",
       "<!DOCTYPE svg PUBLIC \"-//W3C//DTD SVG 1.1//EN\"\n",
       " \"http://www.w3.org/Graphics/SVG/1.1/DTD/svg11.dtd\">\n",
       "<!-- Generated by graphviz version 9.0.0 (20230911.1827)\n",
       " -->\n",
       "<!-- Pages: 1 -->\n",
       "<svg width=\"214pt\" height=\"284pt\"\n",
       " viewBox=\"0.00 0.00 214.00 284.25\" xmlns=\"http://www.w3.org/2000/svg\" xmlns:xlink=\"http://www.w3.org/1999/xlink\">\n",
       "<g id=\"graph0\" class=\"graph\" transform=\"scale(1 1) rotate(0) translate(4 280.25)\">\n",
       "<polygon fill=\"white\" stroke=\"none\" points=\"-4,4 -4,-280.25 210,-280.25 210,4 -4,4\"/>\n",
       "<!-- 11273204080 -->\n",
       "<g id=\"node1\" class=\"node\">\n",
       "<title>11273204080</title>\n",
       "<polygon fill=\"#caff70\" stroke=\"black\" points=\"141,-31.25 65,-31.25 65,0 141,0 141,-31.25\"/>\n",
       "<text text-anchor=\"middle\" x=\"103\" y=\"-5.75\" font-family=\"monospace\" font-size=\"10.00\"> (1070, 1)</text>\n",
       "</g>\n",
       "<!-- 11270857696 -->\n",
       "<g id=\"node2\" class=\"node\">\n",
       "<title>11270857696</title>\n",
       "<polygon fill=\"lightgrey\" stroke=\"black\" points=\"153,-86.5 53,-86.5 53,-67.25 153,-67.25 153,-86.5\"/>\n",
       "<text text-anchor=\"middle\" x=\"103\" y=\"-73\" font-family=\"monospace\" font-size=\"10.00\">AddmmBackward0</text>\n",
       "</g>\n",
       "<!-- 11270857696&#45;&gt;11273204080 -->\n",
       "<g id=\"edge6\" class=\"edge\">\n",
       "<title>11270857696&#45;&gt;11273204080</title>\n",
       "<path fill=\"none\" stroke=\"black\" d=\"M103,-66.88C103,-60.54 103,-51.7 103,-43.2\"/>\n",
       "<polygon fill=\"black\" stroke=\"black\" points=\"106.5,-43.22 103,-33.22 99.5,-43.22 106.5,-43.22\"/>\n",
       "</g>\n",
       "<!-- 11270857264 -->\n",
       "<g id=\"node3\" class=\"node\">\n",
       "<title>11270857264</title>\n",
       "<polygon fill=\"lightgrey\" stroke=\"black\" points=\"100,-141.75 0,-141.75 0,-122.5 100,-122.5 100,-141.75\"/>\n",
       "<text text-anchor=\"middle\" x=\"50\" y=\"-128.25\" font-family=\"monospace\" font-size=\"10.00\">AccumulateGrad</text>\n",
       "</g>\n",
       "<!-- 11270857264&#45;&gt;11270857696 -->\n",
       "<g id=\"edge1\" class=\"edge\">\n",
       "<title>11270857264&#45;&gt;11270857696</title>\n",
       "<path fill=\"none\" stroke=\"black\" d=\"M58.75,-122.33C66.15,-114.9 76.96,-104.04 86.05,-94.91\"/>\n",
       "<polygon fill=\"black\" stroke=\"black\" points=\"88.42,-97.49 92.99,-87.93 83.46,-92.55 88.42,-97.49\"/>\n",
       "</g>\n",
       "<!-- 11273206480 -->\n",
       "<g id=\"node4\" class=\"node\">\n",
       "<title>11273206480</title>\n",
       "<polygon fill=\"lightblue\" stroke=\"black\" points=\"77,-209 23,-209 23,-177.75 77,-177.75 77,-209\"/>\n",
       "<text text-anchor=\"middle\" x=\"50\" y=\"-183.5\" font-family=\"monospace\" font-size=\"10.00\"> (1)</text>\n",
       "</g>\n",
       "<!-- 11273206480&#45;&gt;11270857264 -->\n",
       "<g id=\"edge2\" class=\"edge\">\n",
       "<title>11273206480&#45;&gt;11270857264</title>\n",
       "<path fill=\"none\" stroke=\"black\" d=\"M50,-177.42C50,-170.22 50,-161.47 50,-153.66\"/>\n",
       "<polygon fill=\"black\" stroke=\"black\" points=\"53.5,-153.68 50,-143.68 46.5,-153.68 53.5,-153.68\"/>\n",
       "</g>\n",
       "<!-- 11270862688 -->\n",
       "<g id=\"node5\" class=\"node\">\n",
       "<title>11270862688</title>\n",
       "<polygon fill=\"lightgrey\" stroke=\"black\" points=\"194,-141.75 118,-141.75 118,-122.5 194,-122.5 194,-141.75\"/>\n",
       "<text text-anchor=\"middle\" x=\"156\" y=\"-128.25\" font-family=\"monospace\" font-size=\"10.00\">TBackward0</text>\n",
       "</g>\n",
       "<!-- 11270862688&#45;&gt;11270857696 -->\n",
       "<g id=\"edge3\" class=\"edge\">\n",
       "<title>11270862688&#45;&gt;11270857696</title>\n",
       "<path fill=\"none\" stroke=\"black\" d=\"M147.25,-122.33C139.85,-114.9 129.04,-104.04 119.95,-94.91\"/>\n",
       "<polygon fill=\"black\" stroke=\"black\" points=\"122.54,-92.55 113.01,-87.93 117.58,-97.49 122.54,-92.55\"/>\n",
       "</g>\n",
       "<!-- 11270859904 -->\n",
       "<g id=\"node6\" class=\"node\">\n",
       "<title>11270859904</title>\n",
       "<polygon fill=\"lightgrey\" stroke=\"black\" points=\"206,-203 106,-203 106,-183.75 206,-183.75 206,-203\"/>\n",
       "<text text-anchor=\"middle\" x=\"156\" y=\"-189.5\" font-family=\"monospace\" font-size=\"10.00\">AccumulateGrad</text>\n",
       "</g>\n",
       "<!-- 11270859904&#45;&gt;11270862688 -->\n",
       "<g id=\"edge4\" class=\"edge\">\n",
       "<title>11270859904&#45;&gt;11270862688</title>\n",
       "<path fill=\"none\" stroke=\"black\" d=\"M156,-183.38C156,-175.46 156,-163.64 156,-153.45\"/>\n",
       "<polygon fill=\"black\" stroke=\"black\" points=\"159.5,-153.72 156,-143.72 152.5,-153.72 159.5,-153.72\"/>\n",
       "</g>\n",
       "<!-- 11043919472 -->\n",
       "<g id=\"node7\" class=\"node\">\n",
       "<title>11043919472</title>\n",
       "<polygon fill=\"lightblue\" stroke=\"black\" points=\"188,-276.25 124,-276.25 124,-245 188,-245 188,-276.25\"/>\n",
       "<text text-anchor=\"middle\" x=\"156\" y=\"-250.75\" font-family=\"monospace\" font-size=\"10.00\"> (1, 11)</text>\n",
       "</g>\n",
       "<!-- 11043919472&#45;&gt;11270859904 -->\n",
       "<g id=\"edge5\" class=\"edge\">\n",
       "<title>11043919472&#45;&gt;11270859904</title>\n",
       "<path fill=\"none\" stroke=\"black\" d=\"M156,-244.82C156,-235.93 156,-224.5 156,-214.76\"/>\n",
       "<polygon fill=\"black\" stroke=\"black\" points=\"159.5,-214.81 156,-204.81 152.5,-214.81 159.5,-214.81\"/>\n",
       "</g>\n",
       "</g>\n",
       "</svg>\n"
      ],
      "text/plain": [
       "<graphviz.graphs.Digraph at 0x29fecfe50>"
      ]
     },
     "execution_count": 69,
     "metadata": {},
     "output_type": "execute_result"
    }
   ],
   "source": [
    "make_dot(model(X_train))"
   ]
  },
  {
   "cell_type": "code",
   "execution_count": 70,
   "id": "66a22420-0be6-44a8-98c2-7ba0d807f702",
   "metadata": {
    "tags": []
   },
   "outputs": [
    {
     "name": "stdout",
     "output_type": "stream",
     "text": [
      "Epoch: 0 | Train Loss: 13329.157 | Validation Loss: 12926.699\n",
      "Epoch: 100 | Train Loss: 10884.403 | Validation Loss: 10504.970\n",
      "Epoch: 200 | Train Loss: 9100.570 | Validation Loss: 8790.653\n",
      "Epoch: 300 | Train Loss: 8045.015 | Validation Loss: 7899.521\n",
      "Epoch: 400 | Train Loss: 7549.274 | Validation Loss: 7566.482\n",
      "Epoch: 500 | Train Loss: 7383.863 | Validation Loss: 7449.214\n",
      "Epoch: 600 | Train Loss: 7324.209 | Validation Loss: 7405.370\n",
      "Epoch: 700 | Train Loss: 7295.815 | Validation Loss: 7382.813\n",
      "Epoch: 800 | Train Loss: 7280.084 | Validation Loss: 7366.405\n",
      "Epoch: 900 | Train Loss: 7267.781 | Validation Loss: 7350.292\n"
     ]
    },
    {
     "data": {
      "image/png": "[encoded data removed]",
      "text/plain": [
       "<Figure size 600x300 with 1 Axes>"
      ]
     },
     "metadata": {},
     "output_type": "display_data"
    }
   ],
   "source": [
    "torch.manual_seed(42) \n",
    "model = LinearModel(in_features=X_train.shape[1], out_features=1)\n",
    "loss_fn = nn.L1Loss()\n",
    "optimizer = torch.optim.SGD(params=model.parameters(), lr=0.01)\n",
    "metrics = [torchmetrics.MeanAbsoluteError()]\n",
    "train(experiment_name=\"insurance_charges\", \n",
    "      model=model, \n",
    "      data=(X_train, X_test, y_train, y_test), \n",
    "      loss_fn=loss_fn, \n",
    "      optimizer=optimizer, \n",
    "      metrics=metrics, \n",
    "      epochs=1000)"
   ]
  },
  {
   "cell_type": "markdown",
   "id": "21ca015e-8311-4d76-b525-6ee106db6679",
   "metadata": {
    "tags": []
   },
   "source": [
    "## Classification"
   ]
  },
  {
   "cell_type": "markdown",
   "id": "a4fdf952-6545-4d5e-af2e-bb39a8662c01",
   "metadata": {
    "tags": []
   },
   "source": [
    "### Data"
   ]
  },
  {
   "cell_type": "code",
   "execution_count": 71,
   "id": "d003728a-679a-4a83-ac70-9c8ee48085c1",
   "metadata": {
    "tags": []
   },
   "outputs": [
    {
     "data": {
      "image/png": "[encoded data removed]",
      "text/plain": [
       "<Figure size 600x300 with 1 Axes>"
      ]
     },
     "metadata": {},
     "output_type": "display_data"
    },
    {
     "name": "stdout",
     "output_type": "stream",
     "text": [
      "X_train: torch.Size([800, 2]) | X_test: torch.Size([200, 2]) | y_train: torch.Size([800]) | y_test: torch.Size([200])\n",
      "Target Counts: (tensor([0., 1.]), tensor([400, 400])) | (tensor([0., 1.]), tensor([100, 100])) \n",
      "\n"
     ]
    }
   ],
   "source": [
    "# Create data to experiment with\n",
    "def make_data():\n",
    "    # Make 1000 circles\n",
    "    X, y = make_circles(1000, noise=0.03, random_state=42)\n",
    "    \n",
    "    # Create feature and target tensors\n",
    "    X = torch.Tensor(X)\n",
    "    y = torch.Tensor(y)\n",
    "\n",
    "    # Split train and test dataset\n",
    "    X_train, X_test, y_train, y_test = train_test_split(X, y, test_size=0.2, random_state=42)\n",
    "    \n",
    "    # Plot circles and print info\n",
    "    plt.scatter(X[:, 0], X[:, 1], c=y, cmap=plt.cm.RdYlBu)\n",
    "    plt.show()\n",
    "    \n",
    "    print(f\"X_train: {X_train.shape} | X_test: {X_test.shape} | y_train: {y_train.shape} | y_test: {y_test.shape}\")\n",
    "    print(f\"Target Counts: {torch.unique(y_train, return_counts=True)} | {torch.unique(y_test, return_counts=True)} \\n\")\n",
    "    \n",
    "    return X_train, X_test, y_train, y_test\n",
    "\n",
    "X_train, X_test, y_train, y_test = make_data()"
   ]
  },
  {
   "cell_type": "markdown",
   "id": "4ca376e2-b6ae-44ab-b6e9-50a7ca5ee6d7",
   "metadata": {
    "tags": []
   },
   "source": [
    "### Models"
   ]
  },
  {
   "cell_type": "markdown",
   "id": "38389da8-1208-4109-9afc-8037c6879229",
   "metadata": {},
   "source": [
    "We will build our model in two ways. The sequential way and the functional way. Both ways will result to the same model, it's just different ways of developing the model. Let's start with the sequential."
   ]
  },
  {
   "cell_type": "markdown",
   "id": "0edc9906-7da2-4795-88c3-998a65954281",
   "metadata": {
    "tags": []
   },
   "source": [
    "#### Sequential"
   ]
  },
  {
   "cell_type": "code",
   "execution_count": 72,
   "id": "e288049a-261f-44e3-b6de-9b1b2ca19b2e",
   "metadata": {
    "tags": []
   },
   "outputs": [],
   "source": [
    "# Build model using `nn.Sequential` which accepts layers of `nn.Module` module in a sequential order\n",
    "class SequentialClassifier(nn.Module):\n",
    "    \n",
    "    def __init__(self, in_features: int, hidden_units: int, out_features: int):\n",
    "        super().__init__()\n",
    "        self.sequential = nn.Sequential(\n",
    "            nn.Linear(in_features=in_features, out_features=hidden_units), # Input pre-activation layer\n",
    "            nn.ReLU(), # Hidden activation layer\n",
    "            nn.Linear(in_features=hidden_units, out_features=hidden_units), # Hidden pre-activation layer\n",
    "            nn.ReLU(), # Hidden activation layer\n",
    "            nn.Linear(in_features=hidden_units, out_features=out_features), # Hidden pre-activation layer\n",
    "            nn.Sigmoid() # Output activation layer\n",
    "        )\n",
    "       \n",
    "    def forward(self, x: torch.Tensor) -> torch.Tensor:\n",
    "        return self.sequential(x).squeeze()\n",
    "\n",
    "sequential_classifier = SequentialClassifier(in_features=2, hidden_units=10, out_features=1)"
   ]
  },
  {
   "cell_type": "code",
   "execution_count": 73,
   "id": "1550d0b4-411c-45d3-89e4-289c425af632",
   "metadata": {
    "tags": []
   },
   "outputs": [
    {
     "data": {
      "text/plain": [
       "=========================================================================================================\n",
       "Layer (type (var_name))                       Input Shape     Output Shape    Param #         Trainable\n",
       "=========================================================================================================\n",
       "SequentialClassifier (SequentialClassifier)   [800, 2]        [800]           --              True\n",
       "├─Sequential (sequential)                     [800, 2]        [800, 1]        --              True\n",
       "│    └─Linear (0)                             [800, 2]        [800, 10]       30              True\n",
       "│    └─ReLU (1)                               [800, 10]       [800, 10]       --              --\n",
       "│    └─Linear (2)                             [800, 10]       [800, 10]       110             True\n",
       "│    └─ReLU (3)                               [800, 10]       [800, 10]       --              --\n",
       "│    └─Linear (4)                             [800, 10]       [800, 1]        11              True\n",
       "│    └─Sigmoid (5)                            [800, 1]        [800, 1]        --              --\n",
       "=========================================================================================================\n",
       "Total params: 151\n",
       "Trainable params: 151\n",
       "Non-trainable params: 0\n",
       "Total mult-adds (Units.MEGABYTES): 0.12\n",
       "=========================================================================================================\n",
       "Input size (MB): 0.01\n",
       "Forward/backward pass size (MB): 0.13\n",
       "Params size (MB): 0.00\n",
       "Estimated Total Size (MB): 0.14\n",
       "========================================================================================================="
      ]
     },
     "execution_count": 73,
     "metadata": {},
     "output_type": "execute_result"
    }
   ],
   "source": [
    "summary(sequential_classifier, input_size=X_train.shape, col_names=[\"input_size\", \"output_size\", \"num_params\", \"trainable\"], col_width=15, row_settings=[\"var_names\"])"
   ]
  },
  {
   "cell_type": "code",
   "execution_count": 74,
   "id": "eaa25d60-0aac-499b-8e5d-56e33ef688fc",
   "metadata": {
    "tags": []
   },
   "outputs": [
    {
     "data": {
      "image/svg+xml": [
       "<?xml version=\"1.0\" encoding=\"UTF-8\" standalone=\"no\"?>\n",
       "<!DOCTYPE svg PUBLIC \"-//W3C//DTD SVG 1.1//EN\"\n",
       " \"http://www.w3.org/Graphics/SVG/1.1/DTD/svg11.dtd\">\n",
       "<!-- Generated by graphviz version 9.0.0 (20230911.1827)\n",
       " -->\n",
       "<!-- Pages: 1 -->\n",
       "<svg width=\"405pt\" height=\"676pt\"\n",
       " viewBox=\"0.00 0.00 405.00 675.75\" xmlns=\"http://www.w3.org/2000/svg\" xmlns:xlink=\"http://www.w3.org/1999/xlink\">\n",
       "<g id=\"graph0\" class=\"graph\" transform=\"scale(1 1) rotate(0) translate(4 671.75)\">\n",
       "<polygon fill=\"white\" stroke=\"none\" points=\"-4,4 -4,-671.75 401,-671.75 401,4 -4,4\"/>\n",
       "<!-- 11275839504 -->\n",
       "<g id=\"node1\" class=\"node\">\n",
       "<title>11275839504</title>\n",
       "<polygon fill=\"#caff70\" stroke=\"black\" points=\"227,-31.25 173,-31.25 173,0 227,0 227,-31.25\"/>\n",
       "<text text-anchor=\"middle\" x=\"200\" y=\"-5.75\" font-family=\"monospace\" font-size=\"10.00\"> (800)</text>\n",
       "</g>\n",
       "<!-- 11272830736 -->\n",
       "<g id=\"node2\" class=\"node\">\n",
       "<title>11272830736</title>\n",
       "<polygon fill=\"lightgrey\" stroke=\"black\" points=\"202,-92.5 90,-92.5 90,-73.25 202,-73.25 202,-92.5\"/>\n",
       "<text text-anchor=\"middle\" x=\"146\" y=\"-79\" font-family=\"monospace\" font-size=\"10.00\">SqueezeBackward0</text>\n",
       "</g>\n",
       "<!-- 11272830736&#45;&gt;11275839504 -->\n",
       "<g id=\"edge22\" class=\"edge\">\n",
       "<title>11272830736&#45;&gt;11275839504</title>\n",
       "<path fill=\"none\" stroke=\"black\" d=\"M153.51,-72.8C160.46,-64.4 171.1,-51.54 180.45,-40.25\"/>\n",
       "<polygon fill=\"black\" stroke=\"black\" points=\"182.93,-42.74 186.61,-32.8 177.54,-38.27 182.93,-42.74\"/>\n",
       "</g>\n",
       "<!-- 11272817776 -->\n",
       "<g id=\"node3\" class=\"node\">\n",
       "<title>11272817776</title>\n",
       "<polygon fill=\"lightgrey\" stroke=\"black\" points=\"256,-153.75 144,-153.75 144,-134.5 256,-134.5 256,-153.75\"/>\n",
       "<text text-anchor=\"middle\" x=\"200\" y=\"-140.25\" font-family=\"monospace\" font-size=\"10.00\">SigmoidBackward0</text>\n",
       "</g>\n",
       "<!-- 11272817776&#45;&gt;11272830736 -->\n",
       "<g id=\"edge1\" class=\"edge\">\n",
       "<title>11272817776&#45;&gt;11272830736</title>\n",
       "<path fill=\"none\" stroke=\"black\" d=\"M191.8,-134.13C183.87,-125.43 171.65,-112.01 161.82,-101.23\"/>\n",
       "<polygon fill=\"black\" stroke=\"black\" points=\"164.62,-99.11 155.3,-94.08 159.45,-103.83 164.62,-99.11\"/>\n",
       "</g>\n",
       "<!-- 11275659280 -->\n",
       "<g id=\"node24\" class=\"node\">\n",
       "<title>11275659280</title>\n",
       "<polygon fill=\"#a2cd5a\" stroke=\"black\" points=\"290,-98.5 220,-98.5 220,-67.25 290,-67.25 290,-98.5\"/>\n",
       "<text text-anchor=\"middle\" x=\"255\" y=\"-73\" font-family=\"monospace\" font-size=\"10.00\"> (800, 1)</text>\n",
       "</g>\n",
       "<!-- 11272817776&#45;&gt;11275659280 -->\n",
       "<g id=\"edge23\" class=\"edge\">\n",
       "<title>11272817776&#45;&gt;11275659280</title>\n",
       "<path fill=\"none\" stroke=\"black\" d=\"M208.35,-134.13C214.98,-126.99 224.55,-116.68 233.3,-107.25\"/>\n",
       "<polygon fill=\"black\" stroke=\"black\" points=\"235.73,-109.78 239.97,-100.07 230.6,-105.02 235.73,-109.78\"/>\n",
       "</g>\n",
       "<!-- 11272816624 -->\n",
       "<g id=\"node4\" class=\"node\">\n",
       "<title>11272816624</title>\n",
       "<polygon fill=\"lightgrey\" stroke=\"black\" points=\"250,-209 150,-209 150,-189.75 250,-189.75 250,-209\"/>\n",
       "<text text-anchor=\"middle\" x=\"200\" y=\"-195.5\" font-family=\"monospace\" font-size=\"10.00\">AddmmBackward0</text>\n",
       "</g>\n",
       "<!-- 11272816624&#45;&gt;11272817776 -->\n",
       "<g id=\"edge2\" class=\"edge\">\n",
       "<title>11272816624&#45;&gt;11272817776</title>\n",
       "<path fill=\"none\" stroke=\"black\" d=\"M200,-189.58C200,-183.07 200,-173.92 200,-165.62\"/>\n",
       "<polygon fill=\"black\" stroke=\"black\" points=\"203.5,-165.62 200,-155.62 196.5,-165.62 203.5,-165.62\"/>\n",
       "</g>\n",
       "<!-- 11272815520 -->\n",
       "<g id=\"node5\" class=\"node\">\n",
       "<title>11272815520</title>\n",
       "<polygon fill=\"lightgrey\" stroke=\"black\" points=\"135,-264.25 35,-264.25 35,-245 135,-245 135,-264.25\"/>\n",
       "<text text-anchor=\"middle\" x=\"85\" y=\"-250.75\" font-family=\"monospace\" font-size=\"10.00\">AccumulateGrad</text>\n",
       "</g>\n",
       "<!-- 11272815520&#45;&gt;11272816624 -->\n",
       "<g id=\"edge3\" class=\"edge\">\n",
       "<title>11272815520&#45;&gt;11272816624</title>\n",
       "<path fill=\"none\" stroke=\"black\" d=\"M104.51,-244.59C122.52,-236.25 149.52,-223.75 170.23,-214.16\"/>\n",
       "<polygon fill=\"black\" stroke=\"black\" points=\"171.42,-217.47 179.02,-210.09 168.48,-211.11 171.42,-217.47\"/>\n",
       "</g>\n",
       "<!-- 11276150416 -->\n",
       "<g id=\"node6\" class=\"node\">\n",
       "<title>11276150416</title>\n",
       "<polygon fill=\"lightblue\" stroke=\"black\" points=\"112,-331.5 58,-331.5 58,-300.25 112,-300.25 112,-331.5\"/>\n",
       "<text text-anchor=\"middle\" x=\"85\" y=\"-306\" font-family=\"monospace\" font-size=\"10.00\"> (1)</text>\n",
       "</g>\n",
       "<!-- 11276150416&#45;&gt;11272815520 -->\n",
       "<g id=\"edge4\" class=\"edge\">\n",
       "<title>11276150416&#45;&gt;11272815520</title>\n",
       "<path fill=\"none\" stroke=\"black\" d=\"M85,-299.92C85,-292.72 85,-283.97 85,-276.16\"/>\n",
       "<polygon fill=\"black\" stroke=\"black\" points=\"88.5,-276.18 85,-266.18 81.5,-276.18 88.5,-276.18\"/>\n",
       "</g>\n",
       "<!-- 11272829248 -->\n",
       "<g id=\"node7\" class=\"node\">\n",
       "<title>11272829248</title>\n",
       "<polygon fill=\"lightgrey\" stroke=\"black\" points=\"247,-264.25 153,-264.25 153,-245 247,-245 247,-264.25\"/>\n",
       "<text text-anchor=\"middle\" x=\"200\" y=\"-250.75\" font-family=\"monospace\" font-size=\"10.00\">ReluBackward0</text>\n",
       "</g>\n",
       "<!-- 11272829248&#45;&gt;11272816624 -->\n",
       "<g id=\"edge5\" class=\"edge\">\n",
       "<title>11272829248&#45;&gt;11272816624</title>\n",
       "<path fill=\"none\" stroke=\"black\" d=\"M200,-244.83C200,-238.32 200,-229.17 200,-220.87\"/>\n",
       "<polygon fill=\"black\" stroke=\"black\" points=\"203.5,-220.87 200,-210.87 196.5,-220.87 203.5,-220.87\"/>\n",
       "</g>\n",
       "<!-- 11272815856 -->\n",
       "<g id=\"node8\" class=\"node\">\n",
       "<title>11272815856</title>\n",
       "<polygon fill=\"lightgrey\" stroke=\"black\" points=\"232,-325.5 132,-325.5 132,-306.25 232,-306.25 232,-325.5\"/>\n",
       "<text text-anchor=\"middle\" x=\"182\" y=\"-312\" font-family=\"monospace\" font-size=\"10.00\">AddmmBackward0</text>\n",
       "</g>\n",
       "<!-- 11272815856&#45;&gt;11272829248 -->\n",
       "<g id=\"edge6\" class=\"edge\">\n",
       "<title>11272815856&#45;&gt;11272829248</title>\n",
       "<path fill=\"none\" stroke=\"black\" d=\"M184.73,-305.88C187.17,-297.87 190.81,-285.88 193.93,-275.62\"/>\n",
       "<polygon fill=\"black\" stroke=\"black\" points=\"197.24,-276.74 196.8,-266.16 190.54,-274.71 197.24,-276.74\"/>\n",
       "</g>\n",
       "<!-- 11272815904 -->\n",
       "<g id=\"node9\" class=\"node\">\n",
       "<title>11272815904</title>\n",
       "<polygon fill=\"lightgrey\" stroke=\"black\" points=\"100,-392.75 0,-392.75 0,-373.5 100,-373.5 100,-392.75\"/>\n",
       "<text text-anchor=\"middle\" x=\"50\" y=\"-379.25\" font-family=\"monospace\" font-size=\"10.00\">AccumulateGrad</text>\n",
       "</g>\n",
       "<!-- 11272815904&#45;&gt;11272815856 -->\n",
       "<g id=\"edge7\" class=\"edge\">\n",
       "<title>11272815904&#45;&gt;11272815856</title>\n",
       "<path fill=\"none\" stroke=\"black\" d=\"M68.35,-373.05C90.42,-362.14 127.7,-343.72 153.52,-330.95\"/>\n",
       "<polygon fill=\"black\" stroke=\"black\" points=\"155.03,-334.11 162.45,-326.54 151.93,-327.84 155.03,-334.11\"/>\n",
       "</g>\n",
       "<!-- 11273195824 -->\n",
       "<g id=\"node10\" class=\"node\">\n",
       "<title>11273195824</title>\n",
       "<polygon fill=\"lightblue\" stroke=\"black\" points=\"77,-466 23,-466 23,-434.75 77,-434.75 77,-466\"/>\n",
       "<text text-anchor=\"middle\" x=\"50\" y=\"-440.5\" font-family=\"monospace\" font-size=\"10.00\"> (10)</text>\n",
       "</g>\n",
       "<!-- 11273195824&#45;&gt;11272815904 -->\n",
       "<g id=\"edge8\" class=\"edge\">\n",
       "<title>11273195824&#45;&gt;11272815904</title>\n",
       "<path fill=\"none\" stroke=\"black\" d=\"M50,-434.57C50,-425.68 50,-414.25 50,-404.51\"/>\n",
       "<polygon fill=\"black\" stroke=\"black\" points=\"53.5,-404.56 50,-394.56 46.5,-404.56 53.5,-404.56\"/>\n",
       "</g>\n",
       "<!-- 11272828960 -->\n",
       "<g id=\"node11\" class=\"node\">\n",
       "<title>11272828960</title>\n",
       "<polygon fill=\"lightgrey\" stroke=\"black\" points=\"212,-392.75 118,-392.75 118,-373.5 212,-373.5 212,-392.75\"/>\n",
       "<text text-anchor=\"middle\" x=\"165\" y=\"-379.25\" font-family=\"monospace\" font-size=\"10.00\">ReluBackward0</text>\n",
       "</g>\n",
       "<!-- 11272828960&#45;&gt;11272815856 -->\n",
       "<g id=\"edge9\" class=\"edge\">\n",
       "<title>11272828960&#45;&gt;11272815856</title>\n",
       "<path fill=\"none\" stroke=\"black\" d=\"M167.36,-373.05C169.8,-363.7 173.68,-348.83 176.83,-336.73\"/>\n",
       "<polygon fill=\"black\" stroke=\"black\" points=\"180.14,-337.89 179.27,-327.34 173.37,-336.13 180.14,-337.89\"/>\n",
       "</g>\n",
       "<!-- 11272816576 -->\n",
       "<g id=\"node12\" class=\"node\">\n",
       "<title>11272816576</title>\n",
       "<polygon fill=\"lightgrey\" stroke=\"black\" points=\"207,-460 107,-460 107,-440.75 207,-440.75 207,-460\"/>\n",
       "<text text-anchor=\"middle\" x=\"157\" y=\"-446.5\" font-family=\"monospace\" font-size=\"10.00\">AddmmBackward0</text>\n",
       "</g>\n",
       "<!-- 11272816576&#45;&gt;11272828960 -->\n",
       "<g id=\"edge10\" class=\"edge\">\n",
       "<title>11272816576&#45;&gt;11272828960</title>\n",
       "<path fill=\"none\" stroke=\"black\" d=\"M158.11,-440.3C159.25,-431.05 161.04,-416.39 162.52,-404.36\"/>\n",
       "<polygon fill=\"black\" stroke=\"black\" points=\"165.97,-404.97 163.71,-394.62 159.02,-404.12 165.97,-404.97\"/>\n",
       "</g>\n",
       "<!-- 11272830112 -->\n",
       "<g id=\"node13\" class=\"node\">\n",
       "<title>11272830112</title>\n",
       "<polygon fill=\"lightgrey\" stroke=\"black\" points=\"114,-527.25 14,-527.25 14,-508 114,-508 114,-527.25\"/>\n",
       "<text text-anchor=\"middle\" x=\"64\" y=\"-513.75\" font-family=\"monospace\" font-size=\"10.00\">AccumulateGrad</text>\n",
       "</g>\n",
       "<!-- 11272830112&#45;&gt;11272816576 -->\n",
       "<g id=\"edge11\" class=\"edge\">\n",
       "<title>11272830112&#45;&gt;11272816576</title>\n",
       "<path fill=\"none\" stroke=\"black\" d=\"M76.93,-507.55C91.92,-497.03 116.88,-479.52 134.95,-466.84\"/>\n",
       "<polygon fill=\"black\" stroke=\"black\" points=\"136.76,-469.85 142.94,-461.24 132.74,-464.12 136.76,-469.85\"/>\n",
       "</g>\n",
       "<!-- 11243840496 -->\n",
       "<g id=\"node14\" class=\"node\">\n",
       "<title>11243840496</title>\n",
       "<polygon fill=\"lightblue\" stroke=\"black\" points=\"91,-600.5 37,-600.5 37,-569.25 91,-569.25 91,-600.5\"/>\n",
       "<text text-anchor=\"middle\" x=\"64\" y=\"-575\" font-family=\"monospace\" font-size=\"10.00\"> (10)</text>\n",
       "</g>\n",
       "<!-- 11243840496&#45;&gt;11272830112 -->\n",
       "<g id=\"edge12\" class=\"edge\">\n",
       "<title>11243840496&#45;&gt;11272830112</title>\n",
       "<path fill=\"none\" stroke=\"black\" d=\"M64,-569.07C64,-560.18 64,-548.75 64,-539.01\"/>\n",
       "<polygon fill=\"black\" stroke=\"black\" points=\"67.5,-539.06 64,-529.06 60.5,-539.06 67.5,-539.06\"/>\n",
       "</g>\n",
       "<!-- 11272830352 -->\n",
       "<g id=\"node15\" class=\"node\">\n",
       "<title>11272830352</title>\n",
       "<polygon fill=\"lightgrey\" stroke=\"black\" points=\"208,-527.25 132,-527.25 132,-508 208,-508 208,-527.25\"/>\n",
       "<text text-anchor=\"middle\" x=\"170\" y=\"-513.75\" font-family=\"monospace\" font-size=\"10.00\">TBackward0</text>\n",
       "</g>\n",
       "<!-- 11272830352&#45;&gt;11272816576 -->\n",
       "<g id=\"edge13\" class=\"edge\">\n",
       "<title>11272830352&#45;&gt;11272816576</title>\n",
       "<path fill=\"none\" stroke=\"black\" d=\"M168.19,-507.55C166.35,-498.3 163.43,-483.64 161.03,-471.61\"/>\n",
       "<polygon fill=\"black\" stroke=\"black\" points=\"164.47,-470.98 159.09,-461.86 157.61,-472.35 164.47,-470.98\"/>\n",
       "</g>\n",
       "<!-- 11272830448 -->\n",
       "<g id=\"node16\" class=\"node\">\n",
       "<title>11272830448</title>\n",
       "<polygon fill=\"lightgrey\" stroke=\"black\" points=\"220,-594.5 120,-594.5 120,-575.25 220,-575.25 220,-594.5\"/>\n",
       "<text text-anchor=\"middle\" x=\"170\" y=\"-581\" font-family=\"monospace\" font-size=\"10.00\">AccumulateGrad</text>\n",
       "</g>\n",
       "<!-- 11272830448&#45;&gt;11272830352 -->\n",
       "<g id=\"edge14\" class=\"edge\">\n",
       "<title>11272830448&#45;&gt;11272830352</title>\n",
       "<path fill=\"none\" stroke=\"black\" d=\"M170,-574.8C170,-565.55 170,-550.89 170,-538.86\"/>\n",
       "<polygon fill=\"black\" stroke=\"black\" points=\"173.5,-539.13 170,-529.13 166.5,-539.13 173.5,-539.13\"/>\n",
       "</g>\n",
       "<!-- 11273191888 -->\n",
       "<g id=\"node17\" class=\"node\">\n",
       "<title>11273191888</title>\n",
       "<polygon fill=\"lightblue\" stroke=\"black\" points=\"202,-667.75 138,-667.75 138,-636.5 202,-636.5 202,-667.75\"/>\n",
       "<text text-anchor=\"middle\" x=\"170\" y=\"-642.25\" font-family=\"monospace\" font-size=\"10.00\"> (10, 2)</text>\n",
       "</g>\n",
       "<!-- 11273191888&#45;&gt;11272830448 -->\n",
       "<g id=\"edge15\" class=\"edge\">\n",
       "<title>11273191888&#45;&gt;11272830448</title>\n",
       "<path fill=\"none\" stroke=\"black\" d=\"M170,-636.32C170,-627.43 170,-616 170,-606.26\"/>\n",
       "<polygon fill=\"black\" stroke=\"black\" points=\"173.5,-606.31 170,-596.31 166.5,-606.31 173.5,-606.31\"/>\n",
       "</g>\n",
       "<!-- 11272830016 -->\n",
       "<g id=\"node18\" class=\"node\">\n",
       "<title>11272830016</title>\n",
       "<polygon fill=\"lightgrey\" stroke=\"black\" points=\"306,-392.75 230,-392.75 230,-373.5 306,-373.5 306,-392.75\"/>\n",
       "<text text-anchor=\"middle\" x=\"268\" y=\"-379.25\" font-family=\"monospace\" font-size=\"10.00\">TBackward0</text>\n",
       "</g>\n",
       "<!-- 11272830016&#45;&gt;11272815856 -->\n",
       "<g id=\"edge16\" class=\"edge\">\n",
       "<title>11272830016&#45;&gt;11272815856</title>\n",
       "<path fill=\"none\" stroke=\"black\" d=\"M256.04,-373.05C242.31,-362.63 219.52,-345.35 202.85,-332.7\"/>\n",
       "<polygon fill=\"black\" stroke=\"black\" points=\"205.14,-330.04 195.06,-326.79 200.91,-335.62 205.14,-330.04\"/>\n",
       "</g>\n",
       "<!-- 11272830160 -->\n",
       "<g id=\"node19\" class=\"node\">\n",
       "<title>11272830160</title>\n",
       "<polygon fill=\"lightgrey\" stroke=\"black\" points=\"325,-460 225,-460 225,-440.75 325,-440.75 325,-460\"/>\n",
       "<text text-anchor=\"middle\" x=\"275\" y=\"-446.5\" font-family=\"monospace\" font-size=\"10.00\">AccumulateGrad</text>\n",
       "</g>\n",
       "<!-- 11272830160&#45;&gt;11272830016 -->\n",
       "<g id=\"edge17\" class=\"edge\">\n",
       "<title>11272830160&#45;&gt;11272830016</title>\n",
       "<path fill=\"none\" stroke=\"black\" d=\"M274.03,-440.3C273.03,-431.05 271.46,-416.39 270.17,-404.36\"/>\n",
       "<polygon fill=\"black\" stroke=\"black\" points=\"273.67,-404.2 269.13,-394.63 266.71,-404.94 273.67,-404.2\"/>\n",
       "</g>\n",
       "<!-- 11273191696 -->\n",
       "<g id=\"node20\" class=\"node\">\n",
       "<title>11273191696</title>\n",
       "<polygon fill=\"lightblue\" stroke=\"black\" points=\"310,-533.25 240,-533.25 240,-502 310,-502 310,-533.25\"/>\n",
       "<text text-anchor=\"middle\" x=\"275\" y=\"-507.75\" font-family=\"monospace\" font-size=\"10.00\"> (10, 10)</text>\n",
       "</g>\n",
       "<!-- 11273191696&#45;&gt;11272830160 -->\n",
       "<g id=\"edge18\" class=\"edge\">\n",
       "<title>11273191696&#45;&gt;11272830160</title>\n",
       "<path fill=\"none\" stroke=\"black\" d=\"M275,-501.82C275,-492.93 275,-481.5 275,-471.76\"/>\n",
       "<polygon fill=\"black\" stroke=\"black\" points=\"278.5,-471.81 275,-461.81 271.5,-471.81 278.5,-471.81\"/>\n",
       "</g>\n",
       "<!-- 11272830688 -->\n",
       "<g id=\"node21\" class=\"node\">\n",
       "<title>11272830688</title>\n",
       "<polygon fill=\"lightgrey\" stroke=\"black\" points=\"376,-264.25 300,-264.25 300,-245 376,-245 376,-264.25\"/>\n",
       "<text text-anchor=\"middle\" x=\"338\" y=\"-250.75\" font-family=\"monospace\" font-size=\"10.00\">TBackward0</text>\n",
       "</g>\n",
       "<!-- 11272830688&#45;&gt;11272816624 -->\n",
       "<g id=\"edge19\" class=\"edge\">\n",
       "<title>11272830688&#45;&gt;11272816624</title>\n",
       "<path fill=\"none\" stroke=\"black\" d=\"M314.59,-244.59C292.48,-236.06 259.08,-223.17 234.03,-213.51\"/>\n",
       "<polygon fill=\"black\" stroke=\"black\" points=\"235.53,-210.33 224.94,-210 233.01,-216.86 235.53,-210.33\"/>\n",
       "</g>\n",
       "<!-- 11272830304 -->\n",
       "<g id=\"node22\" class=\"node\">\n",
       "<title>11272830304</title>\n",
       "<polygon fill=\"lightgrey\" stroke=\"black\" points=\"397,-325.5 297,-325.5 297,-306.25 397,-306.25 397,-325.5\"/>\n",
       "<text text-anchor=\"middle\" x=\"347\" y=\"-312\" font-family=\"monospace\" font-size=\"10.00\">AccumulateGrad</text>\n",
       "</g>\n",
       "<!-- 11272830304&#45;&gt;11272830688 -->\n",
       "<g id=\"edge20\" class=\"edge\">\n",
       "<title>11272830304&#45;&gt;11272830688</title>\n",
       "<path fill=\"none\" stroke=\"black\" d=\"M345.63,-305.88C344.43,-297.96 342.64,-286.14 341.09,-275.95\"/>\n",
       "<polygon fill=\"black\" stroke=\"black\" points=\"344.57,-275.57 339.61,-266.2 337.65,-276.62 344.57,-275.57\"/>\n",
       "</g>\n",
       "<!-- 11273206288 -->\n",
       "<g id=\"node23\" class=\"node\">\n",
       "<title>11273206288</title>\n",
       "<polygon fill=\"lightblue\" stroke=\"black\" points=\"388,-398.75 324,-398.75 324,-367.5 388,-367.5 388,-398.75\"/>\n",
       "<text text-anchor=\"middle\" x=\"356\" y=\"-373.25\" font-family=\"monospace\" font-size=\"10.00\"> (1, 10)</text>\n",
       "</g>\n",
       "<!-- 11273206288&#45;&gt;11272830304 -->\n",
       "<g id=\"edge21\" class=\"edge\">\n",
       "<title>11273206288&#45;&gt;11272830304</title>\n",
       "<path fill=\"none\" stroke=\"black\" d=\"M353.96,-367.32C352.72,-358.33 351.12,-346.74 349.77,-336.93\"/>\n",
       "<polygon fill=\"black\" stroke=\"black\" points=\"353.27,-336.73 348.44,-327.3 346.34,-337.68 353.27,-336.73\"/>\n",
       "</g>\n",
       "<!-- 11275659280&#45;&gt;11275839504 -->\n",
       "<g id=\"edge24\" class=\"edge\">\n",
       "<title>11275659280&#45;&gt;11275839504</title>\n",
       "<path fill=\"none\" stroke=\"black\" stroke-dasharray=\"1,5\" d=\"M242.52,-67.07C235.77,-59.06 227.28,-48.98 219.66,-39.95\"/>\n",
       "<polygon fill=\"black\" stroke=\"black\" points=\"222.53,-37.92 213.41,-32.53 217.18,-42.43 222.53,-37.92\"/>\n",
       "</g>\n",
       "</g>\n",
       "</svg>\n"
      ],
      "text/plain": [
       "<graphviz.graphs.Digraph at 0x29fd73410>"
      ]
     },
     "execution_count": 74,
     "metadata": {},
     "output_type": "execute_result"
    }
   ],
   "source": [
    "make_dot(sequential_classifier(X_train))"
   ]
  },
  {
   "cell_type": "markdown",
   "id": "0efce018-9d51-4f50-9cd7-b62fb1030ce6",
   "metadata": {},
   "source": [
    "As we see, we specified the layers and instantiated the model after passing the layers to the `nn.Sequential` class. The output of the first fully connected layer is used as the input to the first `ReLU` layer. The output of the first `ReLU` layer becomes the input for the second fully connected layer. Then, the output of the second fully connected layer is used as the input to the second `ReLU` layer. Finally, the output of the second `Relu` becomes the input to the last fully connected layer and then it is passed to the `Sigmoid` function. We can further configure these layers, for example, by applying different activation functions, initializers, or regularization methods to the parameters."
   ]
  },
  {
   "cell_type": "markdown",
   "id": "f82d45fb-1671-4e3e-9526-77253ae11f24",
   "metadata": {},
   "source": [
    "#### Functional"
   ]
  },
  {
   "cell_type": "markdown",
   "id": "cdf9f54c-30af-47b5-b376-592a7d1d9d55",
   "metadata": {},
   "source": [
    "In the previous example, we used the `Sequential` class to create a fully connected NN with multiple layers. This is a very common and convenient way of building models. However, it unfortunately doesn’t allow us to create more complex models that have multiple input, output, or intermediate branches. This is something that happens a lot. At some point in developing neural networks, we will find ourselves in a situation where we want to compute something that the premade modules do not cover. When we want to build models that do more complex things than just applying one layer after another, we need to leave `nn.Sequential` for something that gives us added flexibility. This is the functional way of building things and that’s where `nn.Module` comes in handy.\n",
    "\n",
    "The alternative way to build complex models is by subclassing `nn.Module`. In this approach, we create a new class derived from `nn.Module` and define the method, `__init__()`, as a constructor. The `forward()` method is used to specify the forward pass. In the constructor function, `__init__()`, we define the layers as attributes of the class so that they can be accessed via the self reference attribute. Then, in the `forward()` method, we specify how these layers are to be used in the forward pass of the NN. The code for defining a new class that implements the previous model is as follows."
   ]
  },
  {
   "cell_type": "code",
   "execution_count": 30,
   "id": "dba6ba13-6f86-4bf6-bda0-2e0813b52c14",
   "metadata": {
    "tags": []
   },
   "outputs": [],
   "source": [
    "# Build model in functional way by subclassing `nn.Module`\n",
    "class FunctionalClassifier(nn.Module):\n",
    "    \n",
    "    def __init__(self, in_features: int, hidden_units: int, out_features: int):\n",
    "        super().__init__()\n",
    "       \n",
    "        self.input_preactivation = nn.Linear(in_features=in_features, out_features=hidden_units)\n",
    "        self.activation = nn.ReLU()\n",
    "        self.hidden_layer_preactivation = nn.Linear(in_features=hidden_units, out_features=hidden_units)\n",
    "        self.output_pre_activation = nn.Linear(in_features=hidden_units, out_features=out_features)\n",
    "        self.output_activation = nn.Sigmoid()\n",
    "    \n",
    "    def forward(self, x: torch.Tensor) -> torch.Tensor:\n",
    "        \n",
    "        # # Input pre-activation layer & hidden activation layer\n",
    "        x = self.activation(self.input_preactivation(x))\n",
    "        \n",
    "        # Hidden pre-activation layer & hidden activation layer\n",
    "        x = self.activation(self.hidden_layer_preactivation(x))\n",
    "        \n",
    "        # Hidden output pre-activation layer\n",
    "        x = self.output_pre_activation(x)\n",
    "        \n",
    "        # Squeeze results\n",
    "        x = x.squeeze()\n",
    "        \n",
    "        # Output activation layer\n",
    "        x = self.output_activation(x)\n",
    "        \n",
    "        return x\n",
    "\n",
    "functional_classifier = FunctionalClassifier(in_features=2, hidden_units=10, out_features=1)"
   ]
  },
  {
   "cell_type": "code",
   "execution_count": 75,
   "id": "0223843f-52b1-4e2c-ab4b-c436a5ab838f",
   "metadata": {
    "tags": []
   },
   "outputs": [
    {
     "data": {
      "text/plain": [
       "=========================================================================================================\n",
       "Layer (type (var_name))                       Input Shape     Output Shape    Param #         Trainable\n",
       "=========================================================================================================\n",
       "FunctionalClassifier (FunctionalClassifier)   [800, 2]        [800]           --              True\n",
       "├─Linear (input_preactivation)                [800, 2]        [800, 10]       30              True\n",
       "├─ReLU (activation)                           [800, 10]       [800, 10]       --              --\n",
       "├─Linear (hidden_layer_preactivation)         [800, 10]       [800, 10]       110             True\n",
       "├─ReLU (activation)                           [800, 10]       [800, 10]       --              --\n",
       "├─Linear (output_pre_activation)              [800, 10]       [800, 1]        11              True\n",
       "├─Sigmoid (output_activation)                 [800]           [800]           --              --\n",
       "=========================================================================================================\n",
       "Total params: 151\n",
       "Trainable params: 151\n",
       "Non-trainable params: 0\n",
       "Total mult-adds (Units.MEGABYTES): 0.12\n",
       "=========================================================================================================\n",
       "Input size (MB): 0.01\n",
       "Forward/backward pass size (MB): 0.13\n",
       "Params size (MB): 0.00\n",
       "Estimated Total Size (MB): 0.14\n",
       "========================================================================================================="
      ]
     },
     "execution_count": 75,
     "metadata": {},
     "output_type": "execute_result"
    }
   ],
   "source": [
    "summary(functional_classifier, input_size=X_train.shape, col_names=[\"input_size\", \"output_size\", \"num_params\", \"trainable\"], col_width=15, row_settings=[\"var_names\"])"
   ]
  },
  {
   "cell_type": "code",
   "execution_count": 76,
   "id": "f2b3b9be-0e81-4f69-ac42-bc4657ed1da6",
   "metadata": {
    "tags": []
   },
   "outputs": [
    {
     "data": {
      "image/svg+xml": [
       "<?xml version=\"1.0\" encoding=\"UTF-8\" standalone=\"no\"?>\n",
       "<!DOCTYPE svg PUBLIC \"-//W3C//DTD SVG 1.1//EN\"\n",
       " \"http://www.w3.org/Graphics/SVG/1.1/DTD/svg11.dtd\">\n",
       "<!-- Generated by graphviz version 9.0.0 (20230911.1827)\n",
       " -->\n",
       "<!-- Pages: 1 -->\n",
       "<svg width=\"405pt\" height=\"664pt\"\n",
       " viewBox=\"0.00 0.00 405.00 663.75\" xmlns=\"http://www.w3.org/2000/svg\" xmlns:xlink=\"http://www.w3.org/1999/xlink\">\n",
       "<g id=\"graph0\" class=\"graph\" transform=\"scale(1 1) rotate(0) translate(4 659.75)\">\n",
       "<polygon fill=\"white\" stroke=\"none\" points=\"-4,4 -4,-659.75 401,-659.75 401,4 -4,4\"/>\n",
       "<!-- 11275769456 -->\n",
       "<g id=\"node1\" class=\"node\">\n",
       "<title>11275769456</title>\n",
       "<polygon fill=\"#caff70\" stroke=\"black\" points=\"227,-31.25 173,-31.25 173,0 227,0 227,-31.25\"/>\n",
       "<text text-anchor=\"middle\" x=\"200\" y=\"-5.75\" font-family=\"monospace\" font-size=\"10.00\"> (800)</text>\n",
       "</g>\n",
       "<!-- 11270862832 -->\n",
       "<g id=\"node2\" class=\"node\">\n",
       "<title>11270862832</title>\n",
       "<polygon fill=\"lightgrey\" stroke=\"black\" points=\"256,-86.5 144,-86.5 144,-67.25 256,-67.25 256,-86.5\"/>\n",
       "<text text-anchor=\"middle\" x=\"200\" y=\"-73\" font-family=\"monospace\" font-size=\"10.00\">SigmoidBackward0</text>\n",
       "</g>\n",
       "<!-- 11270862832&#45;&gt;11275769456 -->\n",
       "<g id=\"edge22\" class=\"edge\">\n",
       "<title>11270862832&#45;&gt;11275769456</title>\n",
       "<path fill=\"none\" stroke=\"black\" d=\"M200,-66.88C200,-60.54 200,-51.7 200,-43.2\"/>\n",
       "<polygon fill=\"black\" stroke=\"black\" points=\"203.5,-43.22 200,-33.22 196.5,-43.22 203.5,-43.22\"/>\n",
       "</g>\n",
       "<!-- 11270854048 -->\n",
       "<g id=\"node3\" class=\"node\">\n",
       "<title>11270854048</title>\n",
       "<polygon fill=\"lightgrey\" stroke=\"black\" points=\"256,-141.75 144,-141.75 144,-122.5 256,-122.5 256,-141.75\"/>\n",
       "<text text-anchor=\"middle\" x=\"200\" y=\"-128.25\" font-family=\"monospace\" font-size=\"10.00\">SqueezeBackward0</text>\n",
       "</g>\n",
       "<!-- 11270854048&#45;&gt;11270862832 -->\n",
       "<g id=\"edge1\" class=\"edge\">\n",
       "<title>11270854048&#45;&gt;11270862832</title>\n",
       "<path fill=\"none\" stroke=\"black\" d=\"M200,-122.33C200,-115.82 200,-106.67 200,-98.37\"/>\n",
       "<polygon fill=\"black\" stroke=\"black\" points=\"203.5,-98.37 200,-88.37 196.5,-98.37 203.5,-98.37\"/>\n",
       "</g>\n",
       "<!-- 11270859952 -->\n",
       "<g id=\"node4\" class=\"node\">\n",
       "<title>11270859952</title>\n",
       "<polygon fill=\"lightgrey\" stroke=\"black\" points=\"250,-197 150,-197 150,-177.75 250,-177.75 250,-197\"/>\n",
       "<text text-anchor=\"middle\" x=\"200\" y=\"-183.5\" font-family=\"monospace\" font-size=\"10.00\">AddmmBackward0</text>\n",
       "</g>\n",
       "<!-- 11270859952&#45;&gt;11270854048 -->\n",
       "<g id=\"edge2\" class=\"edge\">\n",
       "<title>11270859952&#45;&gt;11270854048</title>\n",
       "<path fill=\"none\" stroke=\"black\" d=\"M200,-177.58C200,-171.07 200,-161.92 200,-153.62\"/>\n",
       "<polygon fill=\"black\" stroke=\"black\" points=\"203.5,-153.62 200,-143.62 196.5,-153.62 203.5,-153.62\"/>\n",
       "</g>\n",
       "<!-- 11270859232 -->\n",
       "<g id=\"node5\" class=\"node\">\n",
       "<title>11270859232</title>\n",
       "<polygon fill=\"lightgrey\" stroke=\"black\" points=\"135,-252.25 35,-252.25 35,-233 135,-233 135,-252.25\"/>\n",
       "<text text-anchor=\"middle\" x=\"85\" y=\"-238.75\" font-family=\"monospace\" font-size=\"10.00\">AccumulateGrad</text>\n",
       "</g>\n",
       "<!-- 11270859232&#45;&gt;11270859952 -->\n",
       "<g id=\"edge3\" class=\"edge\">\n",
       "<title>11270859232&#45;&gt;11270859952</title>\n",
       "<path fill=\"none\" stroke=\"black\" d=\"M104.51,-232.59C122.52,-224.25 149.52,-211.75 170.23,-202.16\"/>\n",
       "<polygon fill=\"black\" stroke=\"black\" points=\"171.42,-205.47 179.02,-198.09 168.48,-199.11 171.42,-205.47\"/>\n",
       "</g>\n",
       "<!-- 11264902928 -->\n",
       "<g id=\"node6\" class=\"node\">\n",
       "<title>11264902928</title>\n",
       "<polygon fill=\"lightblue\" stroke=\"black\" points=\"112,-319.5 58,-319.5 58,-288.25 112,-288.25 112,-319.5\"/>\n",
       "<text text-anchor=\"middle\" x=\"85\" y=\"-294\" font-family=\"monospace\" font-size=\"10.00\"> (1)</text>\n",
       "</g>\n",
       "<!-- 11264902928&#45;&gt;11270859232 -->\n",
       "<g id=\"edge4\" class=\"edge\">\n",
       "<title>11264902928&#45;&gt;11270859232</title>\n",
       "<path fill=\"none\" stroke=\"black\" d=\"M85,-287.92C85,-280.72 85,-271.97 85,-264.16\"/>\n",
       "<polygon fill=\"black\" stroke=\"black\" points=\"88.5,-264.18 85,-254.18 81.5,-264.18 88.5,-264.18\"/>\n",
       "</g>\n",
       "<!-- 11270857264 -->\n",
       "<g id=\"node7\" class=\"node\">\n",
       "<title>11270857264</title>\n",
       "<polygon fill=\"lightgrey\" stroke=\"black\" points=\"247,-252.25 153,-252.25 153,-233 247,-233 247,-252.25\"/>\n",
       "<text text-anchor=\"middle\" x=\"200\" y=\"-238.75\" font-family=\"monospace\" font-size=\"10.00\">ReluBackward0</text>\n",
       "</g>\n",
       "<!-- 11270857264&#45;&gt;11270859952 -->\n",
       "<g id=\"edge5\" class=\"edge\">\n",
       "<title>11270857264&#45;&gt;11270859952</title>\n",
       "<path fill=\"none\" stroke=\"black\" d=\"M200,-232.83C200,-226.32 200,-217.17 200,-208.87\"/>\n",
       "<polygon fill=\"black\" stroke=\"black\" points=\"203.5,-208.87 200,-198.87 196.5,-208.87 203.5,-208.87\"/>\n",
       "</g>\n",
       "<!-- 11270860240 -->\n",
       "<g id=\"node8\" class=\"node\">\n",
       "<title>11270860240</title>\n",
       "<polygon fill=\"lightgrey\" stroke=\"black\" points=\"232,-313.5 132,-313.5 132,-294.25 232,-294.25 232,-313.5\"/>\n",
       "<text text-anchor=\"middle\" x=\"182\" y=\"-300\" font-family=\"monospace\" font-size=\"10.00\">AddmmBackward0</text>\n",
       "</g>\n",
       "<!-- 11270860240&#45;&gt;11270857264 -->\n",
       "<g id=\"edge6\" class=\"edge\">\n",
       "<title>11270860240&#45;&gt;11270857264</title>\n",
       "<path fill=\"none\" stroke=\"black\" d=\"M184.73,-293.88C187.17,-285.87 190.81,-273.88 193.93,-263.62\"/>\n",
       "<polygon fill=\"black\" stroke=\"black\" points=\"197.24,-264.74 196.8,-254.16 190.54,-262.71 197.24,-264.74\"/>\n",
       "</g>\n",
       "<!-- 11270853808 -->\n",
       "<g id=\"node9\" class=\"node\">\n",
       "<title>11270853808</title>\n",
       "<polygon fill=\"lightgrey\" stroke=\"black\" points=\"100,-380.75 0,-380.75 0,-361.5 100,-361.5 100,-380.75\"/>\n",
       "<text text-anchor=\"middle\" x=\"50\" y=\"-367.25\" font-family=\"monospace\" font-size=\"10.00\">AccumulateGrad</text>\n",
       "</g>\n",
       "<!-- 11270853808&#45;&gt;11270860240 -->\n",
       "<g id=\"edge7\" class=\"edge\">\n",
       "<title>11270853808&#45;&gt;11270860240</title>\n",
       "<path fill=\"none\" stroke=\"black\" d=\"M68.35,-361.05C90.42,-350.14 127.7,-331.72 153.52,-318.95\"/>\n",
       "<polygon fill=\"black\" stroke=\"black\" points=\"155.03,-322.11 162.45,-314.54 151.93,-315.84 155.03,-322.11\"/>\n",
       "</g>\n",
       "<!-- 11264901584 -->\n",
       "<g id=\"node10\" class=\"node\">\n",
       "<title>11264901584</title>\n",
       "<polygon fill=\"lightblue\" stroke=\"black\" points=\"77,-454 23,-454 23,-422.75 77,-422.75 77,-454\"/>\n",
       "<text text-anchor=\"middle\" x=\"50\" y=\"-428.5\" font-family=\"monospace\" font-size=\"10.00\"> (10)</text>\n",
       "</g>\n",
       "<!-- 11264901584&#45;&gt;11270853808 -->\n",
       "<g id=\"edge8\" class=\"edge\">\n",
       "<title>11264901584&#45;&gt;11270853808</title>\n",
       "<path fill=\"none\" stroke=\"black\" d=\"M50,-422.57C50,-413.68 50,-402.25 50,-392.51\"/>\n",
       "<polygon fill=\"black\" stroke=\"black\" points=\"53.5,-392.56 50,-382.56 46.5,-392.56 53.5,-392.56\"/>\n",
       "</g>\n",
       "<!-- 11270859616 -->\n",
       "<g id=\"node11\" class=\"node\">\n",
       "<title>11270859616</title>\n",
       "<polygon fill=\"lightgrey\" stroke=\"black\" points=\"212,-380.75 118,-380.75 118,-361.5 212,-361.5 212,-380.75\"/>\n",
       "<text text-anchor=\"middle\" x=\"165\" y=\"-367.25\" font-family=\"monospace\" font-size=\"10.00\">ReluBackward0</text>\n",
       "</g>\n",
       "<!-- 11270859616&#45;&gt;11270860240 -->\n",
       "<g id=\"edge9\" class=\"edge\">\n",
       "<title>11270859616&#45;&gt;11270860240</title>\n",
       "<path fill=\"none\" stroke=\"black\" d=\"M167.36,-361.05C169.8,-351.7 173.68,-336.83 176.83,-324.73\"/>\n",
       "<polygon fill=\"black\" stroke=\"black\" points=\"180.14,-325.89 179.27,-315.34 173.37,-324.13 180.14,-325.89\"/>\n",
       "</g>\n",
       "<!-- 11270861344 -->\n",
       "<g id=\"node12\" class=\"node\">\n",
       "<title>11270861344</title>\n",
       "<polygon fill=\"lightgrey\" stroke=\"black\" points=\"207,-448 107,-448 107,-428.75 207,-428.75 207,-448\"/>\n",
       "<text text-anchor=\"middle\" x=\"157\" y=\"-434.5\" font-family=\"monospace\" font-size=\"10.00\">AddmmBackward0</text>\n",
       "</g>\n",
       "<!-- 11270861344&#45;&gt;11270859616 -->\n",
       "<g id=\"edge10\" class=\"edge\">\n",
       "<title>11270861344&#45;&gt;11270859616</title>\n",
       "<path fill=\"none\" stroke=\"black\" d=\"M158.11,-428.3C159.25,-419.05 161.04,-404.39 162.52,-392.36\"/>\n",
       "<polygon fill=\"black\" stroke=\"black\" points=\"165.97,-392.97 163.71,-382.62 159.02,-392.12 165.97,-392.97\"/>\n",
       "</g>\n",
       "<!-- 11270854336 -->\n",
       "<g id=\"node13\" class=\"node\">\n",
       "<title>11270854336</title>\n",
       "<polygon fill=\"lightgrey\" stroke=\"black\" points=\"114,-515.25 14,-515.25 14,-496 114,-496 114,-515.25\"/>\n",
       "<text text-anchor=\"middle\" x=\"64\" y=\"-501.75\" font-family=\"monospace\" font-size=\"10.00\">AccumulateGrad</text>\n",
       "</g>\n",
       "<!-- 11270854336&#45;&gt;11270861344 -->\n",
       "<g id=\"edge11\" class=\"edge\">\n",
       "<title>11270854336&#45;&gt;11270861344</title>\n",
       "<path fill=\"none\" stroke=\"black\" d=\"M76.93,-495.55C91.92,-485.03 116.88,-467.52 134.95,-454.84\"/>\n",
       "<polygon fill=\"black\" stroke=\"black\" points=\"136.76,-457.85 142.94,-449.24 132.74,-452.12 136.76,-457.85\"/>\n",
       "</g>\n",
       "<!-- 11264901680 -->\n",
       "<g id=\"node14\" class=\"node\">\n",
       "<title>11264901680</title>\n",
       "<polygon fill=\"lightblue\" stroke=\"black\" points=\"91,-588.5 37,-588.5 37,-557.25 91,-557.25 91,-588.5\"/>\n",
       "<text text-anchor=\"middle\" x=\"64\" y=\"-563\" font-family=\"monospace\" font-size=\"10.00\"> (10)</text>\n",
       "</g>\n",
       "<!-- 11264901680&#45;&gt;11270854336 -->\n",
       "<g id=\"edge12\" class=\"edge\">\n",
       "<title>11264901680&#45;&gt;11270854336</title>\n",
       "<path fill=\"none\" stroke=\"black\" d=\"M64,-557.07C64,-548.18 64,-536.75 64,-527.01\"/>\n",
       "<polygon fill=\"black\" stroke=\"black\" points=\"67.5,-527.06 64,-517.06 60.5,-527.06 67.5,-527.06\"/>\n",
       "</g>\n",
       "<!-- 11270861440 -->\n",
       "<g id=\"node15\" class=\"node\">\n",
       "<title>11270861440</title>\n",
       "<polygon fill=\"lightgrey\" stroke=\"black\" points=\"208,-515.25 132,-515.25 132,-496 208,-496 208,-515.25\"/>\n",
       "<text text-anchor=\"middle\" x=\"170\" y=\"-501.75\" font-family=\"monospace\" font-size=\"10.00\">TBackward0</text>\n",
       "</g>\n",
       "<!-- 11270861440&#45;&gt;11270861344 -->\n",
       "<g id=\"edge13\" class=\"edge\">\n",
       "<title>11270861440&#45;&gt;11270861344</title>\n",
       "<path fill=\"none\" stroke=\"black\" d=\"M168.19,-495.55C166.35,-486.3 163.43,-471.64 161.03,-459.61\"/>\n",
       "<polygon fill=\"black\" stroke=\"black\" points=\"164.47,-458.98 159.09,-449.86 157.61,-460.35 164.47,-458.98\"/>\n",
       "</g>\n",
       "<!-- 11272830064 -->\n",
       "<g id=\"node16\" class=\"node\">\n",
       "<title>11272830064</title>\n",
       "<polygon fill=\"lightgrey\" stroke=\"black\" points=\"220,-582.5 120,-582.5 120,-563.25 220,-563.25 220,-582.5\"/>\n",
       "<text text-anchor=\"middle\" x=\"170\" y=\"-569\" font-family=\"monospace\" font-size=\"10.00\">AccumulateGrad</text>\n",
       "</g>\n",
       "<!-- 11272830064&#45;&gt;11270861440 -->\n",
       "<g id=\"edge14\" class=\"edge\">\n",
       "<title>11272830064&#45;&gt;11270861440</title>\n",
       "<path fill=\"none\" stroke=\"black\" d=\"M170,-562.8C170,-553.55 170,-538.89 170,-526.86\"/>\n",
       "<polygon fill=\"black\" stroke=\"black\" points=\"173.5,-527.13 170,-517.13 166.5,-527.13 173.5,-527.13\"/>\n",
       "</g>\n",
       "<!-- 11264901392 -->\n",
       "<g id=\"node17\" class=\"node\">\n",
       "<title>11264901392</title>\n",
       "<polygon fill=\"lightblue\" stroke=\"black\" points=\"202,-655.75 138,-655.75 138,-624.5 202,-624.5 202,-655.75\"/>\n",
       "<text text-anchor=\"middle\" x=\"170\" y=\"-630.25\" font-family=\"monospace\" font-size=\"10.00\"> (10, 2)</text>\n",
       "</g>\n",
       "<!-- 11264901392&#45;&gt;11272830064 -->\n",
       "<g id=\"edge15\" class=\"edge\">\n",
       "<title>11264901392&#45;&gt;11272830064</title>\n",
       "<path fill=\"none\" stroke=\"black\" d=\"M170,-624.32C170,-615.43 170,-604 170,-594.26\"/>\n",
       "<polygon fill=\"black\" stroke=\"black\" points=\"173.5,-594.31 170,-584.31 166.5,-594.31 173.5,-594.31\"/>\n",
       "</g>\n",
       "<!-- 11270856208 -->\n",
       "<g id=\"node18\" class=\"node\">\n",
       "<title>11270856208</title>\n",
       "<polygon fill=\"lightgrey\" stroke=\"black\" points=\"306,-380.75 230,-380.75 230,-361.5 306,-361.5 306,-380.75\"/>\n",
       "<text text-anchor=\"middle\" x=\"268\" y=\"-367.25\" font-family=\"monospace\" font-size=\"10.00\">TBackward0</text>\n",
       "</g>\n",
       "<!-- 11270856208&#45;&gt;11270860240 -->\n",
       "<g id=\"edge16\" class=\"edge\">\n",
       "<title>11270856208&#45;&gt;11270860240</title>\n",
       "<path fill=\"none\" stroke=\"black\" d=\"M256.04,-361.05C242.31,-350.63 219.52,-333.35 202.85,-320.7\"/>\n",
       "<polygon fill=\"black\" stroke=\"black\" points=\"205.14,-318.04 195.06,-314.79 200.91,-323.62 205.14,-318.04\"/>\n",
       "</g>\n",
       "<!-- 11270858992 -->\n",
       "<g id=\"node19\" class=\"node\">\n",
       "<title>11270858992</title>\n",
       "<polygon fill=\"lightgrey\" stroke=\"black\" points=\"325,-448 225,-448 225,-428.75 325,-428.75 325,-448\"/>\n",
       "<text text-anchor=\"middle\" x=\"275\" y=\"-434.5\" font-family=\"monospace\" font-size=\"10.00\">AccumulateGrad</text>\n",
       "</g>\n",
       "<!-- 11270858992&#45;&gt;11270856208 -->\n",
       "<g id=\"edge17\" class=\"edge\">\n",
       "<title>11270858992&#45;&gt;11270856208</title>\n",
       "<path fill=\"none\" stroke=\"black\" d=\"M274.03,-428.3C273.03,-419.05 271.46,-404.39 270.17,-392.36\"/>\n",
       "<polygon fill=\"black\" stroke=\"black\" points=\"273.67,-392.2 269.13,-382.63 266.71,-392.94 273.67,-392.2\"/>\n",
       "</g>\n",
       "<!-- 11264901968 -->\n",
       "<g id=\"node20\" class=\"node\">\n",
       "<title>11264901968</title>\n",
       "<polygon fill=\"lightblue\" stroke=\"black\" points=\"310,-521.25 240,-521.25 240,-490 310,-490 310,-521.25\"/>\n",
       "<text text-anchor=\"middle\" x=\"275\" y=\"-495.75\" font-family=\"monospace\" font-size=\"10.00\"> (10, 10)</text>\n",
       "</g>\n",
       "<!-- 11264901968&#45;&gt;11270858992 -->\n",
       "<g id=\"edge18\" class=\"edge\">\n",
       "<title>11264901968&#45;&gt;11270858992</title>\n",
       "<path fill=\"none\" stroke=\"black\" d=\"M275,-489.82C275,-480.93 275,-469.5 275,-459.76\"/>\n",
       "<polygon fill=\"black\" stroke=\"black\" points=\"278.5,-459.81 275,-449.81 271.5,-459.81 278.5,-459.81\"/>\n",
       "</g>\n",
       "<!-- 11270859664 -->\n",
       "<g id=\"node21\" class=\"node\">\n",
       "<title>11270859664</title>\n",
       "<polygon fill=\"lightgrey\" stroke=\"black\" points=\"376,-252.25 300,-252.25 300,-233 376,-233 376,-252.25\"/>\n",
       "<text text-anchor=\"middle\" x=\"338\" y=\"-238.75\" font-family=\"monospace\" font-size=\"10.00\">TBackward0</text>\n",
       "</g>\n",
       "<!-- 11270859664&#45;&gt;11270859952 -->\n",
       "<g id=\"edge19\" class=\"edge\">\n",
       "<title>11270859664&#45;&gt;11270859952</title>\n",
       "<path fill=\"none\" stroke=\"black\" d=\"M314.59,-232.59C292.48,-224.06 259.08,-211.17 234.03,-201.51\"/>\n",
       "<polygon fill=\"black\" stroke=\"black\" points=\"235.53,-198.33 224.94,-198 233.01,-204.86 235.53,-198.33\"/>\n",
       "</g>\n",
       "<!-- 11270856544 -->\n",
       "<g id=\"node22\" class=\"node\">\n",
       "<title>11270856544</title>\n",
       "<polygon fill=\"lightgrey\" stroke=\"black\" points=\"397,-313.5 297,-313.5 297,-294.25 397,-294.25 397,-313.5\"/>\n",
       "<text text-anchor=\"middle\" x=\"347\" y=\"-300\" font-family=\"monospace\" font-size=\"10.00\">AccumulateGrad</text>\n",
       "</g>\n",
       "<!-- 11270856544&#45;&gt;11270859664 -->\n",
       "<g id=\"edge20\" class=\"edge\">\n",
       "<title>11270856544&#45;&gt;11270859664</title>\n",
       "<path fill=\"none\" stroke=\"black\" d=\"M345.63,-293.88C344.43,-285.96 342.64,-274.14 341.09,-263.95\"/>\n",
       "<polygon fill=\"black\" stroke=\"black\" points=\"344.57,-263.57 339.61,-254.2 337.65,-264.62 344.57,-263.57\"/>\n",
       "</g>\n",
       "<!-- 11264902064 -->\n",
       "<g id=\"node23\" class=\"node\">\n",
       "<title>11264902064</title>\n",
       "<polygon fill=\"lightblue\" stroke=\"black\" points=\"388,-386.75 324,-386.75 324,-355.5 388,-355.5 388,-386.75\"/>\n",
       "<text text-anchor=\"middle\" x=\"356\" y=\"-361.25\" font-family=\"monospace\" font-size=\"10.00\"> (1, 10)</text>\n",
       "</g>\n",
       "<!-- 11264902064&#45;&gt;11270856544 -->\n",
       "<g id=\"edge21\" class=\"edge\">\n",
       "<title>11264902064&#45;&gt;11270856544</title>\n",
       "<path fill=\"none\" stroke=\"black\" d=\"M353.96,-355.32C352.72,-346.33 351.12,-334.74 349.77,-324.93\"/>\n",
       "<polygon fill=\"black\" stroke=\"black\" points=\"353.27,-324.73 348.44,-315.3 346.34,-325.68 353.27,-324.73\"/>\n",
       "</g>\n",
       "</g>\n",
       "</svg>\n"
      ],
      "text/plain": [
       "<graphviz.graphs.Digraph at 0x29fefd990>"
      ]
     },
     "execution_count": 76,
     "metadata": {},
     "output_type": "execute_result"
    }
   ],
   "source": [
    "make_dot(functional_classifier(X_train))"
   ]
  },
  {
   "cell_type": "markdown",
   "id": "2dc0173b-8af4-4ad2-8734-d4c21d6565d7",
   "metadata": {},
   "source": [
    "In cases where we want to define a new layer that is not already supported by PyTorch, we can define a new class derived from the `nn.Module` class. This is especially useful when designing a new layer or customizing an existing layer. We will see this in action in the next notebook where we will replicate a model as described in a paper."
   ]
  },
  {
   "cell_type": "markdown",
   "id": "96eb1f01-65ab-435d-a55c-d7100f607b7b",
   "metadata": {
    "tags": []
   },
   "source": [
    "### Train & Validate Model"
   ]
  },
  {
   "cell_type": "code",
   "execution_count": 77,
   "id": "cd5b4c6b-ff3d-475e-a148-6e6728d02de5",
   "metadata": {
    "tags": []
   },
   "outputs": [
    {
     "name": "stdout",
     "output_type": "stream",
     "text": [
      "Epoch: 0 | Train Loss: 0.693 | Validation Loss: 0.693\n",
      "Epoch: 200 | Train Loss: 0.690 | Validation Loss: 0.689\n",
      "Epoch: 400 | Train Loss: 0.685 | Validation Loss: 0.684\n",
      "Epoch: 600 | Train Loss: 0.675 | Validation Loss: 0.673\n",
      "Epoch: 800 | Train Loss: 0.652 | Validation Loss: 0.648\n",
      "Epoch: 1000 | Train Loss: 0.568 | Validation Loss: 0.574\n",
      "Epoch: 1200 | Train Loss: 0.371 | Validation Loss: 0.406\n",
      "Epoch: 1400 | Train Loss: 0.172 | Validation Loss: 0.221\n",
      "Epoch: 1600 | Train Loss: 0.091 | Validation Loss: 0.127\n",
      "Epoch: 1800 | Train Loss: 0.058 | Validation Loss: 0.087\n"
     ]
    },
    {
     "data": {
      "image/png": "[encoded data removed]",
      "text/plain": [
       "<Figure size 600x300 with 1 Axes>"
      ]
     },
     "metadata": {},
     "output_type": "display_data"
    }
   ],
   "source": [
    "torch.manual_seed(42)\n",
    "model = SequentialClassifier(in_features=2, hidden_units=10, out_features=1)\n",
    "loss_fn = nn.BCELoss()\n",
    "optimizer = torch.optim.SGD(params=model.parameters(), lr=0.1)\n",
    "metrics = [torchmetrics.Accuracy(\"binary\", num_classes=2)]\n",
    "train(experiment_name=\"binary_classification\", \n",
    "      model=model, \n",
    "      data=(X_train, X_test, y_train, y_test), \n",
    "      loss_fn=loss_fn, \n",
    "      optimizer=optimizer, \n",
    "      metrics=metrics, \n",
    "      epochs=2000)"
   ]
  }
 ],
 "metadata": {
  "kernelspec": {
   "display_name": "Python 3 (ipykernel)",
   "language": "python",
   "name": "python3"
  },
  "language_info": {
   "codemirror_mode": {
    "name": "ipython",
    "version": 3
   },
   "file_extension": ".py",
   "mimetype": "text/x-python",
   "name": "python",
   "nbconvert_exporter": "python",
   "pygments_lexer": "ipython3",
   "version": "3.12.7"
  },
  "toc-autonumbering": true,
  "toc-showcode": false,
  "toc-showtags": false
 },
 "nbformat": 4,
 "nbformat_minor": 5
}
