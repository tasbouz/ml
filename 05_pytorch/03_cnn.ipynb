{
 "cells": [
  {
   "cell_type": "markdown",
   "id": "d057e6b1-281d-41c0-9bd4-c6eab79798e6",
   "metadata": {},
   "source": [
    "<center><img src=\"img/torch.png\" alt=\"drawing\" width=\"300\"/></center>"
   ]
  },
  {
   "cell_type": "markdown",
   "id": "3636ed06-133f-4236-82f7-ff31b2b41bdd",
   "metadata": {
    "tags": []
   },
   "source": [
    "# Convolutional Neural Networks"
   ]
  },
  {
   "cell_type": "code",
   "execution_count": 1,
   "id": "faf16854-8970-433d-9393-c00da873abe8",
   "metadata": {
    "tags": []
   },
   "outputs": [],
   "source": [
    "import warnings\n",
    "warnings.filterwarnings('ignore')\n",
    "from datetime import datetime\n",
    "import matplotlib.pyplot as plt\n",
    "plt.style.use('fivethirtyeight')\n",
    "plt.rcParams.update({'figure.figsize':(6,3), 'legend.loc':\"best\", 'lines.linewidth':1.5, 'lines.marker':\".\", \"image.cmap\":\"tab10\", 'axes.prop_cycle':plt.cycler(color=plt.cm.tab10.colors), 'axes.formatter.useoffset':False, 'axes.titlesize': 12,'axes.labelsize': 10,'ytick.labelsize':8,'xtick.labelsize':8,'legend.fontsize': 10})\n",
    "import torch\n",
    "from torch import nn\n",
    "import torchmetrics\n",
    "from torchinfo import summary\n",
    "import torchvision\n",
    "from torchvision import datasets, transforms\n",
    "from torch.utils.data import DataLoader\n",
    "from torchvision.models import EfficientNet\n",
    "import mlflow\n",
    "from helper_functions import train_val_loss_plot"
   ]
  },
  {
   "cell_type": "markdown",
   "id": "99ea3e18-7691-4d64-a807-e86ceaa0357f",
   "metadata": {
    "tags": []
   },
   "source": [
    "## Data"
   ]
  },
  {
   "cell_type": "markdown",
   "id": "8e474d19-d1e1-472e-b14c-86f1c2ac5674",
   "metadata": {},
   "source": [
    "When we are training a deep NN model, we usually train the model incrementally using an iterative optimization algorithm such as stochastic gradient descent, as we have seen in the previous notebook. In cases where the training dataset is rather small and can be loaded as a tensor into the memory, we can directly use this tensor for training as we did in the previous two notebooks. \n",
    "\n",
    "In typical use cases, however, when the dataset is too large to fit into the computer memory, we will need to load the data from the main storage device (for example, the hard drive or solid-state drive) in batches, that is, batch by batch. Note the use of the term *batch* instead of *mini-batch* in this chapter to stay close to the PyTorch terminology. \n",
    "\n",
    "In addition, we may need to construct a data-processing pipeline to apply certain transformations and preprocessing steps to our data. Applying preprocessing functions manually every time can be quite cumbersome. Luckily, PyTorch provides a special class for constructing efficient and convenient preprocessing pipelines. \n",
    "\n",
    "In this subsection, we will see an overview of all of these!\n",
    "\n",
    "For this tutorial we will be using a raw sample of food images containing pizza, steak and sushi. The raw data images are inside the `data` directory and they follow the standard image classification data format that PyTorch uses:\n",
    "\n",
    "<center><img src=\"img/torch_03_01.png\" alt=\"drawing\" width=\"250\"/></center>\n",
    "\n",
    "Before we can use our image data to train a model we have to:\n",
    "\n",
    "1. Turn raw data into tensor objects (in our case, numerical representation of raw images) using `torch.utils.data.Dataset()` and apply transformations if needed using `torchvision.transforms`.\n",
    "2. Create a `Dataloader` using the `torch.utils.data.DataLoader()` which we can be used to iterate through the individual elements in the `Dataset`."
   ]
  },
  {
   "cell_type": "markdown",
   "id": "37727d1c-4268-4376-9335-223ea01fddd7",
   "metadata": {},
   "source": [
    "### `Dataset`"
   ]
  },
  {
   "cell_type": "code",
   "execution_count": 2,
   "id": "e3be7a67-13e4-470d-998b-058bc8032522",
   "metadata": {
    "tags": []
   },
   "outputs": [],
   "source": [
    "def make_dataset(train_dir: str, test_dir: str, train_transform=None, test_transform=None):\n",
    "    train_dataset = datasets.ImageFolder(\n",
    "        root=train_dir,\n",
    "        transform=train_transform,\n",
    "        target_transform=None)\n",
    "    \n",
    "    test_dataset = datasets.ImageFolder(\n",
    "        root=test_dir,\n",
    "        transform=test_transform,\n",
    "        target_transform=None)\n",
    "    \n",
    "    return train_dataset, test_dataset"
   ]
  },
  {
   "cell_type": "code",
   "execution_count": 3,
   "id": "01c92138-0849-468d-b320-06966e02880d",
   "metadata": {
    "tags": []
   },
   "outputs": [
    {
     "data": {
      "text/plain": [
       "(Dataset ImageFolder\n",
       "     Number of datapoints: 450\n",
       "     Root location: data/pizza_steak_sushi/train\n",
       "     StandardTransform\n",
       " Transform: Compose(\n",
       "                Resize(size=(64, 64), interpolation=bilinear, max_size=None, antialias=warn)\n",
       "                ToTensor()\n",
       "            ),\n",
       " Dataset ImageFolder\n",
       "     Number of datapoints: 170\n",
       "     Root location: data/pizza_steak_sushi/test\n",
       "     StandardTransform\n",
       " Transform: Compose(\n",
       "                Resize(size=(64, 64), interpolation=bilinear, max_size=None, antialias=warn)\n",
       "                ToTensor()\n",
       "            ))"
      ]
     },
     "execution_count": 3,
     "metadata": {},
     "output_type": "execute_result"
    }
   ],
   "source": [
    "# Write train transformer \n",
    "train_transform = transforms.Compose([\n",
    "    transforms.Resize(size=(64, 64)), # Resize images to 64x64\n",
    "    transforms.ToTensor() # Turn image into a torch.Tensor\n",
    "])\n",
    "\n",
    "# Write test transformer \n",
    "test_transform = transforms.Compose([\n",
    "    transforms.Resize(size=(64, 64)),\n",
    "    transforms.ToTensor()\n",
    "])\n",
    "\n",
    "# Load data\n",
    "train_dataset, test_dataset = make_dataset(\n",
    "    train_dir=\"data/pizza_steak_sushi/train\",\n",
    "    test_dir=\"data/pizza_steak_sushi/test\",\n",
    "    train_transform=train_transform,\n",
    "    test_transform=test_transform)\n",
    "\n",
    "train_dataset, test_dataset"
   ]
  },
  {
   "cell_type": "code",
   "execution_count": 4,
   "id": "5aa9f6fc-be6a-4f0f-861a-afcb10840f91",
   "metadata": {},
   "outputs": [
    {
     "name": "stdout",
     "output_type": "stream",
     "text": [
      "Image Shape: torch.Size([3, 64, 64])\n"
     ]
    }
   ],
   "source": [
    "# Check shape of a random image\n",
    "image = train_dataset[0][0]\n",
    "print(f'Image Shape: {image.shape}')"
   ]
  },
  {
   "cell_type": "markdown",
   "id": "02c484e7-cfe0-4f54-b38e-54239502dab8",
   "metadata": {},
   "source": [
    "The shape of the image tensor is `[3, 64, 64]` or more specifically: `[color_channels=3, height=64, width=64]`. Having `color_channels=3` means the image is colored. The order of our current tensor is often referred to as `CHW` (Color Channels, Height, Width). There's debate on whether images should be represented as `CHW` (color channels first) or `HWC` (color channels last). You'll also see `NCHW` and `NHWC` formats where `N` stands for number of images. For example if you have a batch_size=32, your tensor shape may be [32, 3, 64, 64]. We'll cover batch sizes later. PyTorch generally accepts `NCHW` (channels first) as the default for many operators. However, PyTorch also explains that `NHWC` (channels last) performs better and is considered best practice."
   ]
  },
  {
   "cell_type": "markdown",
   "id": "404a1c5a-e6df-48e1-b42b-eca012bf6d3e",
   "metadata": {},
   "source": [
    "### `DataLoader`"
   ]
  },
  {
   "cell_type": "markdown",
   "id": "b9f94d9b-d04c-46cb-82a0-015af9685a2c",
   "metadata": {},
   "source": [
    "Right now, our data is in the form of PyTorch `Datasets`. `DataLoader` turns our dataset into a Python iterable. More specifically, we want to turn our data into batches (or mini-batches). It is more computationally efficient, as in, your computing hardware may not be able to look (store in memory) all images in one hit.\n",
    "\n",
    "A `DataLoader` is going to help us turn our Dataset's into iterables and we can customise the batch size so our model can see batch size images at a time."
   ]
  },
  {
   "cell_type": "code",
   "execution_count": 5,
   "id": "a124703b-74bc-42a5-94fa-d2bec881ce7e",
   "metadata": {},
   "outputs": [
    {
     "data": {
      "text/plain": [
       "(<torch.utils.data.dataloader.DataLoader at 0x1743eec10>,\n",
       " <torch.utils.data.dataloader.DataLoader at 0x1065e2010>)"
      ]
     },
     "execution_count": 5,
     "metadata": {},
     "output_type": "execute_result"
    }
   ],
   "source": [
    "def make_dataloader(batch_size: int, train_dataset, test_dataset):\n",
    "    # Turn train dataset into iterables (batches) with Dataloader\n",
    "    train_dataloader = DataLoader(dataset=train_dataset,\n",
    "                                  batch_size=batch_size,\n",
    "                                  shuffle=True)\n",
    "\n",
    "    # Turn test dataset into iterables (batches) with Dataloader\n",
    "    test_dataloader = DataLoader(dataset=test_dataset,\n",
    "                                 batch_size=batch_size,\n",
    "                                 shuffle=False)\n",
    "    \n",
    "    return train_dataloader, test_dataloader\n",
    "\n",
    "train_dataloader, test_dataloader = make_dataloader(batch_size=1, train_dataset=train_dataset, test_dataset=test_dataset)\n",
    "train_dataloader, test_dataloader"
   ]
  },
  {
   "cell_type": "code",
   "execution_count": 6,
   "id": "75e623af-1fd5-435a-8fc0-e46e1d1ce701",
   "metadata": {
    "tags": []
   },
   "outputs": [
    {
     "name": "stdout",
     "output_type": "stream",
     "text": [
      "Length of train_dataloader: 450 batches of 1\n",
      "Length of test_dataloader: 170 batches of 1\n"
     ]
    }
   ],
   "source": [
    "# Check length of dataloaders\n",
    "print(f\"Length of train_dataloader: {len(train_dataloader)} batches of 1\")\n",
    "print(f\"Length of test_dataloader: {len(test_dataloader)} batches of 1\")"
   ]
  },
  {
   "cell_type": "code",
   "execution_count": 7,
   "id": "584b6805-e79d-4b5c-a04e-dcc898e18c5d",
   "metadata": {},
   "outputs": [
    {
     "name": "stdout",
     "output_type": "stream",
     "text": [
      "Image Shape: torch.Size([1, 3, 64, 64])\n"
     ]
    }
   ],
   "source": [
    "# Check shape of batch\n",
    "batch, labels = next(iter(train_dataloader))\n",
    "print(f'Image Shape: {batch.shape}')"
   ]
  },
  {
   "cell_type": "markdown",
   "id": "1b101e6c-8b40-4dac-a927-842ab8f1de04",
   "metadata": {},
   "source": [
    "The shape of the batch is `[1, 3, 64, 64]` or more specifically: `[batch_size=1, color_channels=3, height=64, width=64]`. Having `batch_size=1` means each batch contains a single image."
   ]
  },
  {
   "cell_type": "markdown",
   "id": "bd8ec943-1bc4-410d-926a-7e09b8a202e4",
   "metadata": {
    "tags": []
   },
   "source": [
    "## Models"
   ]
  },
  {
   "cell_type": "markdown",
   "id": "bb74c755-3adb-4acf-b801-ca9fd0aa2229",
   "metadata": {
    "tags": []
   },
   "source": [
    "### Model 1: TinyVGG"
   ]
  },
  {
   "cell_type": "code",
   "execution_count": 8,
   "id": "ad64dea2-7c04-4800-ba56-7401f65b321e",
   "metadata": {},
   "outputs": [],
   "source": [
    "# Build TinyVGG by copying TinyVGG from CNN Explainer: https://poloclub.github.io/cnn-explainer/\n",
    "class TinyVGG(nn.Module):\n",
    "    \n",
    "    def __init__(self, input_shape: int, hidden_units: int, output_shape: int):\n",
    "        super().__init__()\n",
    "        \n",
    "        self.conv_block_1 = nn.Sequential(\n",
    "            nn.Conv2d(in_channels=input_shape, out_channels=hidden_units, kernel_size=3, stride=1, padding=0),\n",
    "            nn.ReLU(),\n",
    "            nn.Conv2d(in_channels=hidden_units, out_channels=hidden_units, kernel_size=3, stride=1, padding=0),\n",
    "            nn.ReLU(),\n",
    "            nn.MaxPool2d(kernel_size=2, stride=2)) # Default stride value is same as kernel_size\n",
    "        \n",
    "        self.conv_block_2 = nn.Sequential(\n",
    "            nn.Conv2d(in_channels=hidden_units, out_channels=hidden_units, kernel_size=3, stride=1, padding=0),\n",
    "            nn.ReLU(),\n",
    "            nn.Conv2d(in_channels=hidden_units, out_channels=hidden_units, kernel_size=3, stride=1, padding=0),\n",
    "            nn.ReLU(),\n",
    "            nn.MaxPool2d(kernel_size=2, stride=2))\n",
    "\n",
    "        self.classifier = nn.Sequential(\n",
    "            nn.Flatten(), \n",
    "            nn.Linear(in_features=hidden_units*13*13, out_features=output_shape))\n",
    "\n",
    "    def forward(self, x):\n",
    "        x = self.conv_block_1(x)\n",
    "        x = self.conv_block_2(x)\n",
    "        x = self.classifier(x)\n",
    "        return x\n",
    "    \n",
    "tiny_vgg_0 = TinyVGG(\n",
    "    input_shape=3, # Number of color channels in image data \n",
    "    hidden_units=10, # Number of hidden units\n",
    "    output_shape=3) # Number of labels to predict"
   ]
  },
  {
   "cell_type": "code",
   "execution_count": 9,
   "id": "944f51bd-c6c4-4596-b73b-d70ecac1420e",
   "metadata": {},
   "outputs": [
    {
     "data": {
      "text/plain": [
       "====================================================================================================\n",
       "Layer (type (var_name))                  Input Shape     Output Shape    Param #         Trainable\n",
       "====================================================================================================\n",
       "TinyVGG (TinyVGG)                        [1, 3, 64, 64]  [1, 3]          --              True\n",
       "├─Sequential (conv_block_1)              [1, 3, 64, 64]  [1, 10, 30, 30] --              True\n",
       "│    └─Conv2d (0)                        [1, 3, 64, 64]  [1, 10, 62, 62] 280             True\n",
       "│    └─ReLU (1)                          [1, 10, 62, 62] [1, 10, 62, 62] --              --\n",
       "│    └─Conv2d (2)                        [1, 10, 62, 62] [1, 10, 60, 60] 910             True\n",
       "│    └─ReLU (3)                          [1, 10, 60, 60] [1, 10, 60, 60] --              --\n",
       "│    └─MaxPool2d (4)                     [1, 10, 60, 60] [1, 10, 30, 30] --              --\n",
       "├─Sequential (conv_block_2)              [1, 10, 30, 30] [1, 10, 13, 13] --              True\n",
       "│    └─Conv2d (0)                        [1, 10, 30, 30] [1, 10, 28, 28] 910             True\n",
       "│    └─ReLU (1)                          [1, 10, 28, 28] [1, 10, 28, 28] --              --\n",
       "│    └─Conv2d (2)                        [1, 10, 28, 28] [1, 10, 26, 26] 910             True\n",
       "│    └─ReLU (3)                          [1, 10, 26, 26] [1, 10, 26, 26] --              --\n",
       "│    └─MaxPool2d (4)                     [1, 10, 26, 26] [1, 10, 13, 13] --              --\n",
       "├─Sequential (classifier)                [1, 10, 13, 13] [1, 3]          --              True\n",
       "│    └─Flatten (0)                       [1, 10, 13, 13] [1, 1690]       --              --\n",
       "│    └─Linear (1)                        [1, 1690]       [1, 3]          5,073           True\n",
       "====================================================================================================\n",
       "Total params: 8,083\n",
       "Trainable params: 8,083\n",
       "Non-trainable params: 0\n",
       "Total mult-adds (Units.MEGABYTES): 5.69\n",
       "====================================================================================================\n",
       "Input size (MB): 0.05\n",
       "Forward/backward pass size (MB): 0.71\n",
       "Params size (MB): 0.03\n",
       "Estimated Total Size (MB): 0.79\n",
       "===================================================================================================="
      ]
     },
     "execution_count": 9,
     "metadata": {},
     "output_type": "execute_result"
    }
   ],
   "source": [
    "summary(tiny_vgg_0, input_size=batch.shape, col_names=[\"input_size\", \"output_size\", \"num_params\", \"trainable\"], col_width=15, row_settings=[\"var_names\"])"
   ]
  },
  {
   "cell_type": "markdown",
   "id": "77cbf65f-e21d-47c7-8989-3721f22224b5",
   "metadata": {},
   "source": [
    "Notice that we do not include the `Softmax` function in the end of the network. This is because this is a multiclass classification problem, and the loss function that we will use is `CrossEntropyLoss`. According to `CrossEntropyLoss` docs: *The `input` is expected to contain the unnormalized logits for each class (which do `not` need to be positive or sum to 1, in general.* In other words, the  `CrossEntropyLoss` does not expect neither the labels (coming from `torch.argmax`), nor the probabilities of the labels (coming from `softmax`) but the pre-activations of the `nn.Linear`. This is why the model does not contain the `Softmax`. However, in training, in order to compute accuracy we have to use them!\n"
   ]
  },
  {
   "cell_type": "code",
   "execution_count": 10,
   "id": "8d473d8f-119d-4ecf-985a-83d7c9c8959c",
   "metadata": {
    "tags": []
   },
   "outputs": [],
   "source": [
    "# Build train for training with batches since the optimizer updates the model parameters once per batch rather than once per epoch\n",
    "def train(\n",
    "    experiment_name: str,\n",
    "    model: nn.Module,\n",
    "    data: (torch.utils.data.DataLoader, torch.utils.data.DataLoader),\n",
    "    loss_fn: nn.Module,\n",
    "    optimizer: torch.optim.Optimizer,\n",
    "    metrics: list,\n",
    "    epochs: int,\n",
    "    description: str = None\n",
    "):\n",
    "    mlflow.set_experiment(experiment_name=experiment_name)    \n",
    "    with mlflow.start_run(\n",
    "        run_name=f\"{model.__class__.__name__} {datetime.now().strftime('%Y-%m-%d-%H:%M:%S')}\",\n",
    "        description=description):\n",
    " \n",
    "        train_dataloader, test_dataloader = data   \n",
    "        for epoch in range(epochs):   \n",
    "            model.train()\n",
    "            train_loss = 0\n",
    "            validation_loss = 0\n",
    "            metrics_dict = {}   \n",
    "            for metric in metrics:\n",
    "                metrics_dict[f\"train_{metric.__class__.__name__}\"] = 0\n",
    "                metrics_dict[f\"validation_{metric.__class__.__name__}\"] = 0\n",
    "\n",
    "            # Train in batches\n",
    "            for batch, (X_train, y_train) in enumerate(train_dataloader):\n",
    "                y_logits = model(X_train)\n",
    "                loss = loss_fn(y_logits, y_train)\n",
    "                train_loss += loss.item() / len(train_dataloader) # Divide by length of train_dataloader to get average per batch\n",
    "                y_pred = torch.argmax(torch.softmax(y_logits, dim=1), dim=1)\n",
    "                \n",
    "                for metric in metrics:\n",
    "                    metrics_dict[f\"train_{metric.__class__.__name__}\"] += metric(y_pred, y_train).item() / len(train_dataloader)\n",
    "\n",
    "                optimizer.zero_grad()\n",
    "                loss.backward()\n",
    "                optimizer.step()\n",
    "            \n",
    "            model.eval()\n",
    "            with torch.inference_mode():\n",
    "                for batch, (X_test, y_test) in enumerate(test_dataloader): \n",
    "                    y_logits = model(X_test)\n",
    "                    loss = loss_fn(y_logits, y_test)\n",
    "                    validation_loss += loss.item() / len(test_dataloader)\n",
    "                    y_pred = torch.argmax(torch.softmax(y_logits, dim=1), dim=1)\n",
    "                    \n",
    "                    for metric in metrics:\n",
    "                        metrics_dict[f\"validation_{metric.__class__.__name__}\"] += metric(y_pred, y_test).item() / len(test_dataloader)\n",
    "\n",
    "            if epoch % (epochs/10) == 0:\n",
    "                print(f\"Epoch: {epoch} | Train Loss: {train_loss:.3f} | Validation Loss: {validation_loss:.3f}\")\n",
    "            \n",
    "            mlflow.log_metrics({\n",
    "                \"train_loss\": train_loss,\n",
    "                \"validation_loss\": validation_loss\n",
    "            }, step=epoch)\n",
    "            \n",
    "            for metric_name, metric_value in metrics_dict.items():\n",
    "                mlflow.log_metric(key=metric_name, value=metric_value, step=epoch)\n",
    "\n",
    "        mlflow.pytorch.log_model(model, \"model\")\n",
    "        mlflow.log_params({\n",
    "            \"epochs\": epochs,\n",
    "            \"optimizer\": optimizer.__class__.__name__,\n",
    "            \"lr\": optimizer.param_groups[0][\"lr\"]\n",
    "        })\n",
    "        fig = train_val_loss_plot(run_id= mlflow.active_run().info.run_id, plot=True)\n",
    "        mlflow.log_figure(fig, \"plots/train_validation_loss_curves.png\")"
   ]
  },
  {
   "cell_type": "code",
   "execution_count": 11,
   "id": "62602231-5234-4bad-ab49-ed17d5f79e5e",
   "metadata": {
    "tags": []
   },
   "outputs": [
    {
     "name": "stdout",
     "output_type": "stream",
     "text": [
      "Epoch: 0 | Train Loss: 1.104 | Validation Loss: 1.097\n",
      "Epoch: 1 | Train Loss: 1.099 | Validation Loss: 1.097\n",
      "Epoch: 2 | Train Loss: 1.099 | Validation Loss: 1.097\n",
      "Epoch: 3 | Train Loss: 1.099 | Validation Loss: 1.097\n",
      "Epoch: 4 | Train Loss: 1.099 | Validation Loss: 1.097\n",
      "Epoch: 5 | Train Loss: 1.099 | Validation Loss: 1.097\n",
      "Epoch: 6 | Train Loss: 1.099 | Validation Loss: 1.097\n",
      "Epoch: 7 | Train Loss: 1.099 | Validation Loss: 1.097\n",
      "Epoch: 8 | Train Loss: 1.099 | Validation Loss: 1.097\n",
      "Epoch: 9 | Train Loss: 1.099 | Validation Loss: 1.098\n"
     ]
    },
    {
     "data": {
      "image/png": "[encoded data removed]",
      "text/plain": [
       "<Figure size 600x300 with 1 Axes>"
      ]
     },
     "metadata": {},
     "output_type": "display_data"
    }
   ],
   "source": [
    "torch.manual_seed(42)\n",
    "model = TinyVGG(input_shape=3, hidden_units=10, output_shape=3)\n",
    "loss_fn = nn.CrossEntropyLoss()\n",
    "optimizer = torch.optim.Adam(params=model.parameters(), lr=0.001)\n",
    "metrics=[torchmetrics.Accuracy(task=\"multiclass\", num_classes=3)]\n",
    "train(experiment_name=\"cnn\",\n",
    "      description=\"Plain TinyVGG\",\n",
    "      model=model, \n",
    "      data = (train_dataloader, test_dataloader),\n",
    "      loss_fn=loss_fn, \n",
    "      optimizer=optimizer, \n",
    "      metrics=metrics, \n",
    "      epochs=10)"
   ]
  },
  {
   "cell_type": "markdown",
   "id": "08a13c1d-022f-49c3-ac12-3703cb2c54d5",
   "metadata": {
    "tags": []
   },
   "source": [
    "### Model 2: Augmented TinyVGG"
   ]
  },
  {
   "cell_type": "markdown",
   "id": "23392527-4228-4b97-b8c7-1076b15af4b1",
   "metadata": {},
   "source": [
    "In model 2 we will use the exact same model but we will use some data augmentation in the train dataset."
   ]
  },
  {
   "cell_type": "code",
   "execution_count": 12,
   "id": "7288dcd5-bc2e-4d0e-8a92-dbd615082aac",
   "metadata": {
    "tags": []
   },
   "outputs": [],
   "source": [
    "# Write a train transformer including augmentation \n",
    "augmented_train_transform = transforms.Compose([\n",
    "    transforms.Resize(size=(64, 64)),\n",
    "    transforms.TrivialAugmentWide(num_magnitude_bins=31), # Trivial augmentation\n",
    "    transforms.ToTensor()\n",
    "])\n",
    "\n",
    "# Write a test transformer not including augmentation \n",
    "augmented_test_transform = transforms.Compose([\n",
    "    transforms.Resize(size=(64, 64)),\n",
    "    transforms.ToTensor()\n",
    "])\n",
    "\n",
    "# Load data\n",
    "augmented_train_dataset, augmented_test_dataset = make_dataset(\n",
    "    train_dir=\"data/pizza_steak_sushi/train\",\n",
    "    test_dir=\"data/pizza_steak_sushi/test\",\n",
    "    train_transform=augmented_train_transform,\n",
    "    test_transform=augmented_test_transform)\n",
    "\n",
    "# Turn data to dataloaders\n",
    "augmented_train_dataloader, augmented_test_dataloader = make_dataloader(\n",
    "    batch_size=1, \n",
    "    train_dataset=augmented_train_dataset, \n",
    "    test_dataset=augmented_test_dataset)"
   ]
  },
  {
   "cell_type": "code",
   "execution_count": 13,
   "id": "3cad6fa4-6779-49bf-a681-f5b150d30b93",
   "metadata": {
    "tags": []
   },
   "outputs": [
    {
     "name": "stdout",
     "output_type": "stream",
     "text": [
      "Epoch: 0 | Train Loss: 1.104 | Validation Loss: 1.097\n",
      "Epoch: 1 | Train Loss: 1.099 | Validation Loss: 1.097\n",
      "Epoch: 2 | Train Loss: 1.099 | Validation Loss: 1.097\n",
      "Epoch: 3 | Train Loss: 1.099 | Validation Loss: 1.098\n",
      "Epoch: 4 | Train Loss: 1.099 | Validation Loss: 1.097\n",
      "Epoch: 5 | Train Loss: 1.099 | Validation Loss: 1.098\n",
      "Epoch: 6 | Train Loss: 1.099 | Validation Loss: 1.098\n",
      "Epoch: 7 | Train Loss: 1.099 | Validation Loss: 1.098\n",
      "Epoch: 8 | Train Loss: 1.099 | Validation Loss: 1.098\n",
      "Epoch: 9 | Train Loss: 1.099 | Validation Loss: 1.098\n"
     ]
    },
    {
     "data": {
      "image/png": "[encoded data removed]",
      "text/plain": [
       "<Figure size 600x300 with 1 Axes>"
      ]
     },
     "metadata": {},
     "output_type": "display_data"
    }
   ],
   "source": [
    "torch.manual_seed(42)\n",
    "model = TinyVGG(input_shape=3, hidden_units=10, output_shape=3)\n",
    "loss_fn = nn.CrossEntropyLoss()\n",
    "optimizer = torch.optim.Adam(params=model.parameters(), lr=0.001)\n",
    "metrics=[torchmetrics.Accuracy(task=\"multiclass\", num_classes=3)]\n",
    "train(experiment_name=\"cnn\", \n",
    "      description=\"Plain TinyVGG with augmented dataset\",\n",
    "      model=model, \n",
    "      data = (augmented_train_dataloader, augmented_test_dataloader),\n",
    "      loss_fn=loss_fn, \n",
    "      optimizer=optimizer, \n",
    "      metrics=metrics, \n",
    "      epochs=10)"
   ]
  },
  {
   "cell_type": "markdown",
   "id": "b080f089-37ad-40d0-a397-cec2b5fbb67f",
   "metadata": {},
   "source": [
    "## Transfer Learning"
   ]
  },
  {
   "cell_type": "markdown",
   "id": "d22d9a5e-3675-4f4e-9d4a-0dbda85e0194",
   "metadata": {},
   "source": [
    "Transfer learning involves taking the parameters of what one model has learned on another dataset (usually called pretrained model or foundation model) and applying to our own problem.\n",
    "\n",
    "There are 3 types of transfer learning:\n",
    "\n",
    "* **Original Model (\"As Is\")**: Take a pretrained model as it is and apply it to your task without any changes. The original model remains unchanged. Helpful if you have the exact same kind of data the original model was trained on.\n",
    "* **Feature Extraction**: Take the underlying patterns (also called weights) a pretrained model has learned and adjust its outputs to be more suited to your problem. Most of the layers in the original model remain frozen during training and only the top 1-3 layers get updated. Helpful if you have a small amount of custom data (similar to what the original model was trained on) and want to utilise a pretrained model to get better results on your specific problem. \n",
    "* **Fine-Tuning**: Take the weights of a pretrained model and adiust (fine-tune) them to your own problem. Some, many or all of the layers in the pretrained model are updated during training. Helpful if you have a large amount of custom data and want to utilise a pretrained model and improve its underlying patterns to your specific problem.\n",
    "\n",
    "In this subsection we will be using a pretrain model of the `torchvision.models` library called `Efficient Net B0` and we will perform `Feature Extraction` to it. On top of that, we will also play around with different experiments by training the model for a different time of epochs. "
   ]
  },
  {
   "cell_type": "markdown",
   "id": "8d90cb17-b41f-4cdb-8c7b-73c9cabec3cc",
   "metadata": {
    "tags": []
   },
   "source": [
    "### Model 3: Efficient Net B0 "
   ]
  },
  {
   "cell_type": "markdown",
   "id": "3c008958-f8a3-41a8-ae2c-1dd16c6dc671",
   "metadata": {},
   "source": [
    "The way of using pretrained models in PyTorch is by specifying both the model and the weights that we want to use. Let's start with the weights."
   ]
  },
  {
   "cell_type": "code",
   "execution_count": 14,
   "id": "18ba8147-1e2c-4628-a04b-74eef4170b0e",
   "metadata": {
    "tags": []
   },
   "outputs": [
    {
     "data": {
      "text/plain": [
       "EfficientNet_B0_Weights.IMAGENET1K_V1"
      ]
     },
     "execution_count": 14,
     "metadata": {},
     "output_type": "execute_result"
    }
   ],
   "source": [
    "# Get set of pretrained model weights\n",
    "weights = torchvision.models.EfficientNet_B0_Weights.DEFAULT # DEFAULT = best available weights\n",
    "weights"
   ]
  },
  {
   "cell_type": "markdown",
   "id": "92441eef-9c55-44a1-8e99-892ae5d9f1e8",
   "metadata": {},
   "source": [
    "As it makes sense, a pretrained model has each own transformations of the data. As for example in the previous section we build the transform:\n",
    "\n",
    "```\n",
    "augmented_train_transform = transforms.Compose([\n",
    "    transforms.Resize(size=(64, 64)),\n",
    "    transforms.TrivialAugmentWide(num_magnitude_bins=31),\n",
    "    transforms.ToTensor()])\n",
    "```\n",
    "\n",
    "for the augmented TinyVGG model, each model with its turn uses some other transfomations. \n",
    "\n",
    "As it makes sense, the transformations are crucial to the model either because they help in the performance (e.g. `transforms.TrivialAugmentWide(num_magnitude_bins=31)`) or because they define the input to the model (e.g. `transforms.Resize(size=(64, 64))` and `transforms.ToTensor()`). For this reason, in transfer learning when we use a pretrained model we also have to use its transformations to our data.\n",
    "\n",
    "Torchvision provides automatic data transform creation based on the pretrained model weights you're using."
   ]
  },
  {
   "cell_type": "code",
   "execution_count": 15,
   "id": "d5b277b4-b8c6-4921-8a62-0fbdc3d64977",
   "metadata": {
    "tags": []
   },
   "outputs": [
    {
     "data": {
      "text/plain": [
       "ImageClassification(\n",
       "    crop_size=[224]\n",
       "    resize_size=[256]\n",
       "    mean=[0.485, 0.456, 0.406]\n",
       "    std=[0.229, 0.224, 0.225]\n",
       "    interpolation=InterpolationMode.BICUBIC\n",
       ")"
      ]
     },
     "execution_count": 15,
     "metadata": {},
     "output_type": "execute_result"
    }
   ],
   "source": [
    "# Get the transforms used to create pretrained weights\n",
    "efficient_net_B0_transforms = weights.transforms()\n",
    "efficient_net_B0_transforms"
   ]
  },
  {
   "cell_type": "markdown",
   "id": "7a9e82d1-ecdf-41e5-b21a-8d04110bb0a2",
   "metadata": {},
   "source": [
    "Now we can use this transform to our `make_dataloader` function in order to create our dataloaders in the way the model expects."
   ]
  },
  {
   "cell_type": "code",
   "execution_count": 16,
   "id": "1ac5ab4a-c8e8-4caf-8445-c0ec47c8598c",
   "metadata": {
    "tags": []
   },
   "outputs": [],
   "source": [
    "# Create dataset\n",
    "train_dataset, test_dataset = make_dataset(\n",
    "    train_dir=\"data/pizza_steak_sushi/train\",\n",
    "    test_dir=\"data/pizza_steak_sushi/test\",\n",
    "    train_transform=efficient_net_B0_transforms,\n",
    "    test_transform=efficient_net_B0_transforms)"
   ]
  },
  {
   "cell_type": "code",
   "execution_count": 17,
   "id": "557555dd-358a-4338-a4d2-c90b9d9935f4",
   "metadata": {
    "tags": []
   },
   "outputs": [],
   "source": [
    "# Create dataloaders\n",
    "train_dataloader, test_dataloader = make_dataloader(\n",
    "    batch_size=32,\n",
    "    train_dataset=train_dataset,\n",
    "    test_dataset=test_dataset\n",
    ")"
   ]
  },
  {
   "cell_type": "code",
   "execution_count": 18,
   "id": "bb9ec744-9805-451a-a7fa-06af8a25a630",
   "metadata": {
    "tags": []
   },
   "outputs": [],
   "source": [
    "# Load model and feed predefined weights\n",
    "model = torchvision.models.efficientnet_b0(weights=weights)"
   ]
  },
  {
   "cell_type": "code",
   "execution_count": 19,
   "id": "68dc9be1-0f08-44e2-a558-2960aad21031",
   "metadata": {
    "tags": []
   },
   "outputs": [
    {
     "data": {
      "text/plain": [
       "============================================================================================================================================\n",
       "Layer (type (var_name))                                      Input Shape          Output Shape         Param #              Trainable\n",
       "============================================================================================================================================\n",
       "EfficientNet (EfficientNet)                                  [1, 3, 224, 224]     [1, 1000]            --                   True\n",
       "├─Sequential (features)                                      [1, 3, 224, 224]     [1, 1280, 7, 7]      --                   True\n",
       "│    └─Conv2dNormActivation (0)                              [1, 3, 224, 224]     [1, 32, 112, 112]    --                   True\n",
       "│    │    └─Conv2d (0)                                       [1, 3, 224, 224]     [1, 32, 112, 112]    864                  True\n",
       "│    │    └─BatchNorm2d (1)                                  [1, 32, 112, 112]    [1, 32, 112, 112]    64                   True\n",
       "│    │    └─SiLU (2)                                         [1, 32, 112, 112]    [1, 32, 112, 112]    --                   --\n",
       "│    └─Sequential (1)                                        [1, 32, 112, 112]    [1, 16, 112, 112]    --                   True\n",
       "│    │    └─MBConv (0)                                       [1, 32, 112, 112]    [1, 16, 112, 112]    1,448                True\n",
       "│    └─Sequential (2)                                        [1, 16, 112, 112]    [1, 24, 56, 56]      --                   True\n",
       "│    │    └─MBConv (0)                                       [1, 16, 112, 112]    [1, 24, 56, 56]      6,004                True\n",
       "│    │    └─MBConv (1)                                       [1, 24, 56, 56]      [1, 24, 56, 56]      10,710               True\n",
       "│    └─Sequential (3)                                        [1, 24, 56, 56]      [1, 40, 28, 28]      --                   True\n",
       "│    │    └─MBConv (0)                                       [1, 24, 56, 56]      [1, 40, 28, 28]      15,350               True\n",
       "│    │    └─MBConv (1)                                       [1, 40, 28, 28]      [1, 40, 28, 28]      31,290               True\n",
       "│    └─Sequential (4)                                        [1, 40, 28, 28]      [1, 80, 14, 14]      --                   True\n",
       "│    │    └─MBConv (0)                                       [1, 40, 28, 28]      [1, 80, 14, 14]      37,130               True\n",
       "│    │    └─MBConv (1)                                       [1, 80, 14, 14]      [1, 80, 14, 14]      102,900              True\n",
       "│    │    └─MBConv (2)                                       [1, 80, 14, 14]      [1, 80, 14, 14]      102,900              True\n",
       "│    └─Sequential (5)                                        [1, 80, 14, 14]      [1, 112, 14, 14]     --                   True\n",
       "│    │    └─MBConv (0)                                       [1, 80, 14, 14]      [1, 112, 14, 14]     126,004              True\n",
       "│    │    └─MBConv (1)                                       [1, 112, 14, 14]     [1, 112, 14, 14]     208,572              True\n",
       "│    │    └─MBConv (2)                                       [1, 112, 14, 14]     [1, 112, 14, 14]     208,572              True\n",
       "│    └─Sequential (6)                                        [1, 112, 14, 14]     [1, 192, 7, 7]       --                   True\n",
       "│    │    └─MBConv (0)                                       [1, 112, 14, 14]     [1, 192, 7, 7]       262,492              True\n",
       "│    │    └─MBConv (1)                                       [1, 192, 7, 7]       [1, 192, 7, 7]       587,952              True\n",
       "│    │    └─MBConv (2)                                       [1, 192, 7, 7]       [1, 192, 7, 7]       587,952              True\n",
       "│    │    └─MBConv (3)                                       [1, 192, 7, 7]       [1, 192, 7, 7]       587,952              True\n",
       "│    └─Sequential (7)                                        [1, 192, 7, 7]       [1, 320, 7, 7]       --                   True\n",
       "│    │    └─MBConv (0)                                       [1, 192, 7, 7]       [1, 320, 7, 7]       717,232              True\n",
       "│    └─Conv2dNormActivation (8)                              [1, 320, 7, 7]       [1, 1280, 7, 7]      --                   True\n",
       "│    │    └─Conv2d (0)                                       [1, 320, 7, 7]       [1, 1280, 7, 7]      409,600              True\n",
       "│    │    └─BatchNorm2d (1)                                  [1, 1280, 7, 7]      [1, 1280, 7, 7]      2,560                True\n",
       "│    │    └─SiLU (2)                                         [1, 1280, 7, 7]      [1, 1280, 7, 7]      --                   --\n",
       "├─AdaptiveAvgPool2d (avgpool)                                [1, 1280, 7, 7]      [1, 1280, 1, 1]      --                   --\n",
       "├─Sequential (classifier)                                    [1, 1280]            [1, 1000]            --                   True\n",
       "│    └─Dropout (0)                                           [1, 1280]            [1, 1280]            --                   --\n",
       "│    └─Linear (1)                                            [1, 1280]            [1, 1000]            1,281,000            True\n",
       "============================================================================================================================================\n",
       "Total params: 5,288,548\n",
       "Trainable params: 5,288,548\n",
       "Non-trainable params: 0\n",
       "Total mult-adds (Units.MEGABYTES): 385.87\n",
       "============================================================================================================================================\n",
       "Input size (MB): 0.60\n",
       "Forward/backward pass size (MB): 107.89\n",
       "Params size (MB): 21.15\n",
       "Estimated Total Size (MB): 129.64\n",
       "============================================================================================================================================"
      ]
     },
     "execution_count": 19,
     "metadata": {},
     "output_type": "execute_result"
    }
   ],
   "source": [
    "# Create model\n",
    "model = torchvision.models.efficientnet_b0(weights=weights)\n",
    "summary(model=model, input_size=(1, 3, 224, 224), col_names=[\"input_size\", \"output_size\", \"num_params\", \"trainable\"], col_width=20, row_settings=[\"var_names\"])"
   ]
  },
  {
   "cell_type": "markdown",
   "id": "601f254e-a673-42f4-9981-e20468974682",
   "metadata": {},
   "source": [
    "As we can see the model is quite big, and all its parameters are trainable. The model is conveniently splitted in `features` and `classifier`. We can check this also with code by running `model.features` and `model.classifier`.\n",
    "\n",
    ">The outcome of `model.features` is huge since it will return the whole architecture of TinyVGG without the classifier, so we won't actually run it."
   ]
  },
  {
   "cell_type": "code",
   "execution_count": 20,
   "id": "81c53879-c90b-448c-a4c5-5c01cb28aa6f",
   "metadata": {
    "tags": []
   },
   "outputs": [
    {
     "data": {
      "text/plain": [
       "Sequential(\n",
       "  (0): Dropout(p=0.2, inplace=True)\n",
       "  (1): Linear(in_features=1280, out_features=1000, bias=True)\n",
       ")"
      ]
     },
     "execution_count": 20,
     "metadata": {},
     "output_type": "execute_result"
    }
   ],
   "source": [
    "# Show the part that we will change\n",
    "model.classifier"
   ]
  },
  {
   "cell_type": "markdown",
   "id": "bdc5da2e-a9fd-438b-99f1-bb654308ad5d",
   "metadata": {},
   "source": [
    "In order to perform future extraction we will freeze the `model.features` part so it cannot be trained, and we will first of all change the `model.classifier` to fit our needs, and then train it.\n",
    "\n",
    "<center><img src=\"img/torch_03_02.png\" alt=\"drawing\" width=\"1200\"/></center>"
   ]
  },
  {
   "cell_type": "code",
   "execution_count": 21,
   "id": "1ac9e9f9-bf4f-41bb-a951-81b5fa032739",
   "metadata": {
    "tags": []
   },
   "outputs": [
    {
     "data": {
      "text/plain": [
       "============================================================================================================================================\n",
       "Layer (type (var_name))                                      Input Shape          Output Shape         Param #              Trainable\n",
       "============================================================================================================================================\n",
       "EfficientNet (EfficientNet)                                  [1, 3, 224, 224]     [1, 3]               --                   Partial\n",
       "├─Sequential (features)                                      [1, 3, 224, 224]     [1, 1280, 7, 7]      --                   False\n",
       "│    └─Conv2dNormActivation (0)                              [1, 3, 224, 224]     [1, 32, 112, 112]    --                   False\n",
       "│    │    └─Conv2d (0)                                       [1, 3, 224, 224]     [1, 32, 112, 112]    (864)                False\n",
       "│    │    └─BatchNorm2d (1)                                  [1, 32, 112, 112]    [1, 32, 112, 112]    (64)                 False\n",
       "│    │    └─SiLU (2)                                         [1, 32, 112, 112]    [1, 32, 112, 112]    --                   --\n",
       "│    └─Sequential (1)                                        [1, 32, 112, 112]    [1, 16, 112, 112]    --                   False\n",
       "│    │    └─MBConv (0)                                       [1, 32, 112, 112]    [1, 16, 112, 112]    (1,448)              False\n",
       "│    └─Sequential (2)                                        [1, 16, 112, 112]    [1, 24, 56, 56]      --                   False\n",
       "│    │    └─MBConv (0)                                       [1, 16, 112, 112]    [1, 24, 56, 56]      (6,004)              False\n",
       "│    │    └─MBConv (1)                                       [1, 24, 56, 56]      [1, 24, 56, 56]      (10,710)             False\n",
       "│    └─Sequential (3)                                        [1, 24, 56, 56]      [1, 40, 28, 28]      --                   False\n",
       "│    │    └─MBConv (0)                                       [1, 24, 56, 56]      [1, 40, 28, 28]      (15,350)             False\n",
       "│    │    └─MBConv (1)                                       [1, 40, 28, 28]      [1, 40, 28, 28]      (31,290)             False\n",
       "│    └─Sequential (4)                                        [1, 40, 28, 28]      [1, 80, 14, 14]      --                   False\n",
       "│    │    └─MBConv (0)                                       [1, 40, 28, 28]      [1, 80, 14, 14]      (37,130)             False\n",
       "│    │    └─MBConv (1)                                       [1, 80, 14, 14]      [1, 80, 14, 14]      (102,900)            False\n",
       "│    │    └─MBConv (2)                                       [1, 80, 14, 14]      [1, 80, 14, 14]      (102,900)            False\n",
       "│    └─Sequential (5)                                        [1, 80, 14, 14]      [1, 112, 14, 14]     --                   False\n",
       "│    │    └─MBConv (0)                                       [1, 80, 14, 14]      [1, 112, 14, 14]     (126,004)            False\n",
       "│    │    └─MBConv (1)                                       [1, 112, 14, 14]     [1, 112, 14, 14]     (208,572)            False\n",
       "│    │    └─MBConv (2)                                       [1, 112, 14, 14]     [1, 112, 14, 14]     (208,572)            False\n",
       "│    └─Sequential (6)                                        [1, 112, 14, 14]     [1, 192, 7, 7]       --                   False\n",
       "│    │    └─MBConv (0)                                       [1, 112, 14, 14]     [1, 192, 7, 7]       (262,492)            False\n",
       "│    │    └─MBConv (1)                                       [1, 192, 7, 7]       [1, 192, 7, 7]       (587,952)            False\n",
       "│    │    └─MBConv (2)                                       [1, 192, 7, 7]       [1, 192, 7, 7]       (587,952)            False\n",
       "│    │    └─MBConv (3)                                       [1, 192, 7, 7]       [1, 192, 7, 7]       (587,952)            False\n",
       "│    └─Sequential (7)                                        [1, 192, 7, 7]       [1, 320, 7, 7]       --                   False\n",
       "│    │    └─MBConv (0)                                       [1, 192, 7, 7]       [1, 320, 7, 7]       (717,232)            False\n",
       "│    └─Conv2dNormActivation (8)                              [1, 320, 7, 7]       [1, 1280, 7, 7]      --                   False\n",
       "│    │    └─Conv2d (0)                                       [1, 320, 7, 7]       [1, 1280, 7, 7]      (409,600)            False\n",
       "│    │    └─BatchNorm2d (1)                                  [1, 1280, 7, 7]      [1, 1280, 7, 7]      (2,560)              False\n",
       "│    │    └─SiLU (2)                                         [1, 1280, 7, 7]      [1, 1280, 7, 7]      --                   --\n",
       "├─AdaptiveAvgPool2d (avgpool)                                [1, 1280, 7, 7]      [1, 1280, 1, 1]      --                   --\n",
       "├─Sequential (classifier)                                    [1, 1280]            [1, 3]               --                   True\n",
       "│    └─Dropout (0)                                           [1, 1280]            [1, 1280]            --                   --\n",
       "│    └─Linear (1)                                            [1, 1280]            [1, 3]               3,843                True\n",
       "============================================================================================================================================\n",
       "Total params: 4,011,391\n",
       "Trainable params: 3,843\n",
       "Non-trainable params: 4,007,548\n",
       "Total mult-adds (Units.MEGABYTES): 384.59\n",
       "============================================================================================================================================\n",
       "Input size (MB): 0.60\n",
       "Forward/backward pass size (MB): 107.88\n",
       "Params size (MB): 16.05\n",
       "Estimated Total Size (MB): 124.53\n",
       "============================================================================================================================================"
      ]
     },
     "execution_count": 21,
     "metadata": {},
     "output_type": "execute_result"
    }
   ],
   "source": [
    "# Freeze all base layers in EfficientNetB0\n",
    "for param in model.features.parameters():\n",
    "    param.requires_grad = False\n",
    "    \n",
    "# Update classifier's head to fit our case\n",
    "model.classifier = nn.Sequential(\n",
    "    nn.Dropout(p=0.2, inplace=True), # Dropout layer can stay the same\n",
    "    nn.Linear(in_features=1280, out_features=3) # Feature vector stays the same but classes have change from 1000 to 3\n",
    ")\n",
    "\n",
    "# Check summary of new model\n",
    "summary(model=model, input_size=(1, 3, 224, 224), col_names=[\"input_size\", \"output_size\", \"num_params\", \"trainable\"], col_width=20, row_settings=[\"var_names\"])"
   ]
  },
  {
   "cell_type": "markdown",
   "id": "c49177e8-757e-4cc6-9d06-7470452c3679",
   "metadata": {},
   "source": [
    "Now we are ready to train our model. As we said we will train 2 of them. One with 5 epochs and one with 10 epochs."
   ]
  },
  {
   "cell_type": "code",
   "execution_count": 22,
   "id": "0c38678e-ced0-4c20-b668-bd1d91a3f6c4",
   "metadata": {
    "tags": []
   },
   "outputs": [
    {
     "name": "stdout",
     "output_type": "stream",
     "text": [
      "Epoch: 0 | Train Loss: 0.964 | Validation Loss: 0.680\n",
      "Epoch: 1 | Train Loss: 0.695 | Validation Loss: 0.555\n",
      "Epoch: 2 | Train Loss: 0.586 | Validation Loss: 0.472\n",
      "Epoch: 3 | Train Loss: 0.528 | Validation Loss: 0.431\n",
      "Epoch: 4 | Train Loss: 0.434 | Validation Loss: 0.415\n"
     ]
    },
    {
     "data": {
      "image/png": "[encoded data removed]",
      "text/plain": [
       "<Figure size 600x300 with 1 Axes>"
      ]
     },
     "metadata": {},
     "output_type": "display_data"
    }
   ],
   "source": [
    "# Train for 5 epochs\n",
    "\n",
    "# Load weights\n",
    "weights = torchvision.models.EfficientNet_B0_Weights.DEFAULT\n",
    "\n",
    "# Instantiate new instance of Efficient Net B0\n",
    "model = torchvision.models.efficientnet_b0(weights=weights)\n",
    "\n",
    "# Freeze all base layers\n",
    "for param in model.features.parameters():\n",
    "    param.requires_grad = False\n",
    "    \n",
    "# Update classifier's head\n",
    "model.classifier = nn.Sequential(\n",
    "    nn.Dropout(p=0.2, inplace=True),\n",
    "    nn.Linear(in_features=1280, out_features=3))\n",
    "\n",
    "loss_fn = nn.CrossEntropyLoss()\n",
    "optimizer = torch.optim.Adam(params=model.parameters(), lr=0.001)\n",
    "metrics=[torchmetrics.Accuracy(task=\"multiclass\", num_classes=3)]\n",
    "train(experiment_name=\"cnn\", \n",
    "      description=\"Efficient Net B0 for 5 epochs\",\n",
    "      model=model, \n",
    "      data = (train_dataloader, test_dataloader),\n",
    "      loss_fn=loss_fn, \n",
    "      optimizer=optimizer, \n",
    "      metrics=metrics, \n",
    "      epochs=5)"
   ]
  },
  {
   "cell_type": "code",
   "execution_count": 23,
   "id": "f3756d12-a94f-48ce-bbec-fb3160817d0b",
   "metadata": {
    "tags": []
   },
   "outputs": [
    {
     "name": "stdout",
     "output_type": "stream",
     "text": [
      "Epoch: 0 | Train Loss: 0.930 | Validation Loss: 0.630\n",
      "Epoch: 1 | Train Loss: 0.671 | Validation Loss: 0.531\n",
      "Epoch: 2 | Train Loss: 0.562 | Validation Loss: 0.481\n",
      "Epoch: 3 | Train Loss: 0.496 | Validation Loss: 0.438\n",
      "Epoch: 4 | Train Loss: 0.421 | Validation Loss: 0.396\n",
      "Epoch: 5 | Train Loss: 0.448 | Validation Loss: 0.347\n",
      "Epoch: 6 | Train Loss: 0.348 | Validation Loss: 0.343\n",
      "Epoch: 7 | Train Loss: 0.361 | Validation Loss: 0.328\n",
      "Epoch: 8 | Train Loss: 0.351 | Validation Loss: 0.312\n",
      "Epoch: 9 | Train Loss: 0.324 | Validation Loss: 0.317\n"
     ]
    },
    {
     "data": {
      "image/png": "[encoded data removed]",
      "text/plain": [
       "<Figure size 600x300 with 1 Axes>"
      ]
     },
     "metadata": {},
     "output_type": "display_data"
    }
   ],
   "source": [
    "# Train for 10 epochs\n",
    "\n",
    "# Load weights\n",
    "weights = torchvision.models.EfficientNet_B0_Weights.DEFAULT\n",
    "\n",
    "# Instantiate new instance of Efficient Net B0\n",
    "model = torchvision.models.efficientnet_b0(weights=weights)\n",
    "\n",
    "# Freeze all base layers in EfficientNetB0\n",
    "for param in model.features.parameters():\n",
    "    param.requires_grad = False\n",
    "     \n",
    "# Update classifier's head\n",
    "model.classifier = nn.Sequential(\n",
    "    nn.Dropout(p=0.2, inplace=True),\n",
    "    nn.Linear(in_features=1280, out_features=3))\n",
    "\n",
    "loss_fn = nn.CrossEntropyLoss()\n",
    "optimizer = torch.optim.Adam(params=model.parameters(), lr=0.001)\n",
    "metrics=[torchmetrics.Accuracy(task=\"multiclass\", num_classes=3)]\n",
    "train(experiment_name=\"cnn\", \n",
    "      description=\"Efficient Net B0 for 10 epochs\",\n",
    "      model=model, \n",
    "      data = (train_dataloader, test_dataloader),\n",
    "      loss_fn=loss_fn, \n",
    "      optimizer=optimizer, \n",
    "      metrics=metrics, \n",
    "      epochs=10)"
   ]
  },
  {
   "cell_type": "markdown",
   "id": "eb81cd92-b309-4c46-be4d-c17ec1849025",
   "metadata": {},
   "source": [
    "## Paper Replication"
   ]
  },
  {
   "cell_type": "markdown",
   "id": "b8384106-cf9d-49fe-a40a-f771dd549841",
   "metadata": {},
   "source": [
    "The goal of paper replication is to turn a ML research paper into usable code. Usually we break down a ML model described in a machine learning research paper into smaller pieces:\n",
    "\n",
    "* **Inputs**: What goes into the model.\n",
    "* **Outputs**: What comes out of the model/layer/block.\n",
    "* **Layers**: Takes an input, manipulates it with a function.\n",
    "* **Blocks**: A collection of layers.\n",
    "* **Model** or **Architecture**: A collection of blocks.\n",
    "\n",
    "In this notebook, we're going to be replicating the [Vision Transformer (ViT) architecture/paper](https://arxiv.org/abs/2010.11929) with PyTorch."
   ]
  },
  {
   "cell_type": "markdown",
   "id": "84b20bd9-097e-4ddf-9a0f-63198b2f81a1",
   "metadata": {},
   "source": [
    "### Model 4: Visual Transformer"
   ]
  },
  {
   "cell_type": "markdown",
   "id": "991acd6f-deb4-40ca-bc31-cdc1a5535dcc",
   "metadata": {
    "tags": []
   },
   "source": [
    "Here follows a theoretical description of the model."
   ]
  },
  {
   "cell_type": "markdown",
   "id": "c89de0f0-53c7-4066-a39a-e6d3d1bbae52",
   "metadata": {},
   "source": [
    "<center><img src=\"img/torch_03_03.png\" alt=\"drawing\" width=\"1200\"/></center>"
   ]
  },
  {
   "cell_type": "markdown",
   "id": "d5113f63-dfdd-49e0-8b8d-e533f2c9206c",
   "metadata": {},
   "source": [
    "Let's start with the input layer. In most ML applications, translating raw data to tensors is the most difficult part. Here is a video explanation of how Vision Transformer model converts images to tensors, a.k.a the `Input Layer` $z_0$."
   ]
  },
  {
   "cell_type": "markdown",
   "id": "b5bf96b0-b4b2-4d98-b899-3e5d0082c81c",
   "metadata": {
    "tags": []
   },
   "source": [
    "<center><video controls src=\"img/torch_03_04.mp4\" width=480, height=320/></center>"
   ]
  },
  {
   "cell_type": "markdown",
   "id": "aa022c84-0dc5-4fb1-a572-30866847d232",
   "metadata": {
    "tags": []
   },
   "source": [
    "Let's try to implement this now!\n",
    "\n",
    "From the paper, in Table 3, we figure out that the authors perform the following transformation.\n",
    "\n",
    "<center><img src=\"img/torch_03_05.png\" alt=\"drawing\" width=\"620\"/></center>"
   ]
  },
  {
   "cell_type": "code",
   "execution_count": 24,
   "id": "b09c207b-0ded-468e-8771-5fffcaa5534e",
   "metadata": {
    "tags": []
   },
   "outputs": [],
   "source": [
    "IMG_SIZE=224\n",
    "BATCH_SIZE=32 # In paper is 4096 but that's too large"
   ]
  },
  {
   "cell_type": "code",
   "execution_count": 25,
   "id": "27395f72-37e8-4164-843f-9e95c7811955",
   "metadata": {
    "tags": []
   },
   "outputs": [
    {
     "data": {
      "text/plain": [
       "Compose(\n",
       "    Resize(size=(224, 224), interpolation=bilinear, max_size=None, antialias=warn)\n",
       "    ToTensor()\n",
       ")"
      ]
     },
     "execution_count": 25,
     "metadata": {},
     "output_type": "execute_result"
    }
   ],
   "source": [
    "vit_transform = transforms.Compose([\n",
    "    transforms.Resize((IMG_SIZE, IMG_SIZE)),\n",
    "    transforms.ToTensor()\n",
    "])\n",
    "\n",
    "vit_transform"
   ]
  },
  {
   "cell_type": "code",
   "execution_count": 26,
   "id": "3ca14146-3fbe-4f16-85c9-bd271f72bc28",
   "metadata": {
    "tags": []
   },
   "outputs": [],
   "source": [
    "train_dataset, test_dataset = make_dataset(\n",
    "    train_dir=\"data/pizza_steak_sushi/train\",\n",
    "    test_dir=\"data/pizza_steak_sushi/test\",\n",
    "    train_transform=vit_transform,\n",
    "    test_transform=vit_transform)\n",
    "\n",
    "train_dataloader, test_dataloader = make_dataloader(\n",
    "    train_dataset=train_dataset,\n",
    "    test_dataset=test_dataset,\n",
    "    batch_size=BATCH_SIZE)"
   ]
  },
  {
   "cell_type": "markdown",
   "id": "c4b8e315-08e9-4f27-8a83-8fc8142251e3",
   "metadata": {},
   "source": [
    "Now let's move on building the model. There are 3 main variants of ViT, based on the paper:\n",
    "\n",
    "<center><img src=\"img/torch_03_06.png\" alt=\"drawing\" width=\"450\"/></center>\n",
    "\n",
    "In this notebook we will replicate the simplest one `ViT-Base`, however we will build it in an abstract form so it's easy to switch to another one later if we want."
   ]
  },
  {
   "cell_type": "code",
   "execution_count": 27,
   "id": "9c224092-8052-4548-a83b-8ff4c3b7ef9a",
   "metadata": {},
   "outputs": [],
   "source": [
    "class VisionTransformer(nn.Module):\n",
    "    def __init__(self, input_shape: int, hidden_size: int, patch_size: int, num_heads: int, mlp_size: int, dropout: float, layers: int, num_classes: int):\n",
    "        super().__init__()\n",
    "        \n",
    "        self.input_shape = input_shape\n",
    "        self.hidden_size = hidden_size\n",
    "        self.patch_size = patch_size\n",
    "        self.num_heads = num_heads\n",
    "        self.mlp_size = mlp_size\n",
    "        self.dropout = dropout\n",
    "        self.layers = layers\n",
    "        self.num_classes = num_classes\n",
    "        \n",
    "        self.batch_size = self.input_shape[0]\n",
    "        self.color_channels = self.input_shape[1]\n",
    "        self.height = self.input_shape[2]\n",
    "        self.width = self.input_shape[3]\n",
    "        self.number_of_patches = self._calculate_number_of_patches(H=self.height, W=self.width, P=self.patch_size)\n",
    "\n",
    "        self.x_class = nn.Parameter(torch.randn(self.batch_size, 1, self.hidden_size), requires_grad=True)\n",
    "        self.embedding_layer = nn.Sequential(\n",
    "            nn.Conv2d(in_channels=self.color_channels, out_channels=self.hidden_size, kernel_size=self.patch_size, stride=self.patch_size, padding=0),\n",
    "            nn.Flatten(start_dim=2, end_dim=3))\n",
    "        self.e_pos = nn.Parameter(torch.randn(self.batch_size, int(1+self.number_of_patches), self.hidden_size), requires_grad=True)\n",
    "        \n",
    "        self.transformer_encoder_layer = nn.TransformerEncoderLayer(\n",
    "            d_model=self.hidden_size,\n",
    "            nhead=self.num_heads,\n",
    "            dim_feedforward=self.mlp_size,\n",
    "            dropout=self.dropout,\n",
    "            activation=\"gelu\",\n",
    "            batch_first=True,\n",
    "            norm_first=True)\n",
    "        self.transformer_encoder = nn.TransformerEncoder(self.transformer_encoder_layer, num_layers=self.layers)\n",
    "        \n",
    "        self.classifier = nn.Sequential(\n",
    "            nn.LayerNorm(normalized_shape=self.hidden_size),\n",
    "            nn.Linear(in_features=self.hidden_size, out_features=self.num_classes))\n",
    "  \n",
    "    def forward(self, x):\n",
    "        z_0 = torch.hstack((self.x_class, torch.permute(self.embedding_layer(x), dims=(0,2,1)))) + self.e_pos\n",
    "        z_l = self.transformer_encoder(z_0)\n",
    "        y = self.classifier(z_l[:,0,:])\n",
    "        return y\n",
    "    \n",
    "    @staticmethod\n",
    "    def _calculate_number_of_patches(H,W,P):\n",
    "        return (H * W) / (P**2)"
   ]
  },
  {
   "cell_type": "markdown",
   "id": "8c894c4c-6a70-463e-99b7-dbcb2a736600",
   "metadata": {},
   "source": [
    "> Using the already pre-made `nn.TransformerEncoderLayer` class is more efficient, however we could have actually replicated the class ourselves in the following way:\n",
    ">```python\n",
    "self.layer_norm = nn.LayerNorm(normalized_shape=self.hidden_size)\n",
    "self.multihead_attention = nn.MultiheadAttention(\n",
    "    embed_dim=self.hidden_size, \n",
    "    num_heads=self.num_heads, \n",
    "    dropout=self.msa_dropout, \n",
    "    batch_first=True)\n",
    "self.mlp = nn.Sequential(\n",
    "    nn.Linear(in_features=self.hidden_size, out_features=self.mlp_size),\n",
    "    nn.GELU(),\n",
    "    nn.Dropout(p=self.mlp_dropout),\n",
    "    nn.Linear(in_features=self.mlp_size, out_features=self.hidden_size),\n",
    "    nn.Dropout(p=self.mlp_dropout))\n",
    ">```"
   ]
  },
  {
   "cell_type": "code",
   "execution_count": 28,
   "id": "d520646d-f694-468d-bb4f-e026a24ad226",
   "metadata": {
    "tags": []
   },
   "outputs": [
    {
     "data": {
      "text/plain": [
       "==================================================================================================================================\n",
       "Layer (type (var_name))                            Input Shape          Output Shape         Param #              Trainable\n",
       "==================================================================================================================================\n",
       "VisionTransformer (VisionTransformer)              [32, 3, 224, 224]    [32, 3]              11,953,920           True\n",
       "├─Sequential (embedding_layer)                     [32, 3, 224, 224]    [32, 768, 196]       --                   True\n",
       "│    └─Conv2d (0)                                  [32, 3, 224, 224]    [32, 768, 14, 14]    590,592              True\n",
       "│    └─Flatten (1)                                 [32, 768, 14, 14]    [32, 768, 196]       --                   --\n",
       "├─TransformerEncoder (transformer_encoder)         [32, 197, 768]       [32, 197, 768]       --                   True\n",
       "│    └─ModuleList (layers)                         --                   --                   --                   True\n",
       "│    │    └─TransformerEncoderLayer (0)            [32, 197, 768]       [32, 197, 768]       7,087,872            True\n",
       "│    │    └─TransformerEncoderLayer (1)            [32, 197, 768]       [32, 197, 768]       7,087,872            True\n",
       "│    │    └─TransformerEncoderLayer (2)            [32, 197, 768]       [32, 197, 768]       7,087,872            True\n",
       "│    │    └─TransformerEncoderLayer (3)            [32, 197, 768]       [32, 197, 768]       7,087,872            True\n",
       "│    │    └─TransformerEncoderLayer (4)            [32, 197, 768]       [32, 197, 768]       7,087,872            True\n",
       "│    │    └─TransformerEncoderLayer (5)            [32, 197, 768]       [32, 197, 768]       7,087,872            True\n",
       "│    │    └─TransformerEncoderLayer (6)            [32, 197, 768]       [32, 197, 768]       7,087,872            True\n",
       "│    │    └─TransformerEncoderLayer (7)            [32, 197, 768]       [32, 197, 768]       7,087,872            True\n",
       "│    │    └─TransformerEncoderLayer (8)            [32, 197, 768]       [32, 197, 768]       7,087,872            True\n",
       "│    │    └─TransformerEncoderLayer (9)            [32, 197, 768]       [32, 197, 768]       7,087,872            True\n",
       "│    │    └─TransformerEncoderLayer (10)           [32, 197, 768]       [32, 197, 768]       7,087,872            True\n",
       "│    │    └─TransformerEncoderLayer (11)           [32, 197, 768]       [32, 197, 768]       7,087,872            True\n",
       "├─Sequential (classifier)                          [32, 768]            [32, 3]              --                   True\n",
       "│    └─LayerNorm (0)                               [32, 768]            [32, 768]            1,536                True\n",
       "│    └─Linear (1)                                  [32, 768]            [32, 3]              2,307                True\n",
       "==================================================================================================================================\n",
       "Total params: 97,602,819\n",
       "Trainable params: 97,602,819\n",
       "Non-trainable params: 0\n",
       "Total mult-adds (Units.GIGABYTES): 3.70\n",
       "==================================================================================================================================\n",
       "Input size (MB): 19.27\n",
       "Forward/backward pass size (MB): 38.73\n",
       "Params size (MB): 2.38\n",
       "Estimated Total Size (MB): 60.38\n",
       "=================================================================================================================================="
      ]
     },
     "execution_count": 28,
     "metadata": {},
     "output_type": "execute_result"
    }
   ],
   "source": [
    "image = next(iter(train_dataloader))[0]\n",
    "image_shape = image.shape\n",
    "model = VisionTransformer(input_shape=image_shape, hidden_size=768, patch_size=16, num_heads=12, mlp_size=3072, dropout=0.1, layers=12, num_classes=3)\n",
    "summary(model=model,\n",
    "        input_size=image_shape,\n",
    "        col_names=[\"input_size\", \"output_size\", \"num_params\", \"trainable\"],\n",
    "        col_width=20,\n",
    "        row_settings=[\"var_names\"])"
   ]
  },
  {
   "cell_type": "markdown",
   "id": "5481ff8e-7977-48b3-a2cf-afd84c13e860",
   "metadata": {
    "tags": []
   },
   "source": [
    "We are now ready to train our model. The following code can train our model."
   ]
  },
  {
   "cell_type": "code",
   "execution_count": 29,
   "id": "8b6d3bad-9c86-430b-8995-cc499dafb5ee",
   "metadata": {},
   "outputs": [],
   "source": [
    "%%script false --no-raise-error \n",
    "\n",
    "model = VisionTransformer(input_shape=image_shape, hidden_size=768, patch_size=16, num_heads=12, mlp_size=3072, dropout=0.1, layers=12, num_classes=3)\n",
    "\n",
    "# Taken from paper\n",
    "loss_fn = nn.CrossEntropyLoss()\n",
    "optimizer = torch.optim.Adam(params=model.parameters(), lr=1e-3, betas=(0.9, 0.999), weight_decay=0.1)\n",
    "metrics=[torchmetrics.Accuracy(task=\"multiclass\", num_classes=3)]\n",
    "train(experiment_name=\"cnn\", \n",
    "      description=\"VisionTransformer self built\",\n",
    "      model=model, \n",
    "      data = (train_dataloader, test_dataloader),\n",
    "      loss_fn=loss_fn, \n",
    "      optimizer=optimizer, \n",
    "      metrics=metrics, \n",
    "      epochs=10)"
   ]
  },
  {
   "cell_type": "markdown",
   "id": "aeb9a97a-119c-4631-b0d9-7e019aa75406",
   "metadata": {},
   "source": [
    "Running this code will indeed train our model. However the model is very big for my laptop to train it in its entirety, so instead I will load the pretrained version of Vision Transformer directly from PyTorch and I will freeze the base layers. That way I will trained only the classifier head and it's gonna be much faster."
   ]
  },
  {
   "cell_type": "markdown",
   "id": "e6b00e30-5b68-4275-bc32-6699cab53015",
   "metadata": {},
   "source": [
    "#### Transfer Learning II: Vision Transformer"
   ]
  },
  {
   "cell_type": "code",
   "execution_count": 30,
   "id": "3547ee12-6310-41a9-8125-191342d5818d",
   "metadata": {
    "tags": []
   },
   "outputs": [],
   "source": [
    "# Get pretrained weights for ViT-Base\n",
    "pretrained_vit_weights = torchvision.models.ViT_B_16_Weights.DEFAULT"
   ]
  },
  {
   "cell_type": "code",
   "execution_count": 31,
   "id": "9a044239-b34c-449e-99e4-16fdeb907b7b",
   "metadata": {
    "tags": []
   },
   "outputs": [],
   "source": [
    "# Load transformers\n",
    "pretrained_vit_transformers = pretrained_vit_weights.transforms()"
   ]
  },
  {
   "cell_type": "code",
   "execution_count": 32,
   "id": "62625816-463a-455c-8f0f-92e79a547fa2",
   "metadata": {
    "tags": []
   },
   "outputs": [],
   "source": [
    "# Create dataset\n",
    "train_dataset, test_dataset = make_dataset(\n",
    "    train_dir=\"data/pizza_steak_sushi/train/\",\n",
    "    test_dir=\"data/pizza_steak_sushi/train/\",\n",
    "    train_transform=pretrained_vit_transformers,\n",
    "    test_transform=pretrained_vit_transformers)\n",
    "\n",
    "# Create dataloader\n",
    "train_dataloader, test_dataloader = make_dataloader(\n",
    "    batch_size=BATCH_SIZE, \n",
    "    train_dataset=train_dataset, \n",
    "    test_dataset=test_dataset)"
   ]
  },
  {
   "cell_type": "code",
   "execution_count": 33,
   "id": "3cd2f0c8-352f-43f5-b608-3c3c4021099d",
   "metadata": {
    "tags": []
   },
   "outputs": [
    {
     "data": {
      "text/plain": [
       "============================================================================================================================================\n",
       "Layer (type (var_name))                                      Input Shape          Output Shape         Param #              Trainable\n",
       "============================================================================================================================================\n",
       "VisionTransformer (VisionTransformer)                        [32, 3, 224, 224]    [32, 3]              768                  Partial\n",
       "├─Conv2d (conv_proj)                                         [32, 3, 224, 224]    [32, 768, 14, 14]    (590,592)            False\n",
       "├─Encoder (encoder)                                          [32, 197, 768]       [32, 197, 768]       151,296              False\n",
       "│    └─Dropout (dropout)                                     [32, 197, 768]       [32, 197, 768]       --                   --\n",
       "│    └─Sequential (layers)                                   [32, 197, 768]       [32, 197, 768]       --                   False\n",
       "│    │    └─EncoderBlock (encoder_layer_0)                   [32, 197, 768]       [32, 197, 768]       (7,087,872)          False\n",
       "│    │    └─EncoderBlock (encoder_layer_1)                   [32, 197, 768]       [32, 197, 768]       (7,087,872)          False\n",
       "│    │    └─EncoderBlock (encoder_layer_2)                   [32, 197, 768]       [32, 197, 768]       (7,087,872)          False\n",
       "│    │    └─EncoderBlock (encoder_layer_3)                   [32, 197, 768]       [32, 197, 768]       (7,087,872)          False\n",
       "│    │    └─EncoderBlock (encoder_layer_4)                   [32, 197, 768]       [32, 197, 768]       (7,087,872)          False\n",
       "│    │    └─EncoderBlock (encoder_layer_5)                   [32, 197, 768]       [32, 197, 768]       (7,087,872)          False\n",
       "│    │    └─EncoderBlock (encoder_layer_6)                   [32, 197, 768]       [32, 197, 768]       (7,087,872)          False\n",
       "│    │    └─EncoderBlock (encoder_layer_7)                   [32, 197, 768]       [32, 197, 768]       (7,087,872)          False\n",
       "│    │    └─EncoderBlock (encoder_layer_8)                   [32, 197, 768]       [32, 197, 768]       (7,087,872)          False\n",
       "│    │    └─EncoderBlock (encoder_layer_9)                   [32, 197, 768]       [32, 197, 768]       (7,087,872)          False\n",
       "│    │    └─EncoderBlock (encoder_layer_10)                  [32, 197, 768]       [32, 197, 768]       (7,087,872)          False\n",
       "│    │    └─EncoderBlock (encoder_layer_11)                  [32, 197, 768]       [32, 197, 768]       (7,087,872)          False\n",
       "│    └─LayerNorm (ln)                                        [32, 197, 768]       [32, 197, 768]       (1,536)              False\n",
       "├─Linear (heads)                                             [32, 768]            [32, 3]              2,307                True\n",
       "============================================================================================================================================\n",
       "Total params: 85,800,963\n",
       "Trainable params: 2,307\n",
       "Non-trainable params: 85,798,656\n",
       "Total mult-adds (Units.GIGABYTES): 5.52\n",
       "============================================================================================================================================\n",
       "Input size (MB): 19.27\n",
       "Forward/backward pass size (MB): 3330.74\n",
       "Params size (MB): 229.20\n",
       "Estimated Total Size (MB): 3579.21\n",
       "============================================================================================================================================"
      ]
     },
     "execution_count": 33,
     "metadata": {},
     "output_type": "execute_result"
    }
   ],
   "source": [
    "# Setup ViT model instance with pretrained weights\n",
    "model = torchvision.models.vit_b_16(weights=pretrained_vit_weights)\n",
    "model.name = \"vision_transformer\"\n",
    "\n",
    "# Freeze base parameters\n",
    "for parameter in model.parameters():\n",
    "    parameter.requires_grad = False\n",
    "\n",
    "# Update classifier head\n",
    "torch.manual_seed(42)\n",
    "model.heads = nn.Linear(in_features=768, out_features=3)\n",
    "\n",
    "# Feed random image\n",
    "image = next(iter(train_dataloader))[0]\n",
    "image_shape = image.shape\n",
    "\n",
    "# Plot summary\n",
    "summary(model=model, input_size=image_shape, col_names=[\"input_size\", \"output_size\", \"num_params\", \"trainable\"], col_width=20, row_settings=[\"var_names\"])"
   ]
  },
  {
   "cell_type": "code",
   "execution_count": 35,
   "id": "e0e27dff-f65e-4f1d-9402-90ed94f4ebe8",
   "metadata": {
    "tags": []
   },
   "outputs": [
    {
     "name": "stdout",
     "output_type": "stream",
     "text": [
      "Epoch: 0 | Train Loss: 0.135 | Validation Loss: 0.108\n",
      "Epoch: 1 | Train Loss: 0.104 | Validation Loss: 0.089\n",
      "Epoch: 2 | Train Loss: 0.096 | Validation Loss: 0.081\n",
      "Epoch: 3 | Train Loss: 0.075 | Validation Loss: 0.071\n",
      "Epoch: 4 | Train Loss: 0.064 | Validation Loss: 0.069\n"
     ]
    },
    {
     "data": {
      "image/png": "[encoded data removed]",
      "text/plain": [
       "<Figure size 600x300 with 1 Axes>"
      ]
     },
     "metadata": {},
     "output_type": "display_data"
    }
   ],
   "source": [
    "# Taken from paper\n",
    "loss_fn = nn.CrossEntropyLoss()\n",
    "optimizer = torch.optim.Adam(params=model.parameters(), lr=1e-3, betas=(0.9, 0.999), weight_decay=0.1)\n",
    "metrics=[torchmetrics.Accuracy(task=\"multiclass\", num_classes=3)]\n",
    "train(experiment_name=\"cnn\", \n",
    "      description=\"Pretrained ViT for 10 epochs\",\n",
    "      model=model, \n",
    "      data = (train_dataloader, test_dataloader),\n",
    "      loss_fn=loss_fn, \n",
    "      optimizer=optimizer, \n",
    "      metrics=metrics, \n",
    "      epochs=5)"
   ]
  }
 ],
 "metadata": {
  "kernelspec": {
   "display_name": "Python 3 (ipykernel)",
   "language": "python",
   "name": "python3"
  },
  "language_info": {
   "codemirror_mode": {
    "name": "ipython",
    "version": 3
   },
   "file_extension": ".py",
   "mimetype": "text/x-python",
   "name": "python",
   "nbconvert_exporter": "python",
   "pygments_lexer": "ipython3",
   "version": "3.11.1"
  },
  "toc-autonumbering": true,
  "toc-showcode": false,
  "toc-showtags": false
 },
 "nbformat": 4,
 "nbformat_minor": 5
}
