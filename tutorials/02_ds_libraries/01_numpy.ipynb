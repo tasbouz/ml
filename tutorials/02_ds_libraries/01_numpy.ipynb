{
 "cells": [
  {
   "cell_type": "markdown",
   "metadata": {
    "tags": []
   },
   "source": [
    "<center><img src=\"img/numpy.png\" alt=\"drawing\" width=\"150\"/></center>"
   ]
  },
  {
   "cell_type": "markdown",
   "metadata": {
    "tags": []
   },
   "source": [
    "# NumPy"
   ]
  },
  {
   "cell_type": "markdown",
   "metadata": {
    "jp-MarkdownHeadingCollapsed": true,
    "tags": []
   },
   "source": [
    "\n",
    "NumPy, standing from Numerical Python, is a library for the Python programming language, adding support for large, multi-dimensional arrays and matrices, along with a large collection of high-level mathematical functions from the domain of linear algebra, fourier transform, and matrices to operate on these arrays. \n",
    "\n",
    "The ancestor of NumPy, Numeric, was originally created by Jim Hugunin with contributions from several other developers. In 2005, Travis Oliphant created NumPy by incorporating features of the competing Numarray into Numeric, with extensive modifications. NumPy is open-source software and has many contributors.\n",
    "\n",
    "So, why use NumPy? In Python we have lists that serve the purpose of arrays, but they are slow to process. NumPy aims to provide an array object that is up to 50x faster than traditional Python lists. The array object in NumPy is called ndarray and it provides a lot of supporting functions that make working with ndarray very easy. NumPy arrays are stored at one continuous place in memory unlike lists, so processes can access and manipulate them very efficiently. This behavior is called locality of reference in computer science. Also they are optimized to work with latest CPU architectures.\n",
    "\n",
    "NumPy as a Python library is written partially in Python, but most of the parts that require fast computation are written in C or C++. The source code for NumPy is located at [this github repository](https://github.com/numpy/numpy)."
   ]
  },
  {
   "cell_type": "code",
   "execution_count": 4,
   "metadata": {},
   "outputs": [],
   "source": [
    "import numpy as np"
   ]
  },
  {
   "cell_type": "markdown",
   "metadata": {},
   "source": [
    "## NumPy Arrays"
   ]
  },
  {
   "cell_type": "markdown",
   "metadata": {},
   "source": [
    "NumPy is used to work with arrays. The array object in NumPy is called ndarray. We can create a NumPy ndarray object by using the `array()` function. To create an ndarray, we can pass a list, tuple or any array-like object into the `array()` method, and it will be converted into an ndarray.\n",
    "\n",
    "A dimension in arrays is one level of array depth in nested arrays (arrays that have arrays as their elements).\n",
    "\n",
    "* **0-D Arrays**: 0-D arrays, or Scalars, are the elements in an array. Each value in an array is a 0-D array.\n",
    "* **1-D Arrays**: An array that has 0-D arrays as its elements is called vector or 1-D array. These are the most common and basic arrays.\n",
    "* **2-D Arrays**: An array that has 1-D arrays as its elements is called matrix, or 2nd order tensor, or 2-D array.\n",
    "* **3-D Arrays**: An array that has 2-D arrays as its elements is called 3rd order tensor, or 3-D array.\n",
    "\n",
    "<center><img src=\"img/numpy01.png\" alt=\"drawing\" width=\"650\"/></center>\n",
    "\n"
   ]
  },
  {
   "cell_type": "code",
   "execution_count": 14,
   "metadata": {},
   "outputs": [
    {
     "data": {
      "text/plain": [
       "(array(42),\n",
       " array([1, 2, 3, 4, 5]),\n",
       " array([[1, 2, 3],\n",
       "        [4, 5, 6]]),\n",
       " array([[[1, 2, 3],\n",
       "         [4, 5, 6]],\n",
       " \n",
       "        [[1, 2, 3],\n",
       "         [4, 5, 6]]]))"
      ]
     },
     "execution_count": 14,
     "metadata": {},
     "output_type": "execute_result"
    }
   ],
   "source": [
    "arr_0d = np.array(42)\n",
    "\n",
    "arr_1d = np.array([1, 2, 3,4,5])\n",
    "\n",
    "arr_2d = np.array([[1, 2, 3],\n",
    "                   [4, 5, 6]])\n",
    "\n",
    "arr_3d = np.array([[[1, 2, 3],\n",
    "                    [4, 5, 6]],\n",
    " \n",
    "                   [[1, 2, 3],\n",
    "                    [4, 5, 6]]])\n",
    "\n",
    "arr_0d, arr_1d, arr_2d, arr_3d"
   ]
  },
  {
   "cell_type": "code",
   "execution_count": 15,
   "metadata": {},
   "outputs": [
    {
     "data": {
      "text/plain": [
       "(numpy.ndarray, numpy.ndarray, numpy.ndarray, numpy.ndarray)"
      ]
     },
     "execution_count": 15,
     "metadata": {},
     "output_type": "execute_result"
    }
   ],
   "source": [
    "type(arr_0d), type(arr_1d), type(arr_2d), type(arr_3d)"
   ]
  },
  {
   "cell_type": "markdown",
   "metadata": {},
   "source": [
    "NumPy arrays provides the `ndim` attribute that returns an integer that tells us how many dimensions the array have."
   ]
  },
  {
   "cell_type": "code",
   "execution_count": 16,
   "metadata": {},
   "outputs": [
    {
     "data": {
      "text/plain": [
       "(0, 1, 2, 3)"
      ]
     },
     "execution_count": 16,
     "metadata": {},
     "output_type": "execute_result"
    }
   ],
   "source": [
    "arr_0d.ndim, arr_1d.ndim, arr_2d.ndim, arr_3d.ndim"
   ]
  },
  {
   "cell_type": "markdown",
   "metadata": {},
   "source": [
    "Of course, an array can have any number of dimensions. When the array is created, you can define the number of dimensions by using the ndmin argument."
   ]
  },
  {
   "cell_type": "code",
   "execution_count": 17,
   "metadata": {},
   "outputs": [
    {
     "data": {
      "text/plain": [
       "array([[[[[1, 2, 3, 4]]]]])"
      ]
     },
     "execution_count": 17,
     "metadata": {},
     "output_type": "execute_result"
    }
   ],
   "source": [
    "arr_5d = np.array([1, 2, 3, 4], ndmin=5)\n",
    "arr_5d"
   ]
  },
  {
   "cell_type": "markdown",
   "metadata": {},
   "source": [
    "In this array the innermost dimension (5th dim) has 4 elements, the 4th dim has 1 element that is the vector, the 3rd dim has 1 element that is the matrix with the vector, the 2nd dim has 1 element that is 3D array and 1st dim has 1 element that is a 4D array.\n",
    "\n",
    "Arrays carry their own attributes. Among the most important ones are:\n",
    "\n",
    "* **Shape**: The length (number of elements) of each of the dimensions of an array.\n",
    "* **Type**: The data type of the elements of the array.\n",
    "* **Rank**: The number of array dimensions.\n",
    "* **Size**: The total number of items in the array."
   ]
  },
  {
   "cell_type": "code",
   "execution_count": 30,
   "metadata": {},
   "outputs": [
    {
     "name": "stdout",
     "output_type": "stream",
     "text": [
      "Shape: (4,)\n",
      "Type: int64\n",
      "Rank: 1\n",
      "Size: 4\n"
     ]
    }
   ],
   "source": [
    "print(\"Shape:\", array_1d.shape)\n",
    "print(\"Type:\", array_1d.dtype)\n",
    "print(\"Rank:\", array_1d.ndim)\n",
    "print(\"Size:\", array_1d.size)"
   ]
  },
  {
   "cell_type": "markdown",
   "metadata": {},
   "source": [
    "Arrays are indexed just like Python lists."
   ]
  },
  {
   "cell_type": "code",
   "execution_count": 31,
   "metadata": {},
   "outputs": [
    {
     "data": {
      "text/plain": [
       "array([6., 7.])"
      ]
     },
     "execution_count": 31,
     "metadata": {},
     "output_type": "execute_result"
    }
   ],
   "source": [
    "array_2d[1][1:3]                                                                                       "
   ]
  },
  {
   "cell_type": "markdown",
   "metadata": {},
   "source": [
    "Numpy also accepts changing the elements of an array directly through indexing."
   ]
  },
  {
   "cell_type": "code",
   "execution_count": 32,
   "metadata": {},
   "outputs": [],
   "source": [
    "array_2d[1][2] = 5  "
   ]
  },
  {
   "cell_type": "markdown",
   "metadata": {},
   "source": [
    "Additionaly one can also use conditional indexing."
   ]
  },
  {
   "cell_type": "code",
   "execution_count": 37,
   "metadata": {},
   "outputs": [
    {
     "data": {
      "text/plain": [
       "array([3., 4., 5., 6., 5., 8.])"
      ]
     },
     "execution_count": 37,
     "metadata": {},
     "output_type": "execute_result"
    }
   ],
   "source": [
    "array_2d[array_2d>2]                                                                                 "
   ]
  },
  {
   "cell_type": "markdown",
   "metadata": {},
   "source": [
    "Or to obtain the indices of the conditiona selection:"
   ]
  },
  {
   "cell_type": "code",
   "execution_count": 39,
   "metadata": {},
   "outputs": [
    {
     "data": {
      "text/plain": [
       "(array([0, 0, 1, 1, 1, 1]), array([2, 3, 0, 1, 2, 3]))"
      ]
     },
     "execution_count": 39,
     "metadata": {},
     "output_type": "execute_result"
    }
   ],
   "source": [
    "np.where(array_2d>2)   "
   ]
  },
  {
   "cell_type": "markdown",
   "metadata": {},
   "source": [
    "There are some other ways to create arrays."
   ]
  },
  {
   "cell_type": "code",
   "execution_count": 17,
   "metadata": {},
   "outputs": [
    {
     "data": {
      "text/plain": [
       "(array([[0., 0., 0.],\n",
       "        [0., 0., 0.]]),\n",
       " array([[1., 1.],\n",
       "        [1., 1.],\n",
       "        [1., 1.]]))"
      ]
     },
     "execution_count": 17,
     "metadata": {},
     "output_type": "execute_result"
    }
   ],
   "source": [
    "# an array of given dimensions full with 0's and 1's!\n",
    "zeros = np.zeros((2,3))   \n",
    "ones = np.ones((3,2))\n",
    "zeros, ones"
   ]
  },
  {
   "cell_type": "code",
   "execution_count": 21,
   "metadata": {},
   "outputs": [
    {
     "data": {
      "text/plain": [
       "(array([[7, 7, 7],\n",
       "        [7, 7, 7]]),\n",
       " array([[10, 10],\n",
       "        [10, 10],\n",
       "        [10, 10]]))"
      ]
     },
     "execution_count": 21,
     "metadata": {},
     "output_type": "execute_result"
    }
   ],
   "source": [
    "# general form\n",
    "sevens = np.full(shape = (2, 3), fill_value = 7)\n",
    "tens = np.full(shape = (3, 2), fill_value = 10)\n",
    "sevens, tens"
   ]
  },
  {
   "cell_type": "markdown",
   "metadata": {},
   "source": [
    "Random arrays are arrays of some abitrary size which contain random numbers."
   ]
  },
  {
   "cell_type": "code",
   "execution_count": 46,
   "metadata": {},
   "outputs": [],
   "source": [
    "# set specific seed for reproducibility\n",
    "np.random.seed(42)"
   ]
  },
  {
   "cell_type": "code",
   "execution_count": 47,
   "metadata": {
    "tags": []
   },
   "outputs": [
    {
     "data": {
      "text/plain": [
       "(49.2, 996.8599999999999, 31.573089807619397, 52.5, 52.5, 91)"
      ]
     },
     "execution_count": 47,
     "metadata": {},
     "output_type": "execute_result"
    }
   ],
   "source": [
    "# generate 20 random integers < 100\n",
    "X = np.random.randint(1, 100, size=20)\n",
    "Y = np.random.randint(1, 100, size=20)  \n",
    "\n",
    "# basic statistics\n",
    "np.mean(X), np.var(X), np.std(X), np.median(X), np.percentile(X, q=50), np.ptp(X)"
   ]
  },
  {
   "cell_type": "markdown",
   "metadata": {},
   "source": [
    "Once can compute covariance and correlation between two arrays."
   ]
  },
  {
   "cell_type": "code",
   "execution_count": 48,
   "metadata": {
    "tags": []
   },
   "outputs": [
    {
     "data": {
      "text/plain": [
       "array([[1049.32631579,  133.11578947],\n",
       "       [ 133.11578947,  510.06315789]])"
      ]
     },
     "execution_count": 48,
     "metadata": {},
     "output_type": "execute_result"
    }
   ],
   "source": [
    "# covariance matrix\n",
    "np.cov(X,Y)"
   ]
  },
  {
   "cell_type": "code",
   "execution_count": 49,
   "metadata": {
    "tags": []
   },
   "outputs": [
    {
     "data": {
      "text/plain": [
       "array([[1.       , 0.1819543],\n",
       "       [0.1819543, 1.       ]])"
      ]
     },
     "execution_count": 49,
     "metadata": {},
     "output_type": "execute_result"
    }
   ],
   "source": [
    "# correlation matrix\n",
    "np.corrcoef(X, Y)"
   ]
  },
  {
   "cell_type": "markdown",
   "metadata": {},
   "source": [
    "Basic mathematical operations can be performed withe usual mathematical symbols, or in a more nympy way like following."
   ]
  },
  {
   "cell_type": "code",
   "execution_count": 51,
   "metadata": {},
   "outputs": [
    {
     "data": {
      "text/plain": [
       "(array([[5, 8]]),\n",
       " array([[ 6, 12]]),\n",
       " array([[18]]),\n",
       " array([[1.5, 3. ]]),\n",
       " array([[ 9, 36]]))"
      ]
     },
     "execution_count": 51,
     "metadata": {},
     "output_type": "execute_result"
    }
   ],
   "source": [
    "a = np.array([[3, 6]])\n",
    "b = np.array([[2, 2]])\n",
    "\n",
    "# element wise addition\n",
    "addition = np.add(a,b)\n",
    "\n",
    "# element wise multiplication\n",
    "multiplication = np.multiply(a,b)\n",
    "\n",
    "# matrix multiplication (reshaping needed)\n",
    "matrix_multiplication = np.matmul(np.reshape(a, [1, 2]), np.reshape(b, [2, 1]))\n",
    "\n",
    "# element wise division\n",
    "division = np.divide(a, b)\n",
    "\n",
    "# element wise rise to power\n",
    "power = np.power(a,b)\n",
    "\n",
    "addition, multiplication, matrix_multiplication, division, power"
   ]
  },
  {
   "cell_type": "markdown",
   "metadata": {},
   "source": [
    "Some more basic operation functions."
   ]
  },
  {
   "cell_type": "code",
   "execution_count": 53,
   "metadata": {},
   "outputs": [
    {
     "data": {
      "text/plain": [
       "(array([ 1,  4,  9, 16]),\n",
       " array([1.        , 1.41421356, 1.73205081, 2.        ]),\n",
       " array([1, 2, 3, 4]),\n",
       " 1,\n",
       " 0,\n",
       " 4,\n",
       " 3)"
      ]
     },
     "execution_count": 53,
     "metadata": {},
     "output_type": "execute_result"
    }
   ],
   "source": [
    "# square\n",
    "square = np.square(array_1d)\n",
    "\n",
    "# square root\n",
    "sqrt = np.sqrt(array_1d)\n",
    "\n",
    "# absolute values\n",
    "absolute_value = np.abs(array_1d)\n",
    "\n",
    "# find the minimum\n",
    "reduce_min = np.min(array_1d)\n",
    "\n",
    "# find the minimum element position\n",
    "argmin = np.argmin(array_1d)\n",
    "\n",
    "# find the maximum\n",
    "reduce_max = np.max(array_1d)\n",
    "\n",
    "# find the maximum element position\n",
    "argmax = np.argmax(array_1d)\n",
    "\n",
    "square, sqrt, absolute_value, reduce_min, argmin, reduce_max, argmax"
   ]
  }
 ],
 "metadata": {
  "kernelspec": {
   "display_name": "Python 3 (ipykernel)",
   "language": "python",
   "name": "python3"
  },
  "language_info": {
   "codemirror_mode": {
    "name": "ipython",
    "version": 3
   },
   "file_extension": ".py",
   "mimetype": "text/x-python",
   "name": "python",
   "nbconvert_exporter": "python",
   "pygments_lexer": "ipython3",
   "version": "3.11.1"
  },
  "toc-autonumbering": true
 },
 "nbformat": 4,
 "nbformat_minor": 4
}
