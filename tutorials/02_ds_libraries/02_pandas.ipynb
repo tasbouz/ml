{
 "cells": [
  {
   "cell_type": "markdown",
   "metadata": {
    "tags": []
   },
   "source": [
    "<center><img src=\"img/pandas.png\" alt=\"drawing\" width=\"150\"/></center>"
   ]
  },
  {
   "cell_type": "markdown",
   "metadata": {
    "tags": []
   },
   "source": [
    "# Pandas"
   ]
  },
  {
   "cell_type": "markdown",
   "metadata": {},
   "source": [
    "Pandas is a free software library written for the Python programming language for data manipulation and analysis. In particular, it offers data structures and operations for manipulating numerical tables and time series. The name is derived from the term \"panel data\", an econometrics term for data sets that include observations over multiple time periods for the same individuals. Its name is a play on the phrase \"Python data analysis\" itself."
   ]
  },
  {
   "cell_type": "code",
   "execution_count": null,
   "metadata": {},
   "outputs": [],
   "source": [
    "import pandas as pd"
   ]
  },
  {
   "cell_type": "markdown",
   "metadata": {},
   "source": [
    "## Pandas Series"
   ]
  },
  {
   "cell_type": "markdown",
   "metadata": {},
   "source": [
    "A Pandas Series is like a column in a table. It is a one-dimensional array holding data of any type."
   ]
  },
  {
   "cell_type": "code",
   "execution_count": 57,
   "metadata": {
    "tags": []
   },
   "outputs": [
    {
     "data": {
      "text/plain": [
       "0      34\n",
       "1    john\n",
       "2     doe\n",
       "dtype: object"
      ]
     },
     "execution_count": 57,
     "metadata": {},
     "output_type": "execute_result"
    }
   ],
   "source": [
    "s1 = pd.Series([34,'john','doe'])\n",
    "s1"
   ]
  },
  {
   "cell_type": "code",
   "execution_count": 59,
   "metadata": {},
   "outputs": [
    {
     "data": {
      "text/plain": [
       "age          34\n",
       "name       john\n",
       "surname     joe\n",
       "dtype: object"
      ]
     },
     "execution_count": 59,
     "metadata": {},
     "output_type": "execute_result"
    }
   ],
   "source": [
    "# or including labels\n",
    "s2 = pd.Series({\n",
    "    'age':34, \n",
    "    'name':'john',\n",
    "    'surname':'joe'\n",
    "}) \n",
    "s2"
   ]
  },
  {
   "cell_type": "markdown",
   "metadata": {},
   "source": [
    "## Dataframes"
   ]
  },
  {
   "cell_type": "markdown",
   "metadata": {},
   "source": [
    "A Pandas DataFrame is a 2 dimensional data structure, like a 2 dimensional array, or a table with rows and columns. In essense a dataframe is a collection of series."
   ]
  },
  {
   "cell_type": "code",
   "execution_count": 60,
   "metadata": {},
   "outputs": [
    {
     "data": {
      "text/html": [
       "<div>\n",
       "<style scoped>\n",
       "    .dataframe tbody tr th:only-of-type {\n",
       "        vertical-align: middle;\n",
       "    }\n",
       "\n",
       "    .dataframe tbody tr th {\n",
       "        vertical-align: top;\n",
       "    }\n",
       "\n",
       "    .dataframe thead th {\n",
       "        text-align: right;\n",
       "    }\n",
       "</style>\n",
       "<table border=\"1\" class=\"dataframe\">\n",
       "  <thead>\n",
       "    <tr style=\"text-align: right;\">\n",
       "      <th></th>\n",
       "      <th>age</th>\n",
       "      <th>name</th>\n",
       "      <th>surname</th>\n",
       "    </tr>\n",
       "  </thead>\n",
       "  <tbody>\n",
       "    <tr>\n",
       "      <th>0</th>\n",
       "      <td>34</td>\n",
       "      <td>john</td>\n",
       "      <td>doe</td>\n",
       "    </tr>\n",
       "    <tr>\n",
       "      <th>1</th>\n",
       "      <td>43</td>\n",
       "      <td>alice</td>\n",
       "      <td>cooper</td>\n",
       "    </tr>\n",
       "  </tbody>\n",
       "</table>\n",
       "</div>"
      ],
      "text/plain": [
       "   age   name surname\n",
       "0   34   john     doe\n",
       "1   43  alice  cooper"
      ]
     },
     "execution_count": 60,
     "metadata": {},
     "output_type": "execute_result"
    }
   ],
   "source": [
    "# Dataframe: Every dictionary a new row. Each key of dictionary a column\n",
    "df = pd.DataFrame([\n",
    "    {'age':34, 'name':'john', 'surname':'doe'},         \n",
    "    {'age':43, 'name':'alice', 'surname':'cooper'}\n",
    "])                        \n",
    "df"
   ]
  },
  {
   "cell_type": "markdown",
   "metadata": {},
   "source": [
    "More often than not, one loads a dataframe instead of creating it."
   ]
  },
  {
   "cell_type": "code",
   "execution_count": null,
   "metadata": {
    "tags": []
   },
   "outputs": [],
   "source": [
    "# load data as Datafrane\n",
    "df = pd.read_table('path_to_csv',                                 \n",
    "                   sep = ',', # defines the seperator. Default of read_table: tabs\n",
    "                   header = None, # if there is a header or not.   \n",
    "                   usecols = [0,4], # specific columns to read. Works also with name of the columns\n",
    "                   names = ['col1','col2'], # names of the columns. MUST USE header = 0 for this one to work.\n",
    "                   index = 'col1', # which column is the index. If none, creates an index by itself\n",
    "                   skiprows = 12, # line numbers to skip (0-indexed)\n",
    "                   nrows = 12) # Read only the first 12 rows\n",
    "                      \n",
    "# saves dataframe as a csv\n",
    "pd.DataFrame().to_csv('name')"
   ]
  },
  {
   "cell_type": "markdown",
   "metadata": {},
   "source": [
    "Dataframes carry some basic methods and attributes. Here are just some of the most useful ones."
   ]
  },
  {
   "cell_type": "code",
   "execution_count": null,
   "metadata": {},
   "outputs": [],
   "source": [
    "# show the 10 first rows. Default value = 5\n",
    "df.head(10) \n",
    "\n",
    "# Show the 10 last rows. Default value = 5\n",
    "df.tail(10)\n",
    "\n",
    "# basic statistics per column\n",
    "df.describe() \n",
    "\n",
    "# tupple: (Rows, Columns)\n",
    "df.shape\n",
    "\n",
    "# type of the values in each column\n",
    "df.dtypes   \n",
    "\n",
    "# informations on the index\n",
    "df.index \n",
    "\n",
    "# use column col1 as the index\n",
    "df.set_index('col1')\n",
    "\n",
    "# create another set of indices and put the old index back as a column (drop=True drops the old index)\n",
    "df.reset_index(drop=True)    \n",
    "\n",
    "# a list with the names of columns. One can change them by setting them equal to another list.\n",
    "df.columns\n",
    "\n",
    "# drops col1 from df (axis=0 -> rows, axis=1 -> columns)\n",
    "df.drop('col1', axis=1)  \n",
    "\n",
    "# renames columns\n",
    "df.rename({'old_name':'new_name'}) \n",
    "\n",
    "# selects column named 'col1' from Dataframe df. This object is a pandas series.\n",
    "df.col1 or df['col1']\n",
    "\n",
    "# unique values of column col1\n",
    "df.col1.unique()\n",
    "\n",
    "# number of unique values of column col1.\n",
    "df.col1.nunique()\n",
    "\n",
    "# count occurences of unique values (normalize = True, gives percentages instead of pure counts)\n",
    "df.col1.value_counts(normalize = True)   \n",
    "\n",
    "# conditional selection\n",
    "df[df.col1 = 'hey']\n",
    "\n",
    "# access a group of rows and columns by label(s)\n",
    "df.loc['Greece', 'col1']     \n",
    "\n",
    "# purely integer-location based indexing for selection by position\n",
    "df.iloc[12,1]     \n",
    "\n",
    "# sort values of dataframe (default ascending = True)\n",
    "df.sort_values('col1', ascending = False)  \n",
    "\n",
    "# groups data and select a lot of statistics\n",
    "df.groupby('col1').agg(['min', 'max', 'mean'])"
   ]
  }
 ],
 "metadata": {
  "kernelspec": {
   "display_name": "Python 3 (ipykernel)",
   "language": "python",
   "name": "python3"
  },
  "language_info": {
   "codemirror_mode": {
    "name": "ipython",
    "version": 3
   },
   "file_extension": ".py",
   "mimetype": "text/x-python",
   "name": "python",
   "nbconvert_exporter": "python",
   "pygments_lexer": "ipython3",
   "version": "3.11.1"
  },
  "toc-autonumbering": true
 },
 "nbformat": 4,
 "nbformat_minor": 4
}
